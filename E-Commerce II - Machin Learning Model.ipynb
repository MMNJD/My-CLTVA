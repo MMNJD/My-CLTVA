{
 "cells": [
  {
   "cell_type": "code",
   "execution_count": 3,
   "metadata": {
    "scrolled": true
   },
   "outputs": [],
   "source": [
    "# Import our modules\n",
    "import pandas as pd \n",
    "import numpy as np\n",
    "import matplotlib.pyplot as plt\n",
    "import seaborn as sns \n",
    "\n",
    "import warnings\n",
    "# current version of seaborn generates a bunch of warnings that I'll ignore\n",
    "warnings.filterwarnings('ignore')\n",
    "sns.set_style('whitegrid')\n",
    "\n",
    "#import missingno as msno # missing data visualization module for Python\n",
    "\n",
    "\n",
    "import gc\n",
    "import datetime\n",
    "\n",
    "%matplotlib inline\n",
    "# Using ggplot's style\n",
    "plt.style.use('ggplot')"
   ]
  },
  {
   "cell_type": "code",
   "execution_count": 4,
   "metadata": {},
   "outputs": [
    {
     "data": {
      "text/html": [
       "<div>\n",
       "<style scoped>\n",
       "    .dataframe tbody tr th:only-of-type {\n",
       "        vertical-align: middle;\n",
       "    }\n",
       "\n",
       "    .dataframe tbody tr th {\n",
       "        vertical-align: top;\n",
       "    }\n",
       "\n",
       "    .dataframe thead th {\n",
       "        text-align: right;\n",
       "    }\n",
       "</style>\n",
       "<table border=\"1\" class=\"dataframe\">\n",
       "  <thead>\n",
       "    <tr style=\"text-align: right;\">\n",
       "      <th></th>\n",
       "      <th>Invoice</th>\n",
       "      <th>StockCode</th>\n",
       "      <th>Description</th>\n",
       "      <th>Quantity</th>\n",
       "      <th>InvoiceDate</th>\n",
       "      <th>Price</th>\n",
       "      <th>Customer ID</th>\n",
       "      <th>Country</th>\n",
       "    </tr>\n",
       "  </thead>\n",
       "  <tbody>\n",
       "    <tr>\n",
       "      <th>0</th>\n",
       "      <td>489434</td>\n",
       "      <td>85048</td>\n",
       "      <td>15CM CHRISTMAS GLASS BALL 20 LIGHTS</td>\n",
       "      <td>12</td>\n",
       "      <td>2009-12-01 07:45:00</td>\n",
       "      <td>6.95</td>\n",
       "      <td>13085.0</td>\n",
       "      <td>United Kingdom</td>\n",
       "    </tr>\n",
       "    <tr>\n",
       "      <th>1</th>\n",
       "      <td>489434</td>\n",
       "      <td>79323P</td>\n",
       "      <td>PINK CHERRY LIGHTS</td>\n",
       "      <td>12</td>\n",
       "      <td>2009-12-01 07:45:00</td>\n",
       "      <td>6.75</td>\n",
       "      <td>13085.0</td>\n",
       "      <td>United Kingdom</td>\n",
       "    </tr>\n",
       "    <tr>\n",
       "      <th>2</th>\n",
       "      <td>489434</td>\n",
       "      <td>79323W</td>\n",
       "      <td>WHITE CHERRY LIGHTS</td>\n",
       "      <td>12</td>\n",
       "      <td>2009-12-01 07:45:00</td>\n",
       "      <td>6.75</td>\n",
       "      <td>13085.0</td>\n",
       "      <td>United Kingdom</td>\n",
       "    </tr>\n",
       "    <tr>\n",
       "      <th>3</th>\n",
       "      <td>489434</td>\n",
       "      <td>22041</td>\n",
       "      <td>RECORD FRAME 7\" SINGLE SIZE</td>\n",
       "      <td>48</td>\n",
       "      <td>2009-12-01 07:45:00</td>\n",
       "      <td>2.10</td>\n",
       "      <td>13085.0</td>\n",
       "      <td>United Kingdom</td>\n",
       "    </tr>\n",
       "    <tr>\n",
       "      <th>4</th>\n",
       "      <td>489434</td>\n",
       "      <td>21232</td>\n",
       "      <td>STRAWBERRY CERAMIC TRINKET BOX</td>\n",
       "      <td>24</td>\n",
       "      <td>2009-12-01 07:45:00</td>\n",
       "      <td>1.25</td>\n",
       "      <td>13085.0</td>\n",
       "      <td>United Kingdom</td>\n",
       "    </tr>\n",
       "  </tbody>\n",
       "</table>\n",
       "</div>"
      ],
      "text/plain": [
       "  Invoice StockCode                          Description  Quantity  \\\n",
       "0  489434     85048  15CM CHRISTMAS GLASS BALL 20 LIGHTS        12   \n",
       "1  489434    79323P                   PINK CHERRY LIGHTS        12   \n",
       "2  489434    79323W                  WHITE CHERRY LIGHTS        12   \n",
       "3  489434     22041         RECORD FRAME 7\" SINGLE SIZE         48   \n",
       "4  489434     21232       STRAWBERRY CERAMIC TRINKET BOX        24   \n",
       "\n",
       "           InvoiceDate  Price  Customer ID         Country  \n",
       "0  2009-12-01 07:45:00   6.95      13085.0  United Kingdom  \n",
       "1  2009-12-01 07:45:00   6.75      13085.0  United Kingdom  \n",
       "2  2009-12-01 07:45:00   6.75      13085.0  United Kingdom  \n",
       "3  2009-12-01 07:45:00   2.10      13085.0  United Kingdom  \n",
       "4  2009-12-01 07:45:00   1.25      13085.0  United Kingdom  "
      ]
     },
     "execution_count": 4,
     "metadata": {},
     "output_type": "execute_result"
    }
   ],
   "source": [
    "\n",
    "file=\"c:\\\\Users\\mehrz\\Documents\\Python Scripts\\online_retail_2.csv\"\n",
    "\n",
    "#file=\"https://archive.ics.uci.edu/ml/machine-learning-databases/00502/online_retail_II.xlsx\"\n",
    "\n",
    "df= pd.read_csv(file)\n",
    "\n",
    "df.head()"
   ]
  },
  {
   "cell_type": "code",
   "execution_count": 5,
   "metadata": {},
   "outputs": [
    {
     "data": {
      "text/plain": [
       "(1067371, 8)"
      ]
     },
     "execution_count": 5,
     "metadata": {},
     "output_type": "execute_result"
    }
   ],
   "source": [
    "df.shape"
   ]
  },
  {
   "cell_type": "markdown",
   "metadata": {},
   "source": [
    "# Remove missing data"
   ]
  },
  {
   "cell_type": "code",
   "execution_count": 6,
   "metadata": {},
   "outputs": [
    {
     "data": {
      "text/plain": [
       "Customer ID    243007\n",
       "Description      4382\n",
       "Country             0\n",
       "Price               0\n",
       "InvoiceDate         0\n",
       "Quantity            0\n",
       "StockCode           0\n",
       "Invoice             0\n",
       "dtype: int64"
      ]
     },
     "execution_count": 6,
     "metadata": {},
     "output_type": "execute_result"
    }
   ],
   "source": [
    "#check missing values for each column\n",
    "df.isnull().sum().sort_values(ascending=False)"
   ]
  },
  {
   "cell_type": "code",
   "execution_count": 7,
   "metadata": {},
   "outputs": [
    {
     "data": {
      "text/html": [
       "<div>\n",
       "<style scoped>\n",
       "    .dataframe tbody tr th:only-of-type {\n",
       "        vertical-align: middle;\n",
       "    }\n",
       "\n",
       "    .dataframe tbody tr th {\n",
       "        vertical-align: top;\n",
       "    }\n",
       "\n",
       "    .dataframe thead th {\n",
       "        text-align: right;\n",
       "    }\n",
       "</style>\n",
       "<table border=\"1\" class=\"dataframe\">\n",
       "  <thead>\n",
       "    <tr style=\"text-align: right;\">\n",
       "      <th></th>\n",
       "      <th>Invoice</th>\n",
       "      <th>StockCode</th>\n",
       "      <th>Description</th>\n",
       "      <th>Quantity</th>\n",
       "      <th>InvoiceDate</th>\n",
       "      <th>Price</th>\n",
       "      <th>Customer ID</th>\n",
       "      <th>Country</th>\n",
       "    </tr>\n",
       "  </thead>\n",
       "  <tbody>\n",
       "    <tr>\n",
       "      <th>263</th>\n",
       "      <td>489464</td>\n",
       "      <td>21733</td>\n",
       "      <td>85123a mixed</td>\n",
       "      <td>-96</td>\n",
       "      <td>2009-12-01 10:52:00</td>\n",
       "      <td>0.00</td>\n",
       "      <td>NaN</td>\n",
       "      <td>United Kingdom</td>\n",
       "    </tr>\n",
       "    <tr>\n",
       "      <th>283</th>\n",
       "      <td>489463</td>\n",
       "      <td>71477</td>\n",
       "      <td>short</td>\n",
       "      <td>-240</td>\n",
       "      <td>2009-12-01 10:52:00</td>\n",
       "      <td>0.00</td>\n",
       "      <td>NaN</td>\n",
       "      <td>United Kingdom</td>\n",
       "    </tr>\n",
       "    <tr>\n",
       "      <th>284</th>\n",
       "      <td>489467</td>\n",
       "      <td>85123A</td>\n",
       "      <td>21733 mixed</td>\n",
       "      <td>-192</td>\n",
       "      <td>2009-12-01 10:53:00</td>\n",
       "      <td>0.00</td>\n",
       "      <td>NaN</td>\n",
       "      <td>United Kingdom</td>\n",
       "    </tr>\n",
       "    <tr>\n",
       "      <th>470</th>\n",
       "      <td>489521</td>\n",
       "      <td>21646</td>\n",
       "      <td>NaN</td>\n",
       "      <td>-50</td>\n",
       "      <td>2009-12-01 11:44:00</td>\n",
       "      <td>0.00</td>\n",
       "      <td>NaN</td>\n",
       "      <td>United Kingdom</td>\n",
       "    </tr>\n",
       "    <tr>\n",
       "      <th>577</th>\n",
       "      <td>489525</td>\n",
       "      <td>85226C</td>\n",
       "      <td>BLUE PULL BACK RACING CAR</td>\n",
       "      <td>1</td>\n",
       "      <td>2009-12-01 11:49:00</td>\n",
       "      <td>0.55</td>\n",
       "      <td>NaN</td>\n",
       "      <td>United Kingdom</td>\n",
       "    </tr>\n",
       "  </tbody>\n",
       "</table>\n",
       "</div>"
      ],
      "text/plain": [
       "    Invoice StockCode                Description  Quantity  \\\n",
       "263  489464     21733               85123a mixed       -96   \n",
       "283  489463     71477                      short      -240   \n",
       "284  489467    85123A                21733 mixed      -192   \n",
       "470  489521     21646                        NaN       -50   \n",
       "577  489525    85226C  BLUE PULL BACK RACING CAR         1   \n",
       "\n",
       "             InvoiceDate  Price  Customer ID         Country  \n",
       "263  2009-12-01 10:52:00   0.00          NaN  United Kingdom  \n",
       "283  2009-12-01 10:52:00   0.00          NaN  United Kingdom  \n",
       "284  2009-12-01 10:53:00   0.00          NaN  United Kingdom  \n",
       "470  2009-12-01 11:44:00   0.00          NaN  United Kingdom  \n",
       "577  2009-12-01 11:49:00   0.55          NaN  United Kingdom  "
      ]
     },
     "execution_count": 7,
     "metadata": {},
     "output_type": "execute_result"
    }
   ],
   "source": [
    "# check out the rows with missing values\n",
    "df[df.isnull().any(axis=1)].head(5)"
   ]
  },
  {
   "cell_type": "code",
   "execution_count": 8,
   "metadata": {},
   "outputs": [],
   "source": [
    "# If I want to make a new DF without missing values >>>  df_no_missing = df.dropna()\n",
    "# also we could use df.dropna(inplace = True)"
   ]
  },
  {
   "cell_type": "code",
   "execution_count": 9,
   "metadata": {},
   "outputs": [],
   "source": [
    "# I wanted just to remove the blank customer IDs\n",
    "df2 = df[pd.notnull(df['Customer ID'])]"
   ]
  },
  {
   "cell_type": "code",
   "execution_count": 10,
   "metadata": {},
   "outputs": [
    {
     "data": {
      "text/plain": [
       "Country        0\n",
       "Customer ID    0\n",
       "Price          0\n",
       "InvoiceDate    0\n",
       "Quantity       0\n",
       "Description    0\n",
       "StockCode      0\n",
       "Invoice        0\n",
       "dtype: int64"
      ]
     },
     "execution_count": 10,
     "metadata": {},
     "output_type": "execute_result"
    }
   ],
   "source": [
    "# check missing values for each column \n",
    "df2.isnull().sum().sort_values(ascending=False)"
   ]
  },
  {
   "cell_type": "code",
   "execution_count": 11,
   "metadata": {},
   "outputs": [],
   "source": [
    "# it is seen by removing missing IDs there remain no missing description! interesting incident."
   ]
  },
  {
   "cell_type": "code",
   "execution_count": null,
   "metadata": {},
   "outputs": [],
   "source": []
  },
  {
   "cell_type": "markdown",
   "metadata": {},
   "source": [
    "# Remove returining dara"
   ]
  },
  {
   "cell_type": "code",
   "execution_count": 12,
   "metadata": {},
   "outputs": [
    {
     "data": {
      "text/plain": [
       "Invoice        18744\n",
       "StockCode      18744\n",
       "Description    18744\n",
       "Quantity       18744\n",
       "InvoiceDate    18744\n",
       "Price          18744\n",
       "Customer ID    18744\n",
       "Country        18744\n",
       "dtype: int64"
      ]
     },
     "execution_count": 12,
     "metadata": {},
     "output_type": "execute_result"
    }
   ],
   "source": [
    "df2[df2['Quantity']<0].count()"
   ]
  },
  {
   "cell_type": "code",
   "execution_count": 13,
   "metadata": {},
   "outputs": [
    {
     "data": {
      "text/plain": [
       "0          False\n",
       "1          False\n",
       "2          False\n",
       "3          False\n",
       "4          False\n",
       "           ...  \n",
       "1067366    False\n",
       "1067367    False\n",
       "1067368    False\n",
       "1067369    False\n",
       "1067370    False\n",
       "Name: Quantity, Length: 824364, dtype: bool"
      ]
     },
     "execution_count": 13,
     "metadata": {},
     "output_type": "execute_result"
    }
   ],
   "source": [
    "a=df2['Quantity']<0\n",
    "a"
   ]
  },
  {
   "cell_type": "code",
   "execution_count": 14,
   "metadata": {},
   "outputs": [
    {
     "data": {
      "text/plain": [
       "18744"
      ]
     },
     "execution_count": 14,
     "metadata": {},
     "output_type": "execute_result"
    }
   ],
   "source": [
    "df2[a]['Quantity'].count()  #or  df2[df2.Quantity < 0]['Quantity'].count()"
   ]
  },
  {
   "cell_type": "code",
   "execution_count": 15,
   "metadata": {},
   "outputs": [
    {
     "data": {
      "image/png": "[encoded data removed]",
      "text/plain": [
       "<Figure size 432x288 with 1 Axes>"
      ]
     },
     "metadata": {},
     "output_type": "display_data"
    }
   ],
   "source": [
    "sns.set(style=\"whitegrid\")\n",
    "ax = sns.violinplot(x=df2[\"Quantity\"])"
   ]
  },
  {
   "cell_type": "code",
   "execution_count": 16,
   "metadata": {},
   "outputs": [
    {
     "data": {
      "text/plain": [
       "<matplotlib.axes._subplots.AxesSubplot at 0x1742e4a7460>"
      ]
     },
     "execution_count": 16,
     "metadata": {},
     "output_type": "execute_result"
    },
    {
     "data": {
      "image/png": "[encoded data removed]",
      "text/plain": [
       "<Figure size 432x288 with 1 Axes>"
      ]
     },
     "metadata": {},
     "output_type": "display_data"
    }
   ],
   "source": [
    "sns.boxplot(x=df2['Quantity'])"
   ]
  },
  {
   "cell_type": "code",
   "execution_count": null,
   "metadata": {},
   "outputs": [],
   "source": []
  },
  {
   "cell_type": "code",
   "execution_count": 17,
   "metadata": {},
   "outputs": [
    {
     "data": {
      "text/html": [
       "<div>\n",
       "<style scoped>\n",
       "    .dataframe tbody tr th:only-of-type {\n",
       "        vertical-align: middle;\n",
       "    }\n",
       "\n",
       "    .dataframe tbody tr th {\n",
       "        vertical-align: top;\n",
       "    }\n",
       "\n",
       "    .dataframe thead th {\n",
       "        text-align: right;\n",
       "    }\n",
       "</style>\n",
       "<table border=\"1\" class=\"dataframe\">\n",
       "  <thead>\n",
       "    <tr style=\"text-align: right;\">\n",
       "      <th></th>\n",
       "      <th>Quantity</th>\n",
       "      <th>Price</th>\n",
       "      <th>Customer ID</th>\n",
       "    </tr>\n",
       "  </thead>\n",
       "  <tbody>\n",
       "    <tr>\n",
       "      <th>count</th>\n",
       "      <td>805620.00</td>\n",
       "      <td>805620.00</td>\n",
       "      <td>805620.00</td>\n",
       "    </tr>\n",
       "    <tr>\n",
       "      <th>mean</th>\n",
       "      <td>13.31</td>\n",
       "      <td>3.21</td>\n",
       "      <td>15331.86</td>\n",
       "    </tr>\n",
       "    <tr>\n",
       "      <th>std</th>\n",
       "      <td>144.31</td>\n",
       "      <td>29.20</td>\n",
       "      <td>1696.77</td>\n",
       "    </tr>\n",
       "    <tr>\n",
       "      <th>min</th>\n",
       "      <td>1.00</td>\n",
       "      <td>0.00</td>\n",
       "      <td>12346.00</td>\n",
       "    </tr>\n",
       "    <tr>\n",
       "      <th>25%</th>\n",
       "      <td>2.00</td>\n",
       "      <td>1.25</td>\n",
       "      <td>13982.00</td>\n",
       "    </tr>\n",
       "    <tr>\n",
       "      <th>50%</th>\n",
       "      <td>5.00</td>\n",
       "      <td>1.95</td>\n",
       "      <td>15271.00</td>\n",
       "    </tr>\n",
       "    <tr>\n",
       "      <th>75%</th>\n",
       "      <td>12.00</td>\n",
       "      <td>3.75</td>\n",
       "      <td>16805.00</td>\n",
       "    </tr>\n",
       "    <tr>\n",
       "      <th>max</th>\n",
       "      <td>80995.00</td>\n",
       "      <td>10953.50</td>\n",
       "      <td>18287.00</td>\n",
       "    </tr>\n",
       "  </tbody>\n",
       "</table>\n",
       "</div>"
      ],
      "text/plain": [
       "        Quantity      Price  Customer ID\n",
       "count  805620.00  805620.00    805620.00\n",
       "mean       13.31       3.21     15331.86\n",
       "std       144.31      29.20      1696.77\n",
       "min         1.00       0.00     12346.00\n",
       "25%         2.00       1.25     13982.00\n",
       "50%         5.00       1.95     15271.00\n",
       "75%        12.00       3.75     16805.00\n",
       "max     80995.00   10953.50     18287.00"
      ]
     },
     "execution_count": 17,
     "metadata": {},
     "output_type": "execute_result"
    }
   ],
   "source": [
    "# remove negative quanitites\n",
    "\n",
    "df2 = df2[df2.Quantity > 0]     # or     df2 = df2.loc[df2['Quantity'] > 0]\n",
    "\n",
    "df2.describe().round(2)"
   ]
  },
  {
   "cell_type": "code",
   "execution_count": 18,
   "metadata": {},
   "outputs": [
    {
     "data": {
      "image/png": "[encoded data removed]",
      "text/plain": [
       "<Figure size 432x288 with 1 Axes>"
      ]
     },
     "metadata": {},
     "output_type": "display_data"
    }
   ],
   "source": [
    "ax = sns.violinplot(x=df2[\"Quantity\"])"
   ]
  },
  {
   "cell_type": "code",
   "execution_count": 19,
   "metadata": {},
   "outputs": [
    {
     "data": {
      "text/plain": [
       "805620"
      ]
     },
     "execution_count": 19,
     "metadata": {},
     "output_type": "execute_result"
    }
   ],
   "source": [
    "df2['Quantity'].count()"
   ]
  },
  {
   "cell_type": "code",
   "execution_count": 20,
   "metadata": {},
   "outputs": [],
   "source": [
    "# mind where we use ' ' and where \" \" \n",
    "# df2['Customer ID']>100\n",
    "# df[[\"Quantity\"]].head(3)\n",
    "# df[[\"Quantity\", \"Price\"]].head(3)"
   ]
  },
  {
   "cell_type": "code",
   "execution_count": 21,
   "metadata": {},
   "outputs": [],
   "source": [
    "# mind where we use .attr wher .loc[attr]\n",
    "\n",
    "# for example dd=df2. Customer ID in not gonna work"
   ]
  },
  {
   "cell_type": "markdown",
   "metadata": {},
   "source": [
    "# Data type Correction"
   ]
  },
  {
   "cell_type": "code",
   "execution_count": 22,
   "metadata": {},
   "outputs": [
    {
     "name": "stdout",
     "output_type": "stream",
     "text": [
      "<class 'pandas.core.frame.DataFrame'>\n",
      "Int64Index: 805620 entries, 0 to 1067370\n",
      "Data columns (total 8 columns):\n",
      " #   Column       Non-Null Count   Dtype  \n",
      "---  ------       --------------   -----  \n",
      " 0   Invoice      805620 non-null  object \n",
      " 1   StockCode    805620 non-null  object \n",
      " 2   Description  805620 non-null  object \n",
      " 3   Quantity     805620 non-null  int64  \n",
      " 4   InvoiceDate  805620 non-null  object \n",
      " 5   Price        805620 non-null  float64\n",
      " 6   Customer ID  805620 non-null  float64\n",
      " 7   Country      805620 non-null  object \n",
      "dtypes: float64(2), int64(1), object(5)\n",
      "memory usage: 55.3+ MB\n"
     ]
    }
   ],
   "source": [
    "df2.info()"
   ]
  },
  {
   "cell_type": "code",
   "execution_count": 23,
   "metadata": {},
   "outputs": [],
   "source": [
    "# change the invoice_date string format to Timestamp format\n",
    "df2['InvoiceDate'] = pd.to_datetime(df2.InvoiceDate, format='%Y-%m-%d %H:%M:%S' , errors='ignore')"
   ]
  },
  {
   "cell_type": "code",
   "execution_count": 24,
   "metadata": {},
   "outputs": [
    {
     "name": "stdout",
     "output_type": "stream",
     "text": [
      "<class 'pandas.core.frame.DataFrame'>\n",
      "Int64Index: 805620 entries, 0 to 1067370\n",
      "Data columns (total 8 columns):\n",
      " #   Column       Non-Null Count   Dtype         \n",
      "---  ------       --------------   -----         \n",
      " 0   Invoice      805620 non-null  object        \n",
      " 1   StockCode    805620 non-null  object        \n",
      " 2   Description  805620 non-null  object        \n",
      " 3   Quantity     805620 non-null  int64         \n",
      " 4   InvoiceDate  805620 non-null  datetime64[ns]\n",
      " 5   Price        805620 non-null  float64       \n",
      " 6   Customer ID  805620 non-null  float64       \n",
      " 7   Country      805620 non-null  object        \n",
      "dtypes: datetime64[ns](1), float64(2), int64(1), object(4)\n",
      "memory usage: 55.3+ MB\n"
     ]
    }
   ],
   "source": [
    "df2.info()"
   ]
  },
  {
   "cell_type": "code",
   "execution_count": 25,
   "metadata": {},
   "outputs": [],
   "source": [
    "# change columns type - String to Int type \n",
    "df2['Customer ID'] = df2['Customer ID'].astype('int64')\n",
    "\n",
    "# or e.g. df2 = df2.astype({\"Name\":'category', \"Age\":'int64'}) "
   ]
  },
  {
   "cell_type": "code",
   "execution_count": 26,
   "metadata": {},
   "outputs": [
    {
     "data": {
      "text/plain": [
       "numpy.int64"
      ]
     },
     "execution_count": 26,
     "metadata": {},
     "output_type": "execute_result"
    }
   ],
   "source": [
    "after=type(df2['Customer ID'][0])\n",
    "after"
   ]
  },
  {
   "cell_type": "markdown",
   "metadata": {},
   "source": [
    "# Transaction time modification"
   ]
  },
  {
   "cell_type": "code",
   "execution_count": 27,
   "metadata": {},
   "outputs": [
    {
     "name": "stdout",
     "output_type": "stream",
     "text": [
      "Date Range: 2009-12-01 07:45:00 to 2011-12-09 12:50:00\n"
     ]
    }
   ],
   "source": [
    "# View our data range\n",
    "print('Date Range: %s to %s' % (df2['InvoiceDate'].min(), df2['InvoiceDate'].max()))"
   ]
  },
  {
   "cell_type": "code",
   "execution_count": 28,
   "metadata": {},
   "outputs": [],
   "source": [
    "# Take all of the transactions tdating before December 01, 2011 \n",
    "#df2 = df2.loc[df2['InvoiceDate'] > '2009-12-31']\n",
    "\n",
    "\n",
    "# I got 2011-10-01 otherwise the pd.grouper(freq) in the folloing cells will not devid the revenues properly"
   ]
  },
  {
   "cell_type": "code",
   "execution_count": 29,
   "metadata": {},
   "outputs": [],
   "source": [
    "#df2 = df2.loc[df2['InvoiceDate'] < '2011-09-30']"
   ]
  },
  {
   "cell_type": "code",
   "execution_count": 30,
   "metadata": {},
   "outputs": [
    {
     "data": {
      "text/html": [
       "<div>\n",
       "<style scoped>\n",
       "    .dataframe tbody tr th:only-of-type {\n",
       "        vertical-align: middle;\n",
       "    }\n",
       "\n",
       "    .dataframe tbody tr th {\n",
       "        vertical-align: top;\n",
       "    }\n",
       "\n",
       "    .dataframe thead th {\n",
       "        text-align: right;\n",
       "    }\n",
       "</style>\n",
       "<table border=\"1\" class=\"dataframe\">\n",
       "  <thead>\n",
       "    <tr style=\"text-align: right;\">\n",
       "      <th></th>\n",
       "      <th>Invoice</th>\n",
       "      <th>StockCode</th>\n",
       "      <th>Description</th>\n",
       "      <th>Quantity</th>\n",
       "      <th>InvoiceDate</th>\n",
       "      <th>Price</th>\n",
       "      <th>Customer ID</th>\n",
       "      <th>Country</th>\n",
       "    </tr>\n",
       "  </thead>\n",
       "  <tbody>\n",
       "    <tr>\n",
       "      <th>0</th>\n",
       "      <td>489434</td>\n",
       "      <td>85048</td>\n",
       "      <td>15CM CHRISTMAS GLASS BALL 20 LIGHTS</td>\n",
       "      <td>12</td>\n",
       "      <td>2009-12-01 07:45:00</td>\n",
       "      <td>6.95</td>\n",
       "      <td>13085</td>\n",
       "      <td>United Kingdom</td>\n",
       "    </tr>\n",
       "    <tr>\n",
       "      <th>1</th>\n",
       "      <td>489434</td>\n",
       "      <td>79323P</td>\n",
       "      <td>PINK CHERRY LIGHTS</td>\n",
       "      <td>12</td>\n",
       "      <td>2009-12-01 07:45:00</td>\n",
       "      <td>6.75</td>\n",
       "      <td>13085</td>\n",
       "      <td>United Kingdom</td>\n",
       "    </tr>\n",
       "  </tbody>\n",
       "</table>\n",
       "</div>"
      ],
      "text/plain": [
       "  Invoice StockCode                          Description  Quantity  \\\n",
       "0  489434     85048  15CM CHRISTMAS GLASS BALL 20 LIGHTS        12   \n",
       "1  489434    79323P                   PINK CHERRY LIGHTS        12   \n",
       "\n",
       "          InvoiceDate  Price  Customer ID         Country  \n",
       "0 2009-12-01 07:45:00   6.95        13085  United Kingdom  \n",
       "1 2009-12-01 07:45:00   6.75        13085  United Kingdom  "
      ]
     },
     "execution_count": 30,
     "metadata": {},
     "output_type": "execute_result"
    }
   ],
   "source": [
    "df2.head(2)  # or df2[:10] "
   ]
  },
  {
   "cell_type": "code",
   "execution_count": 31,
   "metadata": {},
   "outputs": [],
   "source": [
    "# To delet the out put:\n",
    "#from IPython.display import clear_output\n",
    "#clear_output(wait=True)"
   ]
  },
  {
   "cell_type": "markdown",
   "metadata": {},
   "source": [
    "# Create a Sales Revenue Column"
   ]
  },
  {
   "cell_type": "code",
   "execution_count": 32,
   "metadata": {},
   "outputs": [
    {
     "data": {
      "text/html": [
       "<div>\n",
       "<style scoped>\n",
       "    .dataframe tbody tr th:only-of-type {\n",
       "        vertical-align: middle;\n",
       "    }\n",
       "\n",
       "    .dataframe tbody tr th {\n",
       "        vertical-align: top;\n",
       "    }\n",
       "\n",
       "    .dataframe thead th {\n",
       "        text-align: right;\n",
       "    }\n",
       "</style>\n",
       "<table border=\"1\" class=\"dataframe\">\n",
       "  <thead>\n",
       "    <tr style=\"text-align: right;\">\n",
       "      <th></th>\n",
       "      <th>Invoice</th>\n",
       "      <th>StockCode</th>\n",
       "      <th>Description</th>\n",
       "      <th>Quantity</th>\n",
       "      <th>InvoiceDate</th>\n",
       "      <th>Price</th>\n",
       "      <th>Customer ID</th>\n",
       "      <th>Country</th>\n",
       "      <th>AmountSpent</th>\n",
       "    </tr>\n",
       "  </thead>\n",
       "  <tbody>\n",
       "    <tr>\n",
       "      <th>0</th>\n",
       "      <td>489434</td>\n",
       "      <td>85048</td>\n",
       "      <td>15CM CHRISTMAS GLASS BALL 20 LIGHTS</td>\n",
       "      <td>12</td>\n",
       "      <td>2009-12-01 07:45:00</td>\n",
       "      <td>6.95</td>\n",
       "      <td>13085</td>\n",
       "      <td>United Kingdom</td>\n",
       "      <td>83.4</td>\n",
       "    </tr>\n",
       "    <tr>\n",
       "      <th>1</th>\n",
       "      <td>489434</td>\n",
       "      <td>79323P</td>\n",
       "      <td>PINK CHERRY LIGHTS</td>\n",
       "      <td>12</td>\n",
       "      <td>2009-12-01 07:45:00</td>\n",
       "      <td>6.75</td>\n",
       "      <td>13085</td>\n",
       "      <td>United Kingdom</td>\n",
       "      <td>81.0</td>\n",
       "    </tr>\n",
       "    <tr>\n",
       "      <th>2</th>\n",
       "      <td>489434</td>\n",
       "      <td>79323W</td>\n",
       "      <td>WHITE CHERRY LIGHTS</td>\n",
       "      <td>12</td>\n",
       "      <td>2009-12-01 07:45:00</td>\n",
       "      <td>6.75</td>\n",
       "      <td>13085</td>\n",
       "      <td>United Kingdom</td>\n",
       "      <td>81.0</td>\n",
       "    </tr>\n",
       "    <tr>\n",
       "      <th>3</th>\n",
       "      <td>489434</td>\n",
       "      <td>22041</td>\n",
       "      <td>RECORD FRAME 7\" SINGLE SIZE</td>\n",
       "      <td>48</td>\n",
       "      <td>2009-12-01 07:45:00</td>\n",
       "      <td>2.10</td>\n",
       "      <td>13085</td>\n",
       "      <td>United Kingdom</td>\n",
       "      <td>100.8</td>\n",
       "    </tr>\n",
       "    <tr>\n",
       "      <th>4</th>\n",
       "      <td>489434</td>\n",
       "      <td>21232</td>\n",
       "      <td>STRAWBERRY CERAMIC TRINKET BOX</td>\n",
       "      <td>24</td>\n",
       "      <td>2009-12-01 07:45:00</td>\n",
       "      <td>1.25</td>\n",
       "      <td>13085</td>\n",
       "      <td>United Kingdom</td>\n",
       "      <td>30.0</td>\n",
       "    </tr>\n",
       "  </tbody>\n",
       "</table>\n",
       "</div>"
      ],
      "text/plain": [
       "  Invoice StockCode                          Description  Quantity  \\\n",
       "0  489434     85048  15CM CHRISTMAS GLASS BALL 20 LIGHTS        12   \n",
       "1  489434    79323P                   PINK CHERRY LIGHTS        12   \n",
       "2  489434    79323W                  WHITE CHERRY LIGHTS        12   \n",
       "3  489434     22041         RECORD FRAME 7\" SINGLE SIZE         48   \n",
       "4  489434     21232       STRAWBERRY CERAMIC TRINKET BOX        24   \n",
       "\n",
       "          InvoiceDate  Price  Customer ID         Country  AmountSpent  \n",
       "0 2009-12-01 07:45:00   6.95        13085  United Kingdom         83.4  \n",
       "1 2009-12-01 07:45:00   6.75        13085  United Kingdom         81.0  \n",
       "2 2009-12-01 07:45:00   6.75        13085  United Kingdom         81.0  \n",
       "3 2009-12-01 07:45:00   2.10        13085  United Kingdom        100.8  \n",
       "4 2009-12-01 07:45:00   1.25        13085  United Kingdom         30.0  "
      ]
     },
     "execution_count": 32,
     "metadata": {},
     "output_type": "execute_result"
    }
   ],
   "source": [
    "df2['AmountSpent'] = df2['Quantity'] * df2['Price']\n",
    "df2.head()"
   ]
  },
  {
   "cell_type": "markdown",
   "metadata": {},
   "source": [
    "# Customer Life Time Value"
   ]
  },
  {
   "cell_type": "code",
   "execution_count": 33,
   "metadata": {
    "scrolled": false
   },
   "outputs": [
    {
     "data": {
      "text/html": [
       "<div>\n",
       "<style scoped>\n",
       "    .dataframe tbody tr th:only-of-type {\n",
       "        vertical-align: middle;\n",
       "    }\n",
       "\n",
       "    .dataframe tbody tr th {\n",
       "        vertical-align: top;\n",
       "    }\n",
       "\n",
       "    .dataframe thead th {\n",
       "        text-align: right;\n",
       "    }\n",
       "</style>\n",
       "<table border=\"1\" class=\"dataframe\">\n",
       "  <thead>\n",
       "    <tr style=\"text-align: right;\">\n",
       "      <th></th>\n",
       "      <th></th>\n",
       "      <th>AmountSpent</th>\n",
       "      <th>InvoiceDate</th>\n",
       "    </tr>\n",
       "    <tr>\n",
       "      <th>Customer ID</th>\n",
       "      <th>Invoice</th>\n",
       "      <th></th>\n",
       "      <th></th>\n",
       "    </tr>\n",
       "  </thead>\n",
       "  <tbody>\n",
       "    <tr>\n",
       "      <th rowspan=\"2\" valign=\"top\">12346</th>\n",
       "      <th>491725</th>\n",
       "      <td>45.0</td>\n",
       "      <td>2009-12-14 08:34:00</td>\n",
       "    </tr>\n",
       "    <tr>\n",
       "      <th>491742</th>\n",
       "      <td>22.5</td>\n",
       "      <td>2009-12-14 11:00:00</td>\n",
       "    </tr>\n",
       "  </tbody>\n",
       "</table>\n",
       "</div>"
      ],
      "text/plain": [
       "                     AmountSpent         InvoiceDate\n",
       "Customer ID Invoice                                 \n",
       "12346       491725          45.0 2009-12-14 08:34:00\n",
       "            491742          22.5 2009-12-14 11:00:00"
      ]
     },
     "execution_count": 33,
     "metadata": {},
     "output_type": "execute_result"
    }
   ],
   "source": [
    "# To study the 3 month customet value I need to get an order's summary dataset \n",
    "# that shows the total in sales made per customer invoice\n",
    "\n",
    "orders_df = df2.groupby(['Customer ID', 'Invoice']).agg({'AmountSpent': sum,'InvoiceDate': max})\n",
    "orders_df.head(2)"
   ]
  },
  {
   "cell_type": "markdown",
   "metadata": {},
   "source": [
    "# .\n",
    "\n",
    "\n",
    "\n",
    "# To predict the 3 month CLTV, I need to make a summary statistics of customer Sales in 3 month intervals (I use 3M for 3 month)\n",
    "\n",
    "# For this aim, I Groupby customer ID now, and group all invoices for 3 month cycles and then  Aggregate on sum, mean and counts.\n",
    "\n",
    "# Note: Updated invoice date are just 3 month intervals, not original purchase dates"
   ]
  },
  {
   "cell_type": "code",
   "execution_count": 34,
   "metadata": {},
   "outputs": [
    {
     "data": {
      "text/html": [
       "<div>\n",
       "<style scoped>\n",
       "    .dataframe tbody tr th:only-of-type {\n",
       "        vertical-align: middle;\n",
       "    }\n",
       "\n",
       "    .dataframe tbody tr th {\n",
       "        vertical-align: top;\n",
       "    }\n",
       "\n",
       "    .dataframe thead tr th {\n",
       "        text-align: left;\n",
       "    }\n",
       "\n",
       "    .dataframe thead tr:last-of-type th {\n",
       "        text-align: right;\n",
       "    }\n",
       "</style>\n",
       "<table border=\"1\" class=\"dataframe\">\n",
       "  <thead>\n",
       "    <tr>\n",
       "      <th></th>\n",
       "      <th></th>\n",
       "      <th colspan=\"3\" halign=\"left\">AmountSpent</th>\n",
       "    </tr>\n",
       "    <tr>\n",
       "      <th></th>\n",
       "      <th></th>\n",
       "      <th>sum</th>\n",
       "      <th>avg</th>\n",
       "      <th>count</th>\n",
       "    </tr>\n",
       "    <tr>\n",
       "      <th>Customer ID</th>\n",
       "      <th>InvoiceDate</th>\n",
       "      <th></th>\n",
       "      <th></th>\n",
       "      <th></th>\n",
       "    </tr>\n",
       "  </thead>\n",
       "  <tbody>\n",
       "    <tr>\n",
       "      <th rowspan=\"2\" valign=\"top\">12346</th>\n",
       "      <th>2009-12-31</th>\n",
       "      <td>113.50</td>\n",
       "      <td>22.70</td>\n",
       "      <td>5.0</td>\n",
       "    </tr>\n",
       "    <tr>\n",
       "      <th>2010-03-31</th>\n",
       "      <td>117.05</td>\n",
       "      <td>23.41</td>\n",
       "      <td>5.0</td>\n",
       "    </tr>\n",
       "  </tbody>\n",
       "</table>\n",
       "</div>"
      ],
      "text/plain": [
       "                        AmountSpent             \n",
       "                                sum    avg count\n",
       "Customer ID InvoiceDate                         \n",
       "12346       2009-12-31       113.50  22.70   5.0\n",
       "            2010-03-31       117.05  23.41   5.0"
      ]
     },
     "execution_count": 34,
     "metadata": {},
     "output_type": "execute_result"
    }
   ],
   "source": [
    "# At the begining I need to define some functions for mean and count:\n",
    "\n",
    "\n",
    "def groupby_mean(x):\n",
    "    return x.mean()\n",
    "\n",
    "def groupby_count(x):\n",
    "    return x.count()\n",
    "\n",
    "def purchase_duration(x):\n",
    "    return (x.max() - x.min()).days\n",
    "\n",
    "def avg_frequency(x):\n",
    "    '''returns the average days between sales'''\n",
    "    return (x.max() - x.min()).days/x.count()\n",
    "\n",
    "groupby_mean.__name__ = 'avg'\n",
    "groupby_count.__name__ = 'count'\n",
    "purchase_duration.__name__ = 'purchase_duration'\n",
    "avg_frequency.__name__ = 'purchase_frequency'\n",
    "\n",
    "#......................................................................\n",
    "\n",
    "\n",
    "\n",
    "\n",
    "clv_freq = '3M'\n",
    "\n",
    "data_df = orders_df.reset_index().groupby(['Customer ID', pd.Grouper(key='InvoiceDate', freq=clv_freq)]).agg({\n",
    "    'AmountSpent': [sum, groupby_mean, groupby_count],})\n",
    "\n",
    "data_df.head(2)"
   ]
  },
  {
   "cell_type": "code",
   "execution_count": 35,
   "metadata": {},
   "outputs": [
    {
     "data": {
      "text/html": [
       "<div>\n",
       "<style scoped>\n",
       "    .dataframe tbody tr th:only-of-type {\n",
       "        vertical-align: middle;\n",
       "    }\n",
       "\n",
       "    .dataframe tbody tr th {\n",
       "        vertical-align: top;\n",
       "    }\n",
       "\n",
       "    .dataframe thead th {\n",
       "        text-align: right;\n",
       "    }\n",
       "</style>\n",
       "<table border=\"1\" class=\"dataframe\">\n",
       "  <thead>\n",
       "    <tr style=\"text-align: right;\">\n",
       "      <th></th>\n",
       "      <th>Customer ID</th>\n",
       "      <th>InvoiceDate</th>\n",
       "      <th>amountspent_sum</th>\n",
       "      <th>amountspent_avg</th>\n",
       "      <th>amountspent_count</th>\n",
       "    </tr>\n",
       "  </thead>\n",
       "  <tbody>\n",
       "    <tr>\n",
       "      <th>0</th>\n",
       "      <td>12346</td>\n",
       "      <td>2009-12-31</td>\n",
       "      <td>113.50</td>\n",
       "      <td>22.70</td>\n",
       "      <td>5.0</td>\n",
       "    </tr>\n",
       "    <tr>\n",
       "      <th>1</th>\n",
       "      <td>12346</td>\n",
       "      <td>2010-03-31</td>\n",
       "      <td>117.05</td>\n",
       "      <td>23.41</td>\n",
       "      <td>5.0</td>\n",
       "    </tr>\n",
       "  </tbody>\n",
       "</table>\n",
       "</div>"
      ],
      "text/plain": [
       "   Customer ID InvoiceDate  amountspent_sum  amountspent_avg  \\\n",
       "0        12346  2009-12-31           113.50            22.70   \n",
       "1        12346  2010-03-31           117.05            23.41   \n",
       "\n",
       "   amountspent_count  \n",
       "0                5.0  \n",
       "1                5.0  "
      ]
     },
     "execution_count": 35,
     "metadata": {},
     "output_type": "execute_result"
    }
   ],
   "source": [
    "# now I re-write the indexes and culomn's names of the above DataFrame\n",
    "\n",
    "data_df.columns = ['_'.join(col).lower() for col in data_df.columns]\n",
    "data_df = data_df.reset_index()\n",
    "data_df.head(2)"
   ]
  },
  {
   "cell_type": "code",
   "execution_count": 36,
   "metadata": {},
   "outputs": [],
   "source": [
    "# Lets double check if our time period is all set\n"
   ]
  },
  {
   "cell_type": "code",
   "execution_count": 37,
   "metadata": {},
   "outputs": [
    {
     "name": "stdout",
     "output_type": "stream",
     "text": [
      "Date Range: 2009-12-31 00:00:00 to 2011-12-31 00:00:00\n"
     ]
    }
   ],
   "source": [
    "print('Date Range: %s to %s' % (data_df['InvoiceDate'].min(), data_df['InvoiceDate'].max()))"
   ]
  },
  {
   "cell_type": "code",
   "execution_count": 38,
   "metadata": {},
   "outputs": [
    {
     "data": {
      "text/plain": [
       "pandas._libs.tslibs.timestamps.Timestamp"
      ]
     },
     "execution_count": 38,
     "metadata": {},
     "output_type": "execute_result"
    }
   ],
   "source": [
    "#what is the data type for InvoiceDate\n",
    "type(data_df['InvoiceDate'][0])"
   ]
  },
  {
   "cell_type": "code",
   "execution_count": 39,
   "metadata": {},
   "outputs": [
    {
     "data": {
      "text/plain": [
       "[numpy.datetime64('2011-12-31T00:00:00.000000000'),\n",
       " numpy.datetime64('2011-09-30T00:00:00.000000000'),\n",
       " numpy.datetime64('2011-06-30T00:00:00.000000000'),\n",
       " numpy.datetime64('2011-03-31T00:00:00.000000000'),\n",
       " numpy.datetime64('2010-12-31T00:00:00.000000000'),\n",
       " numpy.datetime64('2010-09-30T00:00:00.000000000'),\n",
       " numpy.datetime64('2010-06-30T00:00:00.000000000'),\n",
       " numpy.datetime64('2010-03-31T00:00:00.000000000'),\n",
       " numpy.datetime64('2009-12-31T00:00:00.000000000')]"
      ]
     },
     "execution_count": 39,
     "metadata": {},
     "output_type": "execute_result"
    }
   ],
   "source": [
    "TimeStepArray=sorted(data_df.reset_index()['InvoiceDate'].unique(), reverse=True)\n",
    "TimeStepArray\n",
    "\n",
    "\n",
    "# here we can see why we got the 2011-10-01 as upper time limit \n",
    "# I also use this timesteparray in the next command"
   ]
  },
  {
   "cell_type": "code",
   "execution_count": 40,
   "metadata": {},
   "outputs": [
    {
     "data": {
      "text/html": [
       "<div>\n",
       "<style scoped>\n",
       "    .dataframe tbody tr th:only-of-type {\n",
       "        vertical-align: middle;\n",
       "    }\n",
       "\n",
       "    .dataframe tbody tr th {\n",
       "        vertical-align: top;\n",
       "    }\n",
       "\n",
       "    .dataframe thead th {\n",
       "        text-align: right;\n",
       "    }\n",
       "</style>\n",
       "<table border=\"1\" class=\"dataframe\">\n",
       "  <thead>\n",
       "    <tr style=\"text-align: right;\">\n",
       "      <th></th>\n",
       "      <th>Customer ID</th>\n",
       "      <th>InvoiceDate</th>\n",
       "      <th>amountspent_sum</th>\n",
       "      <th>amountspent_avg</th>\n",
       "      <th>amountspent_count</th>\n",
       "      <th>M</th>\n",
       "    </tr>\n",
       "  </thead>\n",
       "  <tbody>\n",
       "    <tr>\n",
       "      <th>0</th>\n",
       "      <td>12346</td>\n",
       "      <td>2009-12-31</td>\n",
       "      <td>113.50</td>\n",
       "      <td>22.700</td>\n",
       "      <td>5.0</td>\n",
       "      <td>M_9</td>\n",
       "    </tr>\n",
       "    <tr>\n",
       "      <th>1</th>\n",
       "      <td>12346</td>\n",
       "      <td>2010-03-31</td>\n",
       "      <td>117.05</td>\n",
       "      <td>23.410</td>\n",
       "      <td>5.0</td>\n",
       "      <td>M_8</td>\n",
       "    </tr>\n",
       "    <tr>\n",
       "      <th>2</th>\n",
       "      <td>12346</td>\n",
       "      <td>2010-06-30</td>\n",
       "      <td>142.31</td>\n",
       "      <td>142.310</td>\n",
       "      <td>1.0</td>\n",
       "      <td>M_7</td>\n",
       "    </tr>\n",
       "    <tr>\n",
       "      <th>3</th>\n",
       "      <td>12346</td>\n",
       "      <td>2011-03-31</td>\n",
       "      <td>77183.60</td>\n",
       "      <td>77183.600</td>\n",
       "      <td>1.0</td>\n",
       "      <td>M_4</td>\n",
       "    </tr>\n",
       "    <tr>\n",
       "      <th>4</th>\n",
       "      <td>12347</td>\n",
       "      <td>2010-12-31</td>\n",
       "      <td>2035.11</td>\n",
       "      <td>1017.555</td>\n",
       "      <td>2.0</td>\n",
       "      <td>M_5</td>\n",
       "    </tr>\n",
       "    <tr>\n",
       "      <th>5</th>\n",
       "      <td>12347</td>\n",
       "      <td>2011-03-31</td>\n",
       "      <td>475.39</td>\n",
       "      <td>475.390</td>\n",
       "      <td>1.0</td>\n",
       "      <td>M_4</td>\n",
       "    </tr>\n",
       "    <tr>\n",
       "      <th>6</th>\n",
       "      <td>12347</td>\n",
       "      <td>2011-06-30</td>\n",
       "      <td>1018.77</td>\n",
       "      <td>509.385</td>\n",
       "      <td>2.0</td>\n",
       "      <td>M_3</td>\n",
       "    </tr>\n",
       "    <tr>\n",
       "      <th>7</th>\n",
       "      <td>12347</td>\n",
       "      <td>2011-09-30</td>\n",
       "      <td>584.91</td>\n",
       "      <td>584.910</td>\n",
       "      <td>1.0</td>\n",
       "      <td>M_2</td>\n",
       "    </tr>\n",
       "    <tr>\n",
       "      <th>8</th>\n",
       "      <td>12347</td>\n",
       "      <td>2011-12-31</td>\n",
       "      <td>1519.14</td>\n",
       "      <td>759.570</td>\n",
       "      <td>2.0</td>\n",
       "      <td>M_1</td>\n",
       "    </tr>\n",
       "    <tr>\n",
       "      <th>9</th>\n",
       "      <td>12348</td>\n",
       "      <td>2010-09-30</td>\n",
       "      <td>222.16</td>\n",
       "      <td>222.160</td>\n",
       "      <td>1.0</td>\n",
       "      <td>M_6</td>\n",
       "    </tr>\n",
       "    <tr>\n",
       "      <th>10</th>\n",
       "      <td>12348</td>\n",
       "      <td>2010-12-31</td>\n",
       "      <td>892.80</td>\n",
       "      <td>892.800</td>\n",
       "      <td>1.0</td>\n",
       "      <td>M_5</td>\n",
       "    </tr>\n",
       "    <tr>\n",
       "      <th>11</th>\n",
       "      <td>12348</td>\n",
       "      <td>2011-03-31</td>\n",
       "      <td>227.44</td>\n",
       "      <td>227.440</td>\n",
       "      <td>1.0</td>\n",
       "      <td>M_4</td>\n",
       "    </tr>\n",
       "  </tbody>\n",
       "</table>\n",
       "</div>"
      ],
      "text/plain": [
       "    Customer ID InvoiceDate  amountspent_sum  amountspent_avg  \\\n",
       "0         12346  2009-12-31           113.50           22.700   \n",
       "1         12346  2010-03-31           117.05           23.410   \n",
       "2         12346  2010-06-30           142.31          142.310   \n",
       "3         12346  2011-03-31         77183.60        77183.600   \n",
       "4         12347  2010-12-31          2035.11         1017.555   \n",
       "5         12347  2011-03-31           475.39          475.390   \n",
       "6         12347  2011-06-30          1018.77          509.385   \n",
       "7         12347  2011-09-30           584.91          584.910   \n",
       "8         12347  2011-12-31          1519.14          759.570   \n",
       "9         12348  2010-09-30           222.16          222.160   \n",
       "10        12348  2010-12-31           892.80          892.800   \n",
       "11        12348  2011-03-31           227.44          227.440   \n",
       "\n",
       "    amountspent_count    M  \n",
       "0                 5.0  M_9  \n",
       "1                 5.0  M_8  \n",
       "2                 1.0  M_7  \n",
       "3                 1.0  M_4  \n",
       "4                 2.0  M_5  \n",
       "5                 1.0  M_4  \n",
       "6                 2.0  M_3  \n",
       "7                 1.0  M_2  \n",
       "8                 2.0  M_1  \n",
       "9                 1.0  M_6  \n",
       "10                1.0  M_5  \n",
       "11                1.0  M_4  "
      ]
     },
     "execution_count": 40,
     "metadata": {},
     "output_type": "execute_result"
    }
   ],
   "source": [
    "# Now I want to creat a new culomn indication Sale quarters in Terms of M_k\n",
    "\n",
    "DateToQuarter = {str(x)[:10]: 'M_%s' % (i+1) for i, x in enumerate(TimeStepArray)}\n",
    "\n",
    "\n",
    "data_df['M'] = data_df['InvoiceDate'].apply(lambda x: DateToQuarter[str(x)[:10]])\n",
    "data_df.head(12)"
   ]
  },
  {
   "cell_type": "code",
   "execution_count": 41,
   "metadata": {},
   "outputs": [
    {
     "data": {
      "text/plain": [
       "(18026, 6)"
      ]
     },
     "execution_count": 41,
     "metadata": {},
     "output_type": "execute_result"
    }
   ],
   "source": [
    "data_df.shape"
   ]
  },
  {
   "cell_type": "code",
   "execution_count": 42,
   "metadata": {},
   "outputs": [
    {
     "data": {
      "text/plain": [
       "array(['M_9', 'M_8', 'M_7', 'M_4', 'M_5', 'M_3', 'M_2', 'M_1', 'M_6'],\n",
       "      dtype=object)"
      ]
     },
     "execution_count": 42,
     "metadata": {},
     "output_type": "execute_result"
    }
   ],
   "source": [
    "# Check the Quarters\n",
    "\n",
    "data_df['M'].unique()"
   ]
  },
  {
   "cell_type": "code",
   "execution_count": 43,
   "metadata": {},
   "outputs": [],
   "source": [
    "#Since M1 and M9 are not a complete quarter I remove them.\n",
    "\n",
    "data_df=data_df.loc[data_df['M']!='M_1']"
   ]
  },
  {
   "cell_type": "code",
   "execution_count": 44,
   "metadata": {},
   "outputs": [],
   "source": [
    "data_df=data_df.loc[data_df['M']!='M_9']"
   ]
  },
  {
   "cell_type": "code",
   "execution_count": 45,
   "metadata": {},
   "outputs": [
    {
     "data": {
      "text/plain": [
       "array(['M_8', 'M_7', 'M_4', 'M_5', 'M_3', 'M_2', 'M_6'], dtype=object)"
      ]
     },
     "execution_count": 45,
     "metadata": {},
     "output_type": "execute_result"
    }
   ],
   "source": [
    "data_df['M'].unique()"
   ]
  },
  {
   "cell_type": "code",
   "execution_count": 46,
   "metadata": {
    "scrolled": true
   },
   "outputs": [
    {
     "data": {
      "text/html": [
       "<div>\n",
       "<style scoped>\n",
       "    .dataframe tbody tr th:only-of-type {\n",
       "        vertical-align: middle;\n",
       "    }\n",
       "\n",
       "    .dataframe tbody tr th {\n",
       "        vertical-align: top;\n",
       "    }\n",
       "\n",
       "    .dataframe thead tr th {\n",
       "        text-align: left;\n",
       "    }\n",
       "\n",
       "    .dataframe thead tr:last-of-type th {\n",
       "        text-align: right;\n",
       "    }\n",
       "</style>\n",
       "<table border=\"1\" class=\"dataframe\">\n",
       "  <thead>\n",
       "    <tr>\n",
       "      <th></th>\n",
       "      <th colspan=\"6\" halign=\"left\">amountspent_avg</th>\n",
       "      <th colspan=\"6\" halign=\"left\">amountspent_count</th>\n",
       "      <th colspan=\"6\" halign=\"left\">amountspent_sum</th>\n",
       "    </tr>\n",
       "    <tr>\n",
       "      <th>M</th>\n",
       "      <th>M_3</th>\n",
       "      <th>M_4</th>\n",
       "      <th>M_5</th>\n",
       "      <th>M_6</th>\n",
       "      <th>M_7</th>\n",
       "      <th>M_8</th>\n",
       "      <th>M_3</th>\n",
       "      <th>M_4</th>\n",
       "      <th>M_5</th>\n",
       "      <th>M_6</th>\n",
       "      <th>M_7</th>\n",
       "      <th>M_8</th>\n",
       "      <th>M_3</th>\n",
       "      <th>M_4</th>\n",
       "      <th>M_5</th>\n",
       "      <th>M_6</th>\n",
       "      <th>M_7</th>\n",
       "      <th>M_8</th>\n",
       "    </tr>\n",
       "    <tr>\n",
       "      <th>Customer ID</th>\n",
       "      <th></th>\n",
       "      <th></th>\n",
       "      <th></th>\n",
       "      <th></th>\n",
       "      <th></th>\n",
       "      <th></th>\n",
       "      <th></th>\n",
       "      <th></th>\n",
       "      <th></th>\n",
       "      <th></th>\n",
       "      <th></th>\n",
       "      <th></th>\n",
       "      <th></th>\n",
       "      <th></th>\n",
       "      <th></th>\n",
       "      <th></th>\n",
       "      <th></th>\n",
       "      <th></th>\n",
       "    </tr>\n",
       "  </thead>\n",
       "  <tbody>\n",
       "    <tr>\n",
       "      <th>12346</th>\n",
       "      <td>NaN</td>\n",
       "      <td>77183.60</td>\n",
       "      <td>NaN</td>\n",
       "      <td>NaN</td>\n",
       "      <td>142.31</td>\n",
       "      <td>23.41</td>\n",
       "      <td>NaN</td>\n",
       "      <td>1.0</td>\n",
       "      <td>NaN</td>\n",
       "      <td>NaN</td>\n",
       "      <td>1.0</td>\n",
       "      <td>5.0</td>\n",
       "      <td>NaN</td>\n",
       "      <td>77183.60</td>\n",
       "      <td>NaN</td>\n",
       "      <td>NaN</td>\n",
       "      <td>142.31</td>\n",
       "      <td>117.05</td>\n",
       "    </tr>\n",
       "    <tr>\n",
       "      <th>12347</th>\n",
       "      <td>509.385</td>\n",
       "      <td>475.39</td>\n",
       "      <td>1017.555</td>\n",
       "      <td>NaN</td>\n",
       "      <td>NaN</td>\n",
       "      <td>NaN</td>\n",
       "      <td>2.0</td>\n",
       "      <td>1.0</td>\n",
       "      <td>2.0</td>\n",
       "      <td>NaN</td>\n",
       "      <td>NaN</td>\n",
       "      <td>NaN</td>\n",
       "      <td>1018.77</td>\n",
       "      <td>475.39</td>\n",
       "      <td>2035.11</td>\n",
       "      <td>NaN</td>\n",
       "      <td>NaN</td>\n",
       "      <td>NaN</td>\n",
       "    </tr>\n",
       "    <tr>\n",
       "      <th>12348</th>\n",
       "      <td>367.000</td>\n",
       "      <td>227.44</td>\n",
       "      <td>892.800</td>\n",
       "      <td>222.16</td>\n",
       "      <td>NaN</td>\n",
       "      <td>NaN</td>\n",
       "      <td>1.0</td>\n",
       "      <td>1.0</td>\n",
       "      <td>1.0</td>\n",
       "      <td>1.0</td>\n",
       "      <td>NaN</td>\n",
       "      <td>NaN</td>\n",
       "      <td>367.00</td>\n",
       "      <td>227.44</td>\n",
       "      <td>892.80</td>\n",
       "      <td>222.16</td>\n",
       "      <td>NaN</td>\n",
       "      <td>NaN</td>\n",
       "    </tr>\n",
       "    <tr>\n",
       "      <th>12349</th>\n",
       "      <td>NaN</td>\n",
       "      <td>NaN</td>\n",
       "      <td>1402.620</td>\n",
       "      <td>NaN</td>\n",
       "      <td>634.26</td>\n",
       "      <td>NaN</td>\n",
       "      <td>NaN</td>\n",
       "      <td>NaN</td>\n",
       "      <td>1.0</td>\n",
       "      <td>NaN</td>\n",
       "      <td>2.0</td>\n",
       "      <td>NaN</td>\n",
       "      <td>NaN</td>\n",
       "      <td>NaN</td>\n",
       "      <td>1402.62</td>\n",
       "      <td>NaN</td>\n",
       "      <td>1268.52</td>\n",
       "      <td>NaN</td>\n",
       "    </tr>\n",
       "    <tr>\n",
       "      <th>12350</th>\n",
       "      <td>NaN</td>\n",
       "      <td>334.40</td>\n",
       "      <td>NaN</td>\n",
       "      <td>NaN</td>\n",
       "      <td>NaN</td>\n",
       "      <td>NaN</td>\n",
       "      <td>NaN</td>\n",
       "      <td>1.0</td>\n",
       "      <td>NaN</td>\n",
       "      <td>NaN</td>\n",
       "      <td>NaN</td>\n",
       "      <td>NaN</td>\n",
       "      <td>NaN</td>\n",
       "      <td>334.40</td>\n",
       "      <td>NaN</td>\n",
       "      <td>NaN</td>\n",
       "      <td>NaN</td>\n",
       "      <td>NaN</td>\n",
       "    </tr>\n",
       "  </tbody>\n",
       "</table>\n",
       "</div>"
      ],
      "text/plain": [
       "            amountspent_avg                                             \\\n",
       "M                       M_3       M_4       M_5     M_6     M_7    M_8   \n",
       "Customer ID                                                              \n",
       "12346                   NaN  77183.60       NaN     NaN  142.31  23.41   \n",
       "12347               509.385    475.39  1017.555     NaN     NaN    NaN   \n",
       "12348               367.000    227.44   892.800  222.16     NaN    NaN   \n",
       "12349                   NaN       NaN  1402.620     NaN  634.26    NaN   \n",
       "12350                   NaN    334.40       NaN     NaN     NaN    NaN   \n",
       "\n",
       "            amountspent_count                          amountspent_sum  \\\n",
       "M                         M_3  M_4  M_5  M_6  M_7  M_8             M_3   \n",
       "Customer ID                                                              \n",
       "12346                     NaN  1.0  NaN  NaN  1.0  5.0             NaN   \n",
       "12347                     2.0  1.0  2.0  NaN  NaN  NaN         1018.77   \n",
       "12348                     1.0  1.0  1.0  1.0  NaN  NaN          367.00   \n",
       "12349                     NaN  NaN  1.0  NaN  2.0  NaN             NaN   \n",
       "12350                     NaN  1.0  NaN  NaN  NaN  NaN             NaN   \n",
       "\n",
       "                                                         \n",
       "M                 M_4      M_5     M_6      M_7     M_8  \n",
       "Customer ID                                              \n",
       "12346        77183.60      NaN     NaN   142.31  117.05  \n",
       "12347          475.39  2035.11     NaN      NaN     NaN  \n",
       "12348          227.44   892.80  222.16      NaN     NaN  \n",
       "12349             NaN  1402.62     NaN  1268.52     NaN  \n",
       "12350          334.40      NaN     NaN      NaN     NaN  "
      ]
     },
     "execution_count": 46,
     "metadata": {},
     "output_type": "execute_result"
    }
   ],
   "source": [
    "# To create my Features DF , I use Pivot_table in pandas, reshaping my current DataFrame\n",
    "# at the same time I choose the data related to M2 as response data and remove it\n",
    "\n",
    "features_df = pd.pivot_table(data_df.loc[data_df['M'] != 'M_2'],index='Customer ID', columns='M', values=['amountspent_sum', 'amountspent_avg', 'amountspent_count'])\n",
    "\n",
    "features_df.head()"
   ]
  },
  {
   "cell_type": "code",
   "execution_count": 47,
   "metadata": {},
   "outputs": [
    {
     "data": {
      "text/html": [
       "<div>\n",
       "<style scoped>\n",
       "    .dataframe tbody tr th:only-of-type {\n",
       "        vertical-align: middle;\n",
       "    }\n",
       "\n",
       "    .dataframe tbody tr th {\n",
       "        vertical-align: top;\n",
       "    }\n",
       "\n",
       "    .dataframe thead th {\n",
       "        text-align: right;\n",
       "    }\n",
       "</style>\n",
       "<table border=\"1\" class=\"dataframe\">\n",
       "  <thead>\n",
       "    <tr style=\"text-align: right;\">\n",
       "      <th></th>\n",
       "      <th>amountspent_avg_M_3</th>\n",
       "      <th>amountspent_avg_M_4</th>\n",
       "      <th>amountspent_avg_M_5</th>\n",
       "      <th>amountspent_avg_M_6</th>\n",
       "      <th>amountspent_avg_M_7</th>\n",
       "      <th>amountspent_avg_M_8</th>\n",
       "      <th>amountspent_count_M_3</th>\n",
       "      <th>amountspent_count_M_4</th>\n",
       "      <th>amountspent_count_M_5</th>\n",
       "      <th>amountspent_count_M_6</th>\n",
       "      <th>amountspent_count_M_7</th>\n",
       "      <th>amountspent_count_M_8</th>\n",
       "      <th>amountspent_sum_M_3</th>\n",
       "      <th>amountspent_sum_M_4</th>\n",
       "      <th>amountspent_sum_M_5</th>\n",
       "      <th>amountspent_sum_M_6</th>\n",
       "      <th>amountspent_sum_M_7</th>\n",
       "      <th>amountspent_sum_M_8</th>\n",
       "    </tr>\n",
       "    <tr>\n",
       "      <th>Customer ID</th>\n",
       "      <th></th>\n",
       "      <th></th>\n",
       "      <th></th>\n",
       "      <th></th>\n",
       "      <th></th>\n",
       "      <th></th>\n",
       "      <th></th>\n",
       "      <th></th>\n",
       "      <th></th>\n",
       "      <th></th>\n",
       "      <th></th>\n",
       "      <th></th>\n",
       "      <th></th>\n",
       "      <th></th>\n",
       "      <th></th>\n",
       "      <th></th>\n",
       "      <th></th>\n",
       "      <th></th>\n",
       "    </tr>\n",
       "  </thead>\n",
       "  <tbody>\n",
       "    <tr>\n",
       "      <th>12346</th>\n",
       "      <td>NaN</td>\n",
       "      <td>77183.60</td>\n",
       "      <td>NaN</td>\n",
       "      <td>NaN</td>\n",
       "      <td>142.31</td>\n",
       "      <td>23.41</td>\n",
       "      <td>NaN</td>\n",
       "      <td>1.0</td>\n",
       "      <td>NaN</td>\n",
       "      <td>NaN</td>\n",
       "      <td>1.0</td>\n",
       "      <td>5.0</td>\n",
       "      <td>NaN</td>\n",
       "      <td>77183.60</td>\n",
       "      <td>NaN</td>\n",
       "      <td>NaN</td>\n",
       "      <td>142.31</td>\n",
       "      <td>117.05</td>\n",
       "    </tr>\n",
       "    <tr>\n",
       "      <th>12347</th>\n",
       "      <td>509.385</td>\n",
       "      <td>475.39</td>\n",
       "      <td>1017.555</td>\n",
       "      <td>NaN</td>\n",
       "      <td>NaN</td>\n",
       "      <td>NaN</td>\n",
       "      <td>2.0</td>\n",
       "      <td>1.0</td>\n",
       "      <td>2.0</td>\n",
       "      <td>NaN</td>\n",
       "      <td>NaN</td>\n",
       "      <td>NaN</td>\n",
       "      <td>1018.77</td>\n",
       "      <td>475.39</td>\n",
       "      <td>2035.11</td>\n",
       "      <td>NaN</td>\n",
       "      <td>NaN</td>\n",
       "      <td>NaN</td>\n",
       "    </tr>\n",
       "    <tr>\n",
       "      <th>12348</th>\n",
       "      <td>367.000</td>\n",
       "      <td>227.44</td>\n",
       "      <td>892.800</td>\n",
       "      <td>222.16</td>\n",
       "      <td>NaN</td>\n",
       "      <td>NaN</td>\n",
       "      <td>1.0</td>\n",
       "      <td>1.0</td>\n",
       "      <td>1.0</td>\n",
       "      <td>1.0</td>\n",
       "      <td>NaN</td>\n",
       "      <td>NaN</td>\n",
       "      <td>367.00</td>\n",
       "      <td>227.44</td>\n",
       "      <td>892.80</td>\n",
       "      <td>222.16</td>\n",
       "      <td>NaN</td>\n",
       "      <td>NaN</td>\n",
       "    </tr>\n",
       "    <tr>\n",
       "      <th>12349</th>\n",
       "      <td>NaN</td>\n",
       "      <td>NaN</td>\n",
       "      <td>1402.620</td>\n",
       "      <td>NaN</td>\n",
       "      <td>634.26</td>\n",
       "      <td>NaN</td>\n",
       "      <td>NaN</td>\n",
       "      <td>NaN</td>\n",
       "      <td>1.0</td>\n",
       "      <td>NaN</td>\n",
       "      <td>2.0</td>\n",
       "      <td>NaN</td>\n",
       "      <td>NaN</td>\n",
       "      <td>NaN</td>\n",
       "      <td>1402.62</td>\n",
       "      <td>NaN</td>\n",
       "      <td>1268.52</td>\n",
       "      <td>NaN</td>\n",
       "    </tr>\n",
       "    <tr>\n",
       "      <th>12350</th>\n",
       "      <td>NaN</td>\n",
       "      <td>334.40</td>\n",
       "      <td>NaN</td>\n",
       "      <td>NaN</td>\n",
       "      <td>NaN</td>\n",
       "      <td>NaN</td>\n",
       "      <td>NaN</td>\n",
       "      <td>1.0</td>\n",
       "      <td>NaN</td>\n",
       "      <td>NaN</td>\n",
       "      <td>NaN</td>\n",
       "      <td>NaN</td>\n",
       "      <td>NaN</td>\n",
       "      <td>334.40</td>\n",
       "      <td>NaN</td>\n",
       "      <td>NaN</td>\n",
       "      <td>NaN</td>\n",
       "      <td>NaN</td>\n",
       "    </tr>\n",
       "  </tbody>\n",
       "</table>\n",
       "</div>"
      ],
      "text/plain": [
       "             amountspent_avg_M_3  amountspent_avg_M_4  amountspent_avg_M_5  \\\n",
       "Customer ID                                                                  \n",
       "12346                        NaN             77183.60                  NaN   \n",
       "12347                    509.385               475.39             1017.555   \n",
       "12348                    367.000               227.44              892.800   \n",
       "12349                        NaN                  NaN             1402.620   \n",
       "12350                        NaN               334.40                  NaN   \n",
       "\n",
       "             amountspent_avg_M_6  amountspent_avg_M_7  amountspent_avg_M_8  \\\n",
       "Customer ID                                                                  \n",
       "12346                        NaN               142.31                23.41   \n",
       "12347                        NaN                  NaN                  NaN   \n",
       "12348                     222.16                  NaN                  NaN   \n",
       "12349                        NaN               634.26                  NaN   \n",
       "12350                        NaN                  NaN                  NaN   \n",
       "\n",
       "             amountspent_count_M_3  amountspent_count_M_4  \\\n",
       "Customer ID                                                 \n",
       "12346                          NaN                    1.0   \n",
       "12347                          2.0                    1.0   \n",
       "12348                          1.0                    1.0   \n",
       "12349                          NaN                    NaN   \n",
       "12350                          NaN                    1.0   \n",
       "\n",
       "             amountspent_count_M_5  amountspent_count_M_6  \\\n",
       "Customer ID                                                 \n",
       "12346                          NaN                    NaN   \n",
       "12347                          2.0                    NaN   \n",
       "12348                          1.0                    1.0   \n",
       "12349                          1.0                    NaN   \n",
       "12350                          NaN                    NaN   \n",
       "\n",
       "             amountspent_count_M_7  amountspent_count_M_8  \\\n",
       "Customer ID                                                 \n",
       "12346                          1.0                    5.0   \n",
       "12347                          NaN                    NaN   \n",
       "12348                          NaN                    NaN   \n",
       "12349                          2.0                    NaN   \n",
       "12350                          NaN                    NaN   \n",
       "\n",
       "             amountspent_sum_M_3  amountspent_sum_M_4  amountspent_sum_M_5  \\\n",
       "Customer ID                                                                  \n",
       "12346                        NaN             77183.60                  NaN   \n",
       "12347                    1018.77               475.39              2035.11   \n",
       "12348                     367.00               227.44               892.80   \n",
       "12349                        NaN                  NaN              1402.62   \n",
       "12350                        NaN               334.40                  NaN   \n",
       "\n",
       "             amountspent_sum_M_6  amountspent_sum_M_7  amountspent_sum_M_8  \n",
       "Customer ID                                                                 \n",
       "12346                        NaN               142.31               117.05  \n",
       "12347                        NaN                  NaN                  NaN  \n",
       "12348                     222.16                  NaN                  NaN  \n",
       "12349                        NaN              1268.52                  NaN  \n",
       "12350                        NaN                  NaN                  NaN  "
      ]
     },
     "execution_count": 47,
     "metadata": {},
     "output_type": "execute_result"
    }
   ],
   "source": [
    "# Now I consolidate the culomn's names\n",
    "\n",
    "features_df.columns = ['_'.join(col) for col in features_df.columns]\n",
    "\n",
    "features_df.head()"
   ]
  },
  {
   "cell_type": "code",
   "execution_count": 48,
   "metadata": {},
   "outputs": [
    {
     "data": {
      "text/plain": [
       "(4943, 18)"
      ]
     },
     "execution_count": 48,
     "metadata": {},
     "output_type": "execute_result"
    }
   ],
   "source": [
    "features_df.shape"
   ]
  },
  {
   "cell_type": "code",
   "execution_count": 49,
   "metadata": {},
   "outputs": [
    {
     "data": {
      "text/html": [
       "<div>\n",
       "<style scoped>\n",
       "    .dataframe tbody tr th:only-of-type {\n",
       "        vertical-align: middle;\n",
       "    }\n",
       "\n",
       "    .dataframe tbody tr th {\n",
       "        vertical-align: top;\n",
       "    }\n",
       "\n",
       "    .dataframe thead th {\n",
       "        text-align: right;\n",
       "    }\n",
       "</style>\n",
       "<table border=\"1\" class=\"dataframe\">\n",
       "  <thead>\n",
       "    <tr style=\"text-align: right;\">\n",
       "      <th></th>\n",
       "      <th>Customer ID</th>\n",
       "      <th>CLV_3M</th>\n",
       "    </tr>\n",
       "  </thead>\n",
       "  <tbody>\n",
       "    <tr>\n",
       "      <th>7</th>\n",
       "      <td>12347</td>\n",
       "      <td>584.91</td>\n",
       "    </tr>\n",
       "    <tr>\n",
       "      <th>13</th>\n",
       "      <td>12348</td>\n",
       "      <td>310.00</td>\n",
       "    </tr>\n",
       "    <tr>\n",
       "      <th>21</th>\n",
       "      <td>12352</td>\n",
       "      <td>632.50</td>\n",
       "    </tr>\n",
       "    <tr>\n",
       "      <th>37</th>\n",
       "      <td>12358</td>\n",
       "      <td>484.86</td>\n",
       "    </tr>\n",
       "    <tr>\n",
       "      <th>50</th>\n",
       "      <td>12360</td>\n",
       "      <td>534.70</td>\n",
       "    </tr>\n",
       "  </tbody>\n",
       "</table>\n",
       "</div>"
      ],
      "text/plain": [
       "    Customer ID  CLV_3M\n",
       "7         12347  584.91\n",
       "13        12348  310.00\n",
       "21        12352  632.50\n",
       "37        12358  484.86\n",
       "50        12360  534.70"
      ]
     },
     "execution_count": 49,
     "metadata": {},
     "output_type": "execute_result"
    }
   ],
   "source": [
    "# Now I make the response df using M2 data\n",
    "# In comming cells I will name my Target Variable as (target_var = 'CLV_'+clv_freq)\n",
    "\n",
    "\n",
    "response_df = data_df.loc[data_df['M'] == 'M_2', ['Customer ID', 'amountspent_sum']]\n",
    "\n",
    "response_df.columns = ['Customer ID', 'CLV_'+clv_freq]\n",
    "response_df.head()"
   ]
  },
  {
   "cell_type": "code",
   "execution_count": 50,
   "metadata": {},
   "outputs": [
    {
     "data": {
      "text/plain": [
       "(2161, 2)"
      ]
     },
     "execution_count": 50,
     "metadata": {},
     "output_type": "execute_result"
    }
   ],
   "source": [
    "response_df.shape"
   ]
  },
  {
   "cell_type": "code",
   "execution_count": 51,
   "metadata": {},
   "outputs": [
    {
     "data": {
      "text/html": [
       "<div>\n",
       "<style scoped>\n",
       "    .dataframe tbody tr th:only-of-type {\n",
       "        vertical-align: middle;\n",
       "    }\n",
       "\n",
       "    .dataframe tbody tr th {\n",
       "        vertical-align: top;\n",
       "    }\n",
       "\n",
       "    .dataframe thead th {\n",
       "        text-align: right;\n",
       "    }\n",
       "</style>\n",
       "<table border=\"1\" class=\"dataframe\">\n",
       "  <thead>\n",
       "    <tr style=\"text-align: right;\">\n",
       "      <th></th>\n",
       "      <th>amountspent_avg_M_3</th>\n",
       "      <th>amountspent_avg_M_4</th>\n",
       "      <th>amountspent_avg_M_5</th>\n",
       "      <th>amountspent_avg_M_6</th>\n",
       "      <th>amountspent_avg_M_7</th>\n",
       "      <th>amountspent_avg_M_8</th>\n",
       "      <th>amountspent_count_M_3</th>\n",
       "      <th>amountspent_count_M_4</th>\n",
       "      <th>amountspent_count_M_5</th>\n",
       "      <th>amountspent_count_M_6</th>\n",
       "      <th>amountspent_count_M_7</th>\n",
       "      <th>amountspent_count_M_8</th>\n",
       "      <th>amountspent_sum_M_3</th>\n",
       "      <th>amountspent_sum_M_4</th>\n",
       "      <th>amountspent_sum_M_5</th>\n",
       "      <th>amountspent_sum_M_6</th>\n",
       "      <th>amountspent_sum_M_7</th>\n",
       "      <th>amountspent_sum_M_8</th>\n",
       "      <th>Customer ID</th>\n",
       "      <th>CLV_3M</th>\n",
       "    </tr>\n",
       "  </thead>\n",
       "  <tbody>\n",
       "    <tr>\n",
       "      <th>NaN</th>\n",
       "      <td>0.000</td>\n",
       "      <td>77183.60</td>\n",
       "      <td>0.000</td>\n",
       "      <td>0.00</td>\n",
       "      <td>142.31</td>\n",
       "      <td>23.41</td>\n",
       "      <td>0.0</td>\n",
       "      <td>1.0</td>\n",
       "      <td>0.0</td>\n",
       "      <td>0.0</td>\n",
       "      <td>1.0</td>\n",
       "      <td>5.0</td>\n",
       "      <td>0.00</td>\n",
       "      <td>77183.60</td>\n",
       "      <td>0.00</td>\n",
       "      <td>0.00</td>\n",
       "      <td>142.31</td>\n",
       "      <td>117.05</td>\n",
       "      <td>12346</td>\n",
       "      <td>0.00</td>\n",
       "    </tr>\n",
       "    <tr>\n",
       "      <th>7.0</th>\n",
       "      <td>509.385</td>\n",
       "      <td>475.39</td>\n",
       "      <td>1017.555</td>\n",
       "      <td>0.00</td>\n",
       "      <td>0.00</td>\n",
       "      <td>0.00</td>\n",
       "      <td>2.0</td>\n",
       "      <td>1.0</td>\n",
       "      <td>2.0</td>\n",
       "      <td>0.0</td>\n",
       "      <td>0.0</td>\n",
       "      <td>0.0</td>\n",
       "      <td>1018.77</td>\n",
       "      <td>475.39</td>\n",
       "      <td>2035.11</td>\n",
       "      <td>0.00</td>\n",
       "      <td>0.00</td>\n",
       "      <td>0.00</td>\n",
       "      <td>12347</td>\n",
       "      <td>584.91</td>\n",
       "    </tr>\n",
       "    <tr>\n",
       "      <th>13.0</th>\n",
       "      <td>367.000</td>\n",
       "      <td>227.44</td>\n",
       "      <td>892.800</td>\n",
       "      <td>222.16</td>\n",
       "      <td>0.00</td>\n",
       "      <td>0.00</td>\n",
       "      <td>1.0</td>\n",
       "      <td>1.0</td>\n",
       "      <td>1.0</td>\n",
       "      <td>1.0</td>\n",
       "      <td>0.0</td>\n",
       "      <td>0.0</td>\n",
       "      <td>367.00</td>\n",
       "      <td>227.44</td>\n",
       "      <td>892.80</td>\n",
       "      <td>222.16</td>\n",
       "      <td>0.00</td>\n",
       "      <td>0.00</td>\n",
       "      <td>12348</td>\n",
       "      <td>310.00</td>\n",
       "    </tr>\n",
       "    <tr>\n",
       "      <th>NaN</th>\n",
       "      <td>0.000</td>\n",
       "      <td>0.00</td>\n",
       "      <td>1402.620</td>\n",
       "      <td>0.00</td>\n",
       "      <td>634.26</td>\n",
       "      <td>0.00</td>\n",
       "      <td>0.0</td>\n",
       "      <td>0.0</td>\n",
       "      <td>1.0</td>\n",
       "      <td>0.0</td>\n",
       "      <td>2.0</td>\n",
       "      <td>0.0</td>\n",
       "      <td>0.00</td>\n",
       "      <td>0.00</td>\n",
       "      <td>1402.62</td>\n",
       "      <td>0.00</td>\n",
       "      <td>1268.52</td>\n",
       "      <td>0.00</td>\n",
       "      <td>12349</td>\n",
       "      <td>0.00</td>\n",
       "    </tr>\n",
       "    <tr>\n",
       "      <th>NaN</th>\n",
       "      <td>0.000</td>\n",
       "      <td>334.40</td>\n",
       "      <td>0.000</td>\n",
       "      <td>0.00</td>\n",
       "      <td>0.00</td>\n",
       "      <td>0.00</td>\n",
       "      <td>0.0</td>\n",
       "      <td>1.0</td>\n",
       "      <td>0.0</td>\n",
       "      <td>0.0</td>\n",
       "      <td>0.0</td>\n",
       "      <td>0.0</td>\n",
       "      <td>0.00</td>\n",
       "      <td>334.40</td>\n",
       "      <td>0.00</td>\n",
       "      <td>0.00</td>\n",
       "      <td>0.00</td>\n",
       "      <td>0.00</td>\n",
       "      <td>12350</td>\n",
       "      <td>0.00</td>\n",
       "    </tr>\n",
       "  </tbody>\n",
       "</table>\n",
       "</div>"
      ],
      "text/plain": [
       "      amountspent_avg_M_3  amountspent_avg_M_4  amountspent_avg_M_5  \\\n",
       "NaN                 0.000             77183.60                0.000   \n",
       "7.0               509.385               475.39             1017.555   \n",
       "13.0              367.000               227.44              892.800   \n",
       "NaN                 0.000                 0.00             1402.620   \n",
       "NaN                 0.000               334.40                0.000   \n",
       "\n",
       "      amountspent_avg_M_6  amountspent_avg_M_7  amountspent_avg_M_8  \\\n",
       "NaN                  0.00               142.31                23.41   \n",
       "7.0                  0.00                 0.00                 0.00   \n",
       "13.0               222.16                 0.00                 0.00   \n",
       "NaN                  0.00               634.26                 0.00   \n",
       "NaN                  0.00                 0.00                 0.00   \n",
       "\n",
       "      amountspent_count_M_3  amountspent_count_M_4  amountspent_count_M_5  \\\n",
       "NaN                     0.0                    1.0                    0.0   \n",
       "7.0                     2.0                    1.0                    2.0   \n",
       "13.0                    1.0                    1.0                    1.0   \n",
       "NaN                     0.0                    0.0                    1.0   \n",
       "NaN                     0.0                    1.0                    0.0   \n",
       "\n",
       "      amountspent_count_M_6  amountspent_count_M_7  amountspent_count_M_8  \\\n",
       "NaN                     0.0                    1.0                    5.0   \n",
       "7.0                     0.0                    0.0                    0.0   \n",
       "13.0                    1.0                    0.0                    0.0   \n",
       "NaN                     0.0                    2.0                    0.0   \n",
       "NaN                     0.0                    0.0                    0.0   \n",
       "\n",
       "      amountspent_sum_M_3  amountspent_sum_M_4  amountspent_sum_M_5  \\\n",
       "NaN                  0.00             77183.60                 0.00   \n",
       "7.0               1018.77               475.39              2035.11   \n",
       "13.0               367.00               227.44               892.80   \n",
       "NaN                  0.00                 0.00              1402.62   \n",
       "NaN                  0.00               334.40                 0.00   \n",
       "\n",
       "      amountspent_sum_M_6  amountspent_sum_M_7  amountspent_sum_M_8  \\\n",
       "NaN                  0.00               142.31               117.05   \n",
       "7.0                  0.00                 0.00                 0.00   \n",
       "13.0               222.16                 0.00                 0.00   \n",
       "NaN                  0.00              1268.52                 0.00   \n",
       "NaN                  0.00                 0.00                 0.00   \n",
       "\n",
       "      Customer ID  CLV_3M  \n",
       "NaN         12346    0.00  \n",
       "7.0         12347  584.91  \n",
       "13.0        12348  310.00  \n",
       "NaN         12349    0.00  \n",
       "NaN         12350    0.00  "
      ]
     },
     "execution_count": 51,
     "metadata": {},
     "output_type": "execute_result"
    }
   ],
   "source": [
    "# Here I create my Sample Set by merging features df with response df\n",
    "\n",
    "# at the same time I fill all NaN values with Zero.\n",
    "\n",
    "sample_set_df = features_df.merge(\n",
    "    response_df, \n",
    "    left_index=True, \n",
    "    right_on='Customer ID',\n",
    "    how='left'\n",
    ")\n",
    "\n",
    "sample_set_df = sample_set_df.fillna(0)\n",
    "sample_set_df.head()"
   ]
  },
  {
   "cell_type": "code",
   "execution_count": 52,
   "metadata": {},
   "outputs": [
    {
     "data": {
      "text/plain": [
       "(4943, 20)"
      ]
     },
     "execution_count": 52,
     "metadata": {},
     "output_type": "execute_result"
    }
   ],
   "source": [
    "sample_set_df.shape"
   ]
  },
  {
   "cell_type": "code",
   "execution_count": 53,
   "metadata": {},
   "outputs": [
    {
     "data": {
      "image/png": "[encoded data removed]",
      "text/plain": [
       "<Figure size 1080x720 with 2 Axes>"
      ]
     },
     "metadata": {},
     "output_type": "display_data"
    }
   ],
   "source": [
    "plt.figure(figsize=(15,10))\n",
    "sns.heatmap(features_df.corr(), annot=True)\n",
    "plt.show()"
   ]
  },
  {
   "cell_type": "code",
   "execution_count": null,
   "metadata": {},
   "outputs": [],
   "source": []
  },
  {
   "cell_type": "markdown",
   "metadata": {},
   "source": [
    "# Feature selection #1: Multivariate correlation filtering method"
   ]
  },
  {
   "cell_type": "code",
   "execution_count": 88,
   "metadata": {},
   "outputs": [],
   "source": [
    "# Import libraries for Linear regression\n",
    "from sklearn.linear_model import LinearRegression\n",
    "from sklearn.model_selection import train_test_split\n",
    "\n",
    "# I define a target Variable and a list of my features to be used in train_test_split:\n",
    "\n",
    "target_var = 'CLV_'+clv_freq\n",
    "all_features = [x for x in sample_set_df.columns if x not in ['Customer ID', target_var]]\n",
    "\n",
    "\n",
    "\n",
    "# Spliting data in Train and Test\n",
    "x_train, x_test, y_train, y_test = train_test_split(sample_set_df[all_features], sample_set_df[target_var], random_state=0, test_size=0.3)\n",
    "\n"
   ]
  },
  {
   "cell_type": "code",
   "execution_count": 89,
   "metadata": {},
   "outputs": [
    {
     "data": {
      "text/html": [
       "<div>\n",
       "<style scoped>\n",
       "    .dataframe tbody tr th:only-of-type {\n",
       "        vertical-align: middle;\n",
       "    }\n",
       "\n",
       "    .dataframe tbody tr th {\n",
       "        vertical-align: top;\n",
       "    }\n",
       "\n",
       "    .dataframe thead th {\n",
       "        text-align: right;\n",
       "    }\n",
       "</style>\n",
       "<table border=\"1\" class=\"dataframe\">\n",
       "  <thead>\n",
       "    <tr style=\"text-align: right;\">\n",
       "      <th></th>\n",
       "      <th>feature1</th>\n",
       "      <th>feature2</th>\n",
       "      <th>corr</th>\n",
       "    </tr>\n",
       "  </thead>\n",
       "  <tbody>\n",
       "    <tr>\n",
       "      <th>0</th>\n",
       "      <td>amountspent_sum_M_8</td>\n",
       "      <td>amountspent_sum_M_6</td>\n",
       "      <td>0.837098</td>\n",
       "    </tr>\n",
       "    <tr>\n",
       "      <th>1</th>\n",
       "      <td>amountspent_sum_M_6</td>\n",
       "      <td>amountspent_sum_M_8</td>\n",
       "      <td>0.837098</td>\n",
       "    </tr>\n",
       "    <tr>\n",
       "      <th>2</th>\n",
       "      <td>amountspent_sum_M_5</td>\n",
       "      <td>amountspent_sum_M_6</td>\n",
       "      <td>0.835137</td>\n",
       "    </tr>\n",
       "    <tr>\n",
       "      <th>3</th>\n",
       "      <td>amountspent_sum_M_6</td>\n",
       "      <td>amountspent_sum_M_5</td>\n",
       "      <td>0.835137</td>\n",
       "    </tr>\n",
       "    <tr>\n",
       "      <th>4</th>\n",
       "      <td>amountspent_sum_M_4</td>\n",
       "      <td>amountspent_avg_M_4</td>\n",
       "      <td>0.807837</td>\n",
       "    </tr>\n",
       "  </tbody>\n",
       "</table>\n",
       "</div>"
      ],
      "text/plain": [
       "              feature1             feature2      corr\n",
       "0  amountspent_sum_M_8  amountspent_sum_M_6  0.837098\n",
       "1  amountspent_sum_M_6  amountspent_sum_M_8  0.837098\n",
       "2  amountspent_sum_M_5  amountspent_sum_M_6  0.835137\n",
       "3  amountspent_sum_M_6  amountspent_sum_M_5  0.835137\n",
       "4  amountspent_sum_M_4  amountspent_avg_M_4  0.807837"
      ]
     },
     "execution_count": 89,
     "metadata": {},
     "output_type": "execute_result"
    }
   ],
   "source": [
    "# I build a dataframe with the correlation between features\n",
    "# Here just the absolute value of the correlation coefficient is important and not the sign\n",
    "\n",
    "corrmat = x_train.corr()\n",
    "corrmat = corrmat.abs().unstack() # absolute value of corr coef\n",
    "corrmat = corrmat.sort_values(ascending=False)\n",
    "corrmat = corrmat[corrmat >= 0.8]\n",
    "corrmat = corrmat[corrmat < 1]\n",
    "corrmat = pd.DataFrame(corrmat).reset_index()\n",
    "corrmat.columns = ['feature1', 'feature2', 'corr']\n",
    "corrmat.head()"
   ]
  },
  {
   "cell_type": "code",
   "execution_count": 90,
   "metadata": {},
   "outputs": [
    {
     "name": "stdout",
     "output_type": "stream",
     "text": [
      "found 3 correlated groups\n",
      "out of 18 total features\n"
     ]
    }
   ],
   "source": [
    "# I'm gonna find groups of correlated features\n",
    "\n",
    "grouped_feature_ls = []\n",
    "correlated_groups = []\n",
    "\n",
    "for feature in corrmat.feature1.unique():\n",
    "    \n",
    "    if feature not in grouped_feature_ls:\n",
    "\n",
    "        # find all features correlated to a single feature\n",
    "        correlated_block = corrmat[corrmat.feature1 == feature]\n",
    "        grouped_feature_ls = grouped_feature_ls + list(\n",
    "            correlated_block.feature2.unique()) + [feature]\n",
    "\n",
    "        # append the block of features to the list\n",
    "        correlated_groups.append(correlated_block)\n",
    "\n",
    "print('found {} correlated groups'.format(len(correlated_groups)))\n",
    "print('out of {} total features'.format(x_train.shape[1]))"
   ]
  },
  {
   "cell_type": "code",
   "execution_count": 91,
   "metadata": {},
   "outputs": [
    {
     "name": "stdout",
     "output_type": "stream",
     "text": [
      "              feature1             feature2      corr\n",
      "0  amountspent_sum_M_8  amountspent_sum_M_6  0.837098\n",
      "7  amountspent_sum_M_8  amountspent_sum_M_7  0.804847\n",
      "\n",
      "              feature1             feature2      corr\n",
      "2  amountspent_sum_M_5  amountspent_sum_M_6  0.835137\n",
      "\n",
      "              feature1             feature2      corr\n",
      "4  amountspent_sum_M_4  amountspent_avg_M_4  0.807837\n",
      "\n"
     ]
    }
   ],
   "source": [
    "# now we can print out each group. We see that some groups contain only 2 correlated features, some other groups present several features \n",
    "# that are correlated among themselves.\n",
    "\n",
    "for group in correlated_groups:\n",
    "    print(group)\n",
    "    print()"
   ]
  },
  {
   "cell_type": "code",
   "execution_count": 92,
   "metadata": {},
   "outputs": [
    {
     "data": {
      "text/html": [
       "<div>\n",
       "<style scoped>\n",
       "    .dataframe tbody tr th:only-of-type {\n",
       "        vertical-align: middle;\n",
       "    }\n",
       "\n",
       "    .dataframe tbody tr th {\n",
       "        vertical-align: top;\n",
       "    }\n",
       "\n",
       "    .dataframe thead th {\n",
       "        text-align: right;\n",
       "    }\n",
       "</style>\n",
       "<table border=\"1\" class=\"dataframe\">\n",
       "  <thead>\n",
       "    <tr style=\"text-align: right;\">\n",
       "      <th></th>\n",
       "      <th>feature1</th>\n",
       "      <th>feature2</th>\n",
       "      <th>corr</th>\n",
       "    </tr>\n",
       "  </thead>\n",
       "  <tbody>\n",
       "    <tr>\n",
       "      <th>0</th>\n",
       "      <td>amountspent_sum_M_8</td>\n",
       "      <td>amountspent_sum_M_6</td>\n",
       "      <td>0.837098</td>\n",
       "    </tr>\n",
       "    <tr>\n",
       "      <th>7</th>\n",
       "      <td>amountspent_sum_M_8</td>\n",
       "      <td>amountspent_sum_M_7</td>\n",
       "      <td>0.804847</td>\n",
       "    </tr>\n",
       "  </tbody>\n",
       "</table>\n",
       "</div>"
      ],
      "text/plain": [
       "              feature1             feature2      corr\n",
       "0  amountspent_sum_M_8  amountspent_sum_M_6  0.837098\n",
       "7  amountspent_sum_M_8  amountspent_sum_M_7  0.804847"
      ]
     },
     "execution_count": 92,
     "metadata": {},
     "output_type": "execute_result"
    }
   ],
   "source": [
    "# we can now investigate further features within one group.\n",
    "\n",
    "\n",
    "group = correlated_groups[0]\n",
    "group"
   ]
  },
  {
   "cell_type": "code",
   "execution_count": null,
   "metadata": {},
   "outputs": [],
   "source": [
    "# In this group, several features are highly correlated. Which one should we keep and which ones should we remove?\n",
    "\n",
    "# One criteria to select which features to use from this group, would be to use those with less missing data. Since Our dataset contains no missing values, so this is not an option.\n",
    "\n",
    "\n",
    "\n",
    "# Alternatively, we could build a machine learning algorithm using all the features from the above list, and select the more predictive one."
   ]
  },
  {
   "cell_type": "code",
   "execution_count": 94,
   "metadata": {},
   "outputs": [
    {
     "data": {
      "text/plain": [
       "RandomForestClassifier(max_depth=4, n_estimators=200, random_state=39)"
      ]
     },
     "execution_count": 94,
     "metadata": {},
     "output_type": "execute_result"
    }
   ],
   "source": [
    "from sklearn.ensemble import RandomForestClassifier\n",
    "\n",
    "# add all features of the group to a list\n",
    "features = list(group['feature2'].unique())+['amountspent_sum_M_8']\n",
    "\n",
    "\n",
    "\n",
    "#kh:baraye inke error \"Unknown label type: 'continuous'\" nagiram bayad Y ro encode mikardam.\n",
    "from sklearn import preprocessing\n",
    "lab_enc = preprocessing.LabelEncoder()\n",
    "y_train_encoded = lab_enc.fit_transform(y_train)\n",
    "\n",
    "\n",
    "\n",
    "\n",
    "\n",
    "# train a random forest \n",
    "rf = RandomForestClassifier(n_estimators=200, random_state=39, max_depth=4)\n",
    "rf.fit(x_train[features].fillna(0), y_train_encoded )"
   ]
  },
  {
   "cell_type": "code",
   "execution_count": 95,
   "metadata": {},
   "outputs": [
    {
     "data": {
      "text/html": [
       "<div>\n",
       "<style scoped>\n",
       "    .dataframe tbody tr th:only-of-type {\n",
       "        vertical-align: middle;\n",
       "    }\n",
       "\n",
       "    .dataframe tbody tr th {\n",
       "        vertical-align: top;\n",
       "    }\n",
       "\n",
       "    .dataframe thead th {\n",
       "        text-align: right;\n",
       "    }\n",
       "</style>\n",
       "<table border=\"1\" class=\"dataframe\">\n",
       "  <thead>\n",
       "    <tr style=\"text-align: right;\">\n",
       "      <th></th>\n",
       "      <th>feature</th>\n",
       "      <th>importance</th>\n",
       "    </tr>\n",
       "  </thead>\n",
       "  <tbody>\n",
       "    <tr>\n",
       "      <th>0</th>\n",
       "      <td>amountspent_sum_M_6</td>\n",
       "      <td>0.432244</td>\n",
       "    </tr>\n",
       "    <tr>\n",
       "      <th>1</th>\n",
       "      <td>amountspent_sum_M_7</td>\n",
       "      <td>0.332409</td>\n",
       "    </tr>\n",
       "    <tr>\n",
       "      <th>2</th>\n",
       "      <td>amountspent_sum_M_8</td>\n",
       "      <td>0.235347</td>\n",
       "    </tr>\n",
       "  </tbody>\n",
       "</table>\n",
       "</div>"
      ],
      "text/plain": [
       "               feature  importance\n",
       "0  amountspent_sum_M_6    0.432244\n",
       "1  amountspent_sum_M_7    0.332409\n",
       "2  amountspent_sum_M_8    0.235347"
      ]
     },
     "execution_count": 95,
     "metadata": {},
     "output_type": "execute_result"
    }
   ],
   "source": [
    "# get the feature importance attributed by the random forest model\n",
    "\n",
    "importance = pd.concat(\n",
    "    [pd.Series(features),\n",
    "     pd.Series(rf.feature_importances_)], axis=1)\n",
    "\n",
    "importance.columns = ['feature', 'importance']\n",
    "\n",
    "# sort features by importance, most important first\n",
    "importance.sort_values(by='importance', ascending=False)"
   ]
  },
  {
   "cell_type": "code",
   "execution_count": null,
   "metadata": {},
   "outputs": [],
   "source": [
    "# It can be seen that amount spent_M_2 is the most important and the others in this group can be eliminated."
   ]
  },
  {
   "cell_type": "code",
   "execution_count": 96,
   "metadata": {},
   "outputs": [
    {
     "data": {
      "text/html": [
       "<div>\n",
       "<style scoped>\n",
       "    .dataframe tbody tr th:only-of-type {\n",
       "        vertical-align: middle;\n",
       "    }\n",
       "\n",
       "    .dataframe tbody tr th {\n",
       "        vertical-align: top;\n",
       "    }\n",
       "\n",
       "    .dataframe thead th {\n",
       "        text-align: right;\n",
       "    }\n",
       "</style>\n",
       "<table border=\"1\" class=\"dataframe\">\n",
       "  <thead>\n",
       "    <tr style=\"text-align: right;\">\n",
       "      <th></th>\n",
       "      <th>feature1</th>\n",
       "      <th>feature2</th>\n",
       "      <th>corr</th>\n",
       "    </tr>\n",
       "  </thead>\n",
       "  <tbody>\n",
       "    <tr>\n",
       "      <th>2</th>\n",
       "      <td>amountspent_sum_M_5</td>\n",
       "      <td>amountspent_sum_M_6</td>\n",
       "      <td>0.835137</td>\n",
       "    </tr>\n",
       "  </tbody>\n",
       "</table>\n",
       "</div>"
      ],
      "text/plain": [
       "              feature1             feature2      corr\n",
       "2  amountspent_sum_M_5  amountspent_sum_M_6  0.835137"
      ]
     },
     "execution_count": 96,
     "metadata": {},
     "output_type": "execute_result"
    }
   ],
   "source": [
    "# Now, Lets investigate the second group of correlated features\n",
    "\n",
    "group = correlated_groups[1]\n",
    "group"
   ]
  },
  {
   "cell_type": "code",
   "execution_count": 97,
   "metadata": {},
   "outputs": [
    {
     "data": {
      "text/plain": [
       "RandomForestClassifier(max_depth=4, n_estimators=200, random_state=39)"
      ]
     },
     "execution_count": 97,
     "metadata": {},
     "output_type": "execute_result"
    }
   ],
   "source": [
    "from sklearn.ensemble import RandomForestClassifier\n",
    "\n",
    "# add all features of the group to a list\n",
    "features = list(group['feature2'].unique())+['amountspent_sum_M_5']\n",
    "\n",
    "\n",
    "\n",
    "#kh:baraye inke error \"Unknown label type: 'continuous'\" nagiram bayad Y ro encode mikardam.\n",
    "from sklearn import preprocessing\n",
    "lab_enc = preprocessing.LabelEncoder()\n",
    "y_train_encoded = lab_enc.fit_transform(y_train)\n",
    "\n",
    "\n",
    "\n",
    "\n",
    "\n",
    "# train a random forest \n",
    "rf = RandomForestClassifier(n_estimators=200, random_state=39, max_depth=4)\n",
    "rf.fit(x_train[features].fillna(0), y_train_encoded )"
   ]
  },
  {
   "cell_type": "code",
   "execution_count": 98,
   "metadata": {},
   "outputs": [
    {
     "data": {
      "text/html": [
       "<div>\n",
       "<style scoped>\n",
       "    .dataframe tbody tr th:only-of-type {\n",
       "        vertical-align: middle;\n",
       "    }\n",
       "\n",
       "    .dataframe tbody tr th {\n",
       "        vertical-align: top;\n",
       "    }\n",
       "\n",
       "    .dataframe thead th {\n",
       "        text-align: right;\n",
       "    }\n",
       "</style>\n",
       "<table border=\"1\" class=\"dataframe\">\n",
       "  <thead>\n",
       "    <tr style=\"text-align: right;\">\n",
       "      <th></th>\n",
       "      <th>feature</th>\n",
       "      <th>importance</th>\n",
       "    </tr>\n",
       "  </thead>\n",
       "  <tbody>\n",
       "    <tr>\n",
       "      <th>0</th>\n",
       "      <td>amountspent_sum_M_6</td>\n",
       "      <td>0.515484</td>\n",
       "    </tr>\n",
       "    <tr>\n",
       "      <th>1</th>\n",
       "      <td>amountspent_sum_M_5</td>\n",
       "      <td>0.484516</td>\n",
       "    </tr>\n",
       "  </tbody>\n",
       "</table>\n",
       "</div>"
      ],
      "text/plain": [
       "               feature  importance\n",
       "0  amountspent_sum_M_6    0.515484\n",
       "1  amountspent_sum_M_5    0.484516"
      ]
     },
     "execution_count": 98,
     "metadata": {},
     "output_type": "execute_result"
    }
   ],
   "source": [
    "# get the feature importance attributed by the random forest model\n",
    "\n",
    "importance = pd.concat(\n",
    "    [pd.Series(features),\n",
    "     pd.Series(rf.feature_importances_)], axis=1)\n",
    "\n",
    "importance.columns = ['feature', 'importance']\n",
    "\n",
    "# sort features by importance, most important first\n",
    "importance.sort_values(by='importance', ascending=False)"
   ]
  },
  {
   "cell_type": "code",
   "execution_count": null,
   "metadata": {},
   "outputs": [],
   "source": [
    "# so It is clear above that amountspent_sum_M_5 is the most important and the other features in this group can be eliminated"
   ]
  },
  {
   "cell_type": "code",
   "execution_count": 99,
   "metadata": {},
   "outputs": [
    {
     "data": {
      "text/html": [
       "<div>\n",
       "<style scoped>\n",
       "    .dataframe tbody tr th:only-of-type {\n",
       "        vertical-align: middle;\n",
       "    }\n",
       "\n",
       "    .dataframe tbody tr th {\n",
       "        vertical-align: top;\n",
       "    }\n",
       "\n",
       "    .dataframe thead th {\n",
       "        text-align: right;\n",
       "    }\n",
       "</style>\n",
       "<table border=\"1\" class=\"dataframe\">\n",
       "  <thead>\n",
       "    <tr style=\"text-align: right;\">\n",
       "      <th></th>\n",
       "      <th>feature1</th>\n",
       "      <th>feature2</th>\n",
       "      <th>corr</th>\n",
       "    </tr>\n",
       "  </thead>\n",
       "  <tbody>\n",
       "    <tr>\n",
       "      <th>4</th>\n",
       "      <td>amountspent_sum_M_4</td>\n",
       "      <td>amountspent_avg_M_4</td>\n",
       "      <td>0.807837</td>\n",
       "    </tr>\n",
       "  </tbody>\n",
       "</table>\n",
       "</div>"
      ],
      "text/plain": [
       "              feature1             feature2      corr\n",
       "4  amountspent_sum_M_4  amountspent_avg_M_4  0.807837"
      ]
     },
     "execution_count": 99,
     "metadata": {},
     "output_type": "execute_result"
    }
   ],
   "source": [
    "# noe the 3rd group\n",
    "\n",
    "group = correlated_groups[2]\n",
    "group"
   ]
  },
  {
   "cell_type": "code",
   "execution_count": 100,
   "metadata": {},
   "outputs": [
    {
     "data": {
      "text/plain": [
       "RandomForestClassifier(max_depth=4, n_estimators=200, random_state=39)"
      ]
     },
     "execution_count": 100,
     "metadata": {},
     "output_type": "execute_result"
    }
   ],
   "source": [
    "from sklearn.ensemble import RandomForestClassifier\n",
    "\n",
    "# add all features of the group to a list\n",
    "features = list(group['feature2'].unique())+['amountspent_sum_M_4']\n",
    "\n",
    "\n",
    "\n",
    "#kh:baraye inke error \"Unknown label type: 'continuous'\" nagiram bayad Y ro encode mikardam.\n",
    "from sklearn import preprocessing\n",
    "lab_enc = preprocessing.LabelEncoder()\n",
    "y_train_encoded = lab_enc.fit_transform(y_train)\n",
    "\n",
    "\n",
    "\n",
    "\n",
    "\n",
    "# train a random forest \n",
    "rf = RandomForestClassifier(n_estimators=200, random_state=39, max_depth=4)\n",
    "rf.fit(x_train[features].fillna(0), y_train_encoded )"
   ]
  },
  {
   "cell_type": "code",
   "execution_count": 101,
   "metadata": {},
   "outputs": [
    {
     "data": {
      "text/html": [
       "<div>\n",
       "<style scoped>\n",
       "    .dataframe tbody tr th:only-of-type {\n",
       "        vertical-align: middle;\n",
       "    }\n",
       "\n",
       "    .dataframe tbody tr th {\n",
       "        vertical-align: top;\n",
       "    }\n",
       "\n",
       "    .dataframe thead th {\n",
       "        text-align: right;\n",
       "    }\n",
       "</style>\n",
       "<table border=\"1\" class=\"dataframe\">\n",
       "  <thead>\n",
       "    <tr style=\"text-align: right;\">\n",
       "      <th></th>\n",
       "      <th>feature</th>\n",
       "      <th>importance</th>\n",
       "    </tr>\n",
       "  </thead>\n",
       "  <tbody>\n",
       "    <tr>\n",
       "      <th>1</th>\n",
       "      <td>amountspent_sum_M_4</td>\n",
       "      <td>0.53449</td>\n",
       "    </tr>\n",
       "    <tr>\n",
       "      <th>0</th>\n",
       "      <td>amountspent_avg_M_4</td>\n",
       "      <td>0.46551</td>\n",
       "    </tr>\n",
       "  </tbody>\n",
       "</table>\n",
       "</div>"
      ],
      "text/plain": [
       "               feature  importance\n",
       "1  amountspent_sum_M_4     0.53449\n",
       "0  amountspent_avg_M_4     0.46551"
      ]
     },
     "execution_count": 101,
     "metadata": {},
     "output_type": "execute_result"
    }
   ],
   "source": [
    "# get the feature importance attributed by the random forest model.\n",
    "\n",
    "importance = pd.concat(\n",
    "    [pd.Series(features),\n",
    "     pd.Series(rf.feature_importances_)], axis=1)\n",
    "\n",
    "importance.columns = ['feature', 'importance']\n",
    "\n",
    "# sort features by importance, most important first\n",
    "importance.sort_values(by='importance', ascending=False)"
   ]
  },
  {
   "cell_type": "code",
   "execution_count": null,
   "metadata": {},
   "outputs": [],
   "source": []
  },
  {
   "cell_type": "markdown",
   "metadata": {},
   "source": [
    "# Feature selection #2: Step forward feature selection"
   ]
  },
  {
   "cell_type": "code",
   "execution_count": 105,
   "metadata": {},
   "outputs": [],
   "source": [
    "target_var = 'CLV_'+clv_freq\n",
    "all_features = [x for x in sample_set_df.columns if x not in ['Customer ID', target_var]]\n",
    "\n"
   ]
  },
  {
   "cell_type": "code",
   "execution_count": 106,
   "metadata": {},
   "outputs": [],
   "source": [
    "from sklearn.model_selection import train_test_split\n",
    "\n",
    "from sklearn.ensemble import RandomForestRegressor, RandomForestClassifier\n",
    "from sklearn.metrics import roc_auc_score, r2_score\n",
    "\n"
   ]
  },
  {
   "cell_type": "code",
   "execution_count": 107,
   "metadata": {},
   "outputs": [],
   "source": [
    "from mlxtend.feature_selection import SequentialFeatureSelector as SFS"
   ]
  },
  {
   "cell_type": "code",
   "execution_count": 108,
   "metadata": {},
   "outputs": [
    {
     "data": {
      "text/plain": [
       "((3460, 18), (1483, 18))"
      ]
     },
     "execution_count": 108,
     "metadata": {},
     "output_type": "execute_result"
    }
   ],
   "source": [
    "# separate train and test sets\n",
    "\n",
    "X_train, X_test, y_train, y_test = train_test_split( sample_set_df[all_features], sample_set_df[target_var], test_size=0.3, random_state=0)\n",
    "\n",
    "X_train.shape, X_test.shape"
   ]
  },
  {
   "cell_type": "code",
   "execution_count": 109,
   "metadata": {},
   "outputs": [],
   "source": [
    "X_train.fillna(0, inplace=True)\n",
    "X_test.fillna(0, inplace=True)"
   ]
  },
  {
   "cell_type": "code",
   "execution_count": 110,
   "metadata": {},
   "outputs": [
    {
     "name": "stderr",
     "output_type": "stream",
     "text": [
      "[Parallel(n_jobs=1)]: Using backend SequentialBackend with 1 concurrent workers.\n",
      "[Parallel(n_jobs=1)]: Done   1 out of   1 | elapsed:    2.0s remaining:    0.0s\n",
      "[Parallel(n_jobs=1)]: Done  18 out of  18 | elapsed:    3.5s finished\n",
      "\n",
      "[2020-12-03 11:07:41] Features: 1/14 -- score: 0.35373895462951355[Parallel(n_jobs=1)]: Using backend SequentialBackend with 1 concurrent workers.\n",
      "[Parallel(n_jobs=1)]: Done   1 out of   1 | elapsed:    0.0s remaining:    0.0s\n",
      "[Parallel(n_jobs=1)]: Done  17 out of  17 | elapsed:    1.3s finished\n",
      "\n",
      "[2020-12-03 11:07:42] Features: 2/14 -- score: 0.5795543817846481[Parallel(n_jobs=1)]: Using backend SequentialBackend with 1 concurrent workers.\n",
      "[Parallel(n_jobs=1)]: Done   1 out of   1 | elapsed:    0.0s remaining:    0.0s\n",
      "[Parallel(n_jobs=1)]: Done  16 out of  16 | elapsed:    1.5s finished\n",
      "\n",
      "[2020-12-03 11:07:44] Features: 3/14 -- score: 0.6231853381620426[Parallel(n_jobs=1)]: Using backend SequentialBackend with 1 concurrent workers.\n",
      "[Parallel(n_jobs=1)]: Done   1 out of   1 | elapsed:    0.0s remaining:    0.0s\n",
      "[Parallel(n_jobs=1)]: Done  15 out of  15 | elapsed:    1.4s finished\n",
      "\n",
      "[2020-12-03 11:07:46] Features: 4/14 -- score: 0.6508865102989599[Parallel(n_jobs=1)]: Using backend SequentialBackend with 1 concurrent workers.\n",
      "[Parallel(n_jobs=1)]: Done   1 out of   1 | elapsed:    0.0s remaining:    0.0s\n",
      "[Parallel(n_jobs=1)]: Done  14 out of  14 | elapsed:    1.5s finished\n",
      "\n",
      "[2020-12-03 11:07:47] Features: 5/14 -- score: 0.620961416995138[Parallel(n_jobs=1)]: Using backend SequentialBackend with 1 concurrent workers.\n",
      "[Parallel(n_jobs=1)]: Done   1 out of   1 | elapsed:    0.0s remaining:    0.0s\n",
      "[Parallel(n_jobs=1)]: Done  13 out of  13 | elapsed:    1.5s finished\n",
      "\n",
      "[2020-12-03 11:07:49] Features: 6/14 -- score: 0.6520509990807896[Parallel(n_jobs=1)]: Using backend SequentialBackend with 1 concurrent workers.\n",
      "[Parallel(n_jobs=1)]: Done   1 out of   1 | elapsed:    0.0s remaining:    0.0s\n",
      "[Parallel(n_jobs=1)]: Done  12 out of  12 | elapsed:    1.5s finished\n",
      "\n",
      "[2020-12-03 11:07:50] Features: 7/14 -- score: 0.6292441650564857[Parallel(n_jobs=1)]: Using backend SequentialBackend with 1 concurrent workers.\n",
      "[Parallel(n_jobs=1)]: Done   1 out of   1 | elapsed:    0.0s remaining:    0.0s\n",
      "[Parallel(n_jobs=1)]: Done  11 out of  11 | elapsed:    1.5s finished\n",
      "\n",
      "[2020-12-03 11:07:52] Features: 8/14 -- score: 0.6405008942926999[Parallel(n_jobs=1)]: Using backend SequentialBackend with 1 concurrent workers.\n",
      "[Parallel(n_jobs=1)]: Done   1 out of   1 | elapsed:    0.0s remaining:    0.0s\n",
      "[Parallel(n_jobs=1)]: Done  10 out of  10 | elapsed:    1.4s finished\n",
      "\n",
      "[2020-12-03 11:07:54] Features: 9/14 -- score: 0.6068011872847529[Parallel(n_jobs=1)]: Using backend SequentialBackend with 1 concurrent workers.\n",
      "[Parallel(n_jobs=1)]: Done   1 out of   1 | elapsed:    0.1s remaining:    0.0s\n",
      "[Parallel(n_jobs=1)]: Done   9 out of   9 | elapsed:    1.3s finished\n",
      "\n",
      "[2020-12-03 11:07:55] Features: 10/14 -- score: 0.607677139179794[Parallel(n_jobs=1)]: Using backend SequentialBackend with 1 concurrent workers.\n",
      "[Parallel(n_jobs=1)]: Done   1 out of   1 | elapsed:    0.1s remaining:    0.0s\n",
      "[Parallel(n_jobs=1)]: Done   8 out of   8 | elapsed:    1.2s finished\n",
      "\n",
      "[2020-12-03 11:07:56] Features: 11/14 -- score: 0.5813991298645358[Parallel(n_jobs=1)]: Using backend SequentialBackend with 1 concurrent workers.\n",
      "[Parallel(n_jobs=1)]: Done   1 out of   1 | elapsed:    0.1s remaining:    0.0s\n",
      "[Parallel(n_jobs=1)]: Done   7 out of   7 | elapsed:    1.1s finished\n",
      "\n",
      "[2020-12-03 11:07:58] Features: 12/14 -- score: 0.5978394232038865[Parallel(n_jobs=1)]: Using backend SequentialBackend with 1 concurrent workers.\n",
      "[Parallel(n_jobs=1)]: Done   1 out of   1 | elapsed:    0.1s remaining:    0.0s\n",
      "[Parallel(n_jobs=1)]: Done   6 out of   6 | elapsed:    1.0s finished\n",
      "\n",
      "[2020-12-03 11:07:59] Features: 13/14 -- score: 0.5932879433005206[Parallel(n_jobs=1)]: Using backend SequentialBackend with 1 concurrent workers.\n",
      "[Parallel(n_jobs=1)]: Done   1 out of   1 | elapsed:    0.1s remaining:    0.0s\n",
      "[Parallel(n_jobs=1)]: Done   5 out of   5 | elapsed:    0.9s finished\n",
      "\n",
      "[2020-12-03 11:08:00] Features: 14/14 -- score: 0.5658197577838453"
     ]
    }
   ],
   "source": [
    "sfs = SFS(RandomForestRegressor(n_estimators=10, n_jobs=4, random_state=10), \n",
    "           k_features=14, \n",
    "           forward=True, \n",
    "           floating=False, \n",
    "           verbose=2,\n",
    "           scoring='r2',\n",
    "           cv=3)\n",
    "\n",
    "sfs = sfs.fit(np.array(X_train), y_train)"
   ]
  },
  {
   "cell_type": "code",
   "execution_count": 111,
   "metadata": {},
   "outputs": [
    {
     "data": {
      "text/plain": [
       "(0, 1, 2, 3, 4, 5, 7, 10, 11, 12, 13, 15, 16, 17)"
      ]
     },
     "execution_count": 111,
     "metadata": {},
     "output_type": "execute_result"
    }
   ],
   "source": [
    "sfs.k_feature_idx_"
   ]
  },
  {
   "cell_type": "code",
   "execution_count": 112,
   "metadata": {},
   "outputs": [
    {
     "data": {
      "text/plain": [
       "Index(['amountspent_avg_M_3', 'amountspent_avg_M_4', 'amountspent_avg_M_5',\n",
       "       'amountspent_avg_M_6', 'amountspent_avg_M_7', 'amountspent_avg_M_8',\n",
       "       'amountspent_count_M_4', 'amountspent_count_M_7',\n",
       "       'amountspent_count_M_8', 'amountspent_sum_M_3', 'amountspent_sum_M_4',\n",
       "       'amountspent_sum_M_6', 'amountspent_sum_M_7', 'amountspent_sum_M_8'],\n",
       "      dtype='object')"
      ]
     },
     "execution_count": 112,
     "metadata": {},
     "output_type": "execute_result"
    }
   ],
   "source": [
    "selected_feat = X_train.columns[list(sfs.k_feature_idx_)]\n",
    "selected_feat"
   ]
  },
  {
   "cell_type": "code",
   "execution_count": 113,
   "metadata": {},
   "outputs": [],
   "source": [
    "# Feature selection conclusion: From the list above I can now remove the SM4, SM7 and SM8\n",
    "# This way, I have chosen 11 features aout of 24"
   ]
  },
  {
   "cell_type": "code",
   "execution_count": 54,
   "metadata": {},
   "outputs": [
    {
     "data": {
      "text/plain": [
       "(4943, 16)"
      ]
     },
     "execution_count": 54,
     "metadata": {},
     "output_type": "execute_result"
    }
   ],
   "source": [
    "# Our Target Variable\n",
    "target_var = 'CLV_'+clv_freq\n",
    "\n",
    "# Our Features\n",
    "all_features = [x for x in sample_set_df.columns if x not in ['CustomerID','amountspent_sum_M_4', 'amountspent_sum_M_7', 'amountspent_sum_M_8', target_var]]\n",
    "\n",
    "\n",
    "\n",
    "sample_set_df[all_features].shape\n"
   ]
  },
  {
   "cell_type": "code",
   "execution_count": 55,
   "metadata": {},
   "outputs": [
    {
     "data": {
      "text/plain": [
       "(4943,)"
      ]
     },
     "execution_count": 55,
     "metadata": {},
     "output_type": "execute_result"
    }
   ],
   "source": [
    "sample_set_df[target_var].shape"
   ]
  },
  {
   "cell_type": "markdown",
   "metadata": {},
   "source": [
    "# Linear reg- Two Loop CV - to study the effect of No. of repeats"
   ]
  },
  {
   "cell_type": "code",
   "execution_count": 258,
   "metadata": {},
   "outputs": [],
   "source": [
    "from scipy.stats import sem\n",
    "from numpy import mean\n",
    "from numpy import std\n",
    "\n",
    "from sklearn.model_selection import RepeatedKFold\n",
    "from sklearn.model_selection import cross_val_score\n",
    "from sklearn.linear_model import LinearRegression\n",
    "from statistics import *\n",
    " \n",
    "# evaluate a model with a given number of repeats_MAE\n",
    "def evaluate_model_MAE(X, y, repeats):\n",
    "\t# prepare the cross-validation procedure\n",
    "\tcv = RepeatedKFold(n_splits=10, n_repeats=repeats, random_state=1)\n",
    "\t# create model\n",
    "\tmodel = LinearRegression()\n",
    "\t# evaluate model\n",
    "\tscores_MAE = cross_val_score(model, X, y, scoring='neg_mean_absolute_error', cv=cv, n_jobs=-1)\n",
    "\treturn scores_MAE\n",
    "\n",
    "\n",
    "\n",
    "# evaluate a model with a given number of repeats_ RMSE\n",
    "def evaluate_model_RMSE(X, y, repeats):\n",
    "\t# prepare the cross-validation procedure\n",
    "\tcv = RepeatedKFold(n_splits=10, n_repeats=repeats, random_state=1)\n",
    "\t# create model\n",
    "\tmodel = LinearRegression()\n",
    "\t# evaluate model\n",
    "\tscores_RMSE = cross_val_score(model, X, y, scoring='neg_root_mean_squared_error', cv=cv, n_jobs=-1)    \n",
    "\treturn scores_RMSE\n",
    "\n",
    "\n",
    "# evaluate a model with a given number of repeats_ r2\n",
    "def evaluate_model_r2(X, y, repeats):\n",
    "\t# prepare the cross-validation procedure\n",
    "\tcv = RepeatedKFold(n_splits=10, n_repeats=repeats, random_state=1)\n",
    "\t# create model\n",
    "\tmodel = LinearRegression()\n",
    "\t# evaluate model\n",
    "\tscores_r2 = cross_val_score(model, X, y, scoring='r2', cv=cv, n_jobs=-1)    \n",
    "\treturn scores_r2\n",
    "\n",
    "\n",
    "\n",
    "\n",
    " \n",
    "# create dataset\n",
    "\n",
    "target_var = 'CLV_'+clv_freq\n",
    "all_features = [x for x in sample_set_df.columns if x not in ['CustomerID','amountspent_sum_M_4', 'amountspent_sum_M_7', 'amountspent_sum_M_8', target_var]]\n",
    "\n",
    "\n",
    "X,y = sample_set_df[all_features], sample_set_df[target_var]\n",
    "\n",
    "\n",
    "# configurations to test\n",
    "repeats = range(1,20)\n",
    "LR_MAE_Scores = list()\n",
    "LR_RMSE_Scores = list()\n",
    "LR_r2_Scores = list()\n",
    "\n",
    "for r in repeats:\n",
    "\t# evaluate using a given number of repeats\n",
    "\tscores_MAE = evaluate_model_MAE(X, y, r)\n",
    "\tscores_RMSE = evaluate_model_RMSE(X, y, r)\n",
    "\tscores_r2 = evaluate_model_r2(X, y, r)    \n",
    "\t# summarize\n",
    "\t# print('>%d mean MAE=%.4f se=%.3f' % (r, mean(scores_MAE), sem(scores_MAE)))\n",
    "\t# print('>%d mean RMSE=%.4f se=%.3f' % (r, mean(scores_RMSE), sem(scores_RMSE)))\n",
    "\t# store\n",
    "\tLR_MAE_Scores.append(median(scores_MAE))\n",
    "\tLR_RMSE_Scores.append(median(scores_RMSE))\n",
    "\tLR_r2_Scores.append(median(scores_r2))\n",
    "    \n",
    "    \n",
    "\n",
    "  "
   ]
  },
  {
   "cell_type": "code",
   "execution_count": 259,
   "metadata": {},
   "outputs": [
    {
     "data": {
      "text/plain": [
       "[-388.2879144530483,\n",
       " -383.9041581694378,\n",
       " -386.24029286627143,\n",
       " -386.56174694263507,\n",
       " -386.24029286627143,\n",
       " -383.9041581694378,\n",
       " -383.9041581694378,\n",
       " -383.9041581694378,\n",
       " -385.9325707441485,\n",
       " -386.24029286627143,\n",
       " -386.24029286627143,\n",
       " -384.89876397460955,\n",
       " -384.89876397460955,\n",
       " -385.9325707441485,\n",
       " -385.9325707441485,\n",
       " -385.9325707441485,\n",
       " -385.9325707441485,\n",
       " -385.9325707441485,\n",
       " -386.24029286627143]"
      ]
     },
     "execution_count": 259,
     "metadata": {},
     "output_type": "execute_result"
    }
   ],
   "source": [
    "LR_MAE_Scores"
   ]
  },
  {
   "cell_type": "code",
   "execution_count": 260,
   "metadata": {},
   "outputs": [
    {
     "data": {
      "text/plain": [
       "[-1335.2918454929104,\n",
       " -1167.769828844094,\n",
       " -1115.6944903704552,\n",
       " -1120.5651165243567,\n",
       " -1115.6944903704552,\n",
       " -1104.9999563980682,\n",
       " -1115.6944903704552,\n",
       " -1115.6944903704552,\n",
       " -1120.2237470424745,\n",
       " -1120.2237470424745,\n",
       " -1120.2237470424745,\n",
       " -1115.6944903704552,\n",
       " -1109.8291587704869,\n",
       " -1115.6944903704552,\n",
       " -1115.6944903704552,\n",
       " -1109.8291587704869,\n",
       " -1109.8291587704869,\n",
       " -1120.2237470424745,\n",
       " -1120.2237470424745]"
      ]
     },
     "execution_count": 260,
     "metadata": {},
     "output_type": "execute_result"
    }
   ],
   "source": [
    "LR_RMSE_Scores"
   ]
  },
  {
   "cell_type": "code",
   "execution_count": 152,
   "metadata": {
    "scrolled": true
   },
   "outputs": [
    {
     "data": {
      "text/plain": [
       "[0.490727362779696,\n",
       " 0.5320414489304373,\n",
       " 0.5320414489304373,\n",
       " 0.5320414489304373,\n",
       " 0.589340463661588,\n",
       " 0.6193833267041318,\n",
       " 0.6193833267041318,\n",
       " 0.6346743782334585,\n",
       " 0.589340463661588,\n",
       " 0.5541557888339608,\n",
       " 0.5658822143732051,\n",
       " 0.5936034547884524,\n",
       " 0.5541557888339608,\n",
       " 0.5541557888339608,\n",
       " 0.5618826665698001,\n",
       " 0.5661456576966646,\n",
       " 0.5661456576966646,\n",
       " 0.5541557888339608,\n",
       " 0.5496517806028365]"
      ]
     },
     "execution_count": 152,
     "metadata": {},
     "output_type": "execute_result"
    }
   ],
   "source": [
    "LR_r2_Scores"
   ]
  },
  {
   "cell_type": "code",
   "execution_count": 188,
   "metadata": {
    "scrolled": true
   },
   "outputs": [
    {
     "data": {
      "text/plain": [
       "Text(0, 0.5, 'mean_r2')"
      ]
     },
     "execution_count": 188,
     "metadata": {},
     "output_type": "execute_result"
    },
    {
     "data": {
      "image/png": "[encoded data removed]",
      "text/plain": [
       "<Figure size 432x288 with 1 Axes>"
      ]
     },
     "metadata": {},
     "output_type": "display_data"
    }
   ],
   "source": [
    "repeat= [2,3, 4,5,6,7,8,9,10]\n",
    "mean_r2 = [0.490727362779696,\n",
    " 0.5320414489304373,\n",
    " 0.5320414489304373,\n",
    " 0.5320414489304373,\n",
    " 0.589340463661588,\n",
    " 0.6193833267041318,\n",
    " 0.6193833267041318,\n",
    " 0.6346743782334585,\n",
    " 0.589340463661588]\n",
    "\n",
    "plt.plot(repeat, mean_r2)\n",
    "plt.ylim(0.2, 1)\n",
    "plt.xlabel('repeat')\n",
    "plt.ylabel('mean_r2')"
   ]
  },
  {
   "cell_type": "markdown",
   "metadata": {},
   "source": [
    "# Linear reg - to study the effect of No of Folds"
   ]
  },
  {
   "cell_type": "code",
   "execution_count": 123,
   "metadata": {},
   "outputs": [
    {
     "data": {
      "text/plain": [
       "[0.4952167060900182,\n",
       " 0.7213141244999999,\n",
       " 0.7179485401370844,\n",
       " 0.7295763308958113,\n",
       " 0.7382216418137968,\n",
       " 0.7472846148610517,\n",
       " 0.7525112931236418,\n",
       " 0.7490227775391731,\n",
       " 0.7503418674774751,\n",
       " 0.7503410553814707,\n",
       " 0.7523930149944251,\n",
       " 0.7602237290845882,\n",
       " 0.7612490571241921,\n",
       " 0.7625832308534953,\n",
       " 0.7630243502975355]"
      ]
     },
     "execution_count": 123,
     "metadata": {},
     "output_type": "execute_result"
    }
   ],
   "source": [
    "import time\n",
    "\n",
    "t0 = time.time()\n",
    "\n",
    "\n",
    "scores=list()\n",
    "\n",
    "for k in range(3,18):\n",
    "    cv = RepeatedKFold(n_splits=k, n_repeats=8, random_state=1)\n",
    "\n",
    "    model = LinearRegression()\n",
    "\n",
    "    scores_r2 = cross_val_score(model, X, y, scoring='r2', cv=cv, n_jobs=-1)    \n",
    "    scores.append(mode(scores_r2))\n",
    "\n",
    "t1 = time.time()\n",
    "running_time = t1-t0\n",
    "\n",
    "\n",
    "scores"
   ]
  },
  {
   "cell_type": "code",
   "execution_count": 125,
   "metadata": {},
   "outputs": [
    {
     "data": {
      "text/plain": [
       "4.182445049285889"
      ]
     },
     "execution_count": 125,
     "metadata": {},
     "output_type": "execute_result"
    }
   ],
   "source": [
    "running_time"
   ]
  },
  {
   "cell_type": "code",
   "execution_count": 115,
   "metadata": {},
   "outputs": [
    {
     "data": {
      "text/plain": [
       "Text(0, 0.5, 'r2')"
      ]
     },
     "execution_count": 115,
     "metadata": {},
     "output_type": "execute_result"
    },
    {
     "data": {
      "image/png": "[encoded data removed]",
      "text/plain": [
       "<Figure size 432x288 with 1 Axes>"
      ]
     },
     "metadata": {},
     "output_type": "display_data"
    }
   ],
   "source": [
    "k = [3,4,5,6,7,8,9,10,11,12,13,14,15,16,17]\n",
    "#position = [0, 100, 200, 300]\n",
    "\n",
    "plt.plot(k, scores)\n",
    "plt.ylim(0.2, 0.9)\n",
    "plt.xlabel('k')\n",
    "plt.ylabel('r2')"
   ]
  },
  {
   "cell_type": "code",
   "execution_count": null,
   "metadata": {},
   "outputs": [],
   "source": []
  },
  {
   "cell_type": "markdown",
   "metadata": {},
   "source": [
    "# Simple LR- to study the effectiveness"
   ]
  },
  {
   "cell_type": "code",
   "execution_count": 60,
   "metadata": {},
   "outputs": [],
   "source": [
    "import time\n",
    "from scipy.stats import sem\n",
    "from numpy import mean\n",
    "from numpy import std\n",
    "\n",
    "from sklearn.model_selection import RepeatedKFold\n",
    "from sklearn.model_selection import cross_val_score\n",
    "from sklearn.linear_model import LinearRegression\n",
    "from statistics import *\n",
    "\n",
    "\n",
    " \n",
    "# create dataset\n",
    "\n",
    "target_var = 'CLV_'+clv_freq\n",
    "all_features = [x for x in sample_set_df.columns if x not in ['CustomerID','amountspent_sum_M_4', 'amountspent_sum_M_7', 'amountspent_sum_M_8', target_var]]\n",
    "\n",
    "\n",
    "X,y = sample_set_df[all_features], sample_set_df[target_var]\n",
    "\n",
    "\n",
    "\n",
    "\n",
    "t0 = time.time()\n",
    "\n",
    "\n",
    "cv = RepeatedKFold(n_splits=10, n_repeats=5, random_state=1)\n",
    "\n",
    "model = LinearRegression()\n",
    "\n",
    "LR_MAE = cross_val_score(model, X, y, scoring='neg_mean_absolute_error', cv=cv, n_jobs=-1)\n",
    "LR_RMSE = cross_val_score(model, X, y, scoring='neg_root_mean_squared_error', cv=cv, n_jobs=-1)      \n",
    "LR_r2 = cross_val_score(model, X, y, scoring='r2', cv=cv, n_jobs=-1)       \n",
    "\n",
    "t1 = time.time()\n",
    "LR_running_time = t1-t0\n",
    "\n"
   ]
  },
  {
   "cell_type": "code",
   "execution_count": null,
   "metadata": {},
   "outputs": [],
   "source": []
  },
  {
   "cell_type": "code",
   "execution_count": 229,
   "metadata": {},
   "outputs": [
    {
     "data": {
      "text/plain": [
       "array([-386.4468355 , -377.6197221 , -425.79391031, -316.3812728 ,\n",
       "       -394.80629391, -390.1289934 , -514.76382639, -333.82154018,\n",
       "       -334.76874579, -452.60923004, -317.69218517, -397.48458874,\n",
       "       -348.41265635, -374.30530332, -521.03813075, -381.77456611,\n",
       "       -451.58814407, -386.03375023, -370.70911347, -297.86687013,\n",
       "       -327.37591064, -413.61929424, -527.38949338, -442.05759091,\n",
       "       -261.27526058, -317.44175199, -393.71761693, -420.57299544,\n",
       "       -326.17887684, -439.14919229, -386.67665838, -428.79516714,\n",
       "       -375.83735164, -390.62489838, -335.89204178, -405.66632998,\n",
       "       -349.30038924, -558.24169955, -337.00251833, -426.23366663,\n",
       "       -362.71395285, -398.53530625, -441.80086114, -512.00276395,\n",
       "       -305.95525162, -378.44190281, -369.80885142, -415.50306362,\n",
       "       -357.73929826, -305.2554713 ])"
      ]
     },
     "execution_count": 229,
     "metadata": {},
     "output_type": "execute_result"
    }
   ],
   "source": [
    "\n",
    "LR_MAE\n"
   ]
  },
  {
   "cell_type": "code",
   "execution_count": 230,
   "metadata": {},
   "outputs": [
    {
     "data": {
      "text/plain": [
       "array([-1707.85244349,  -752.22693406, -1215.61172275,  -579.00947151,\n",
       "       -3267.03358882, -1454.97196824, -2882.30390014,  -631.31426657,\n",
       "        -846.39174213, -1549.46818375,  -590.09583129, -1111.4610458 ,\n",
       "        -715.94487145, -1253.62562151, -2893.77321724,  -872.08338868,\n",
       "       -3340.21811501, -1329.85405663, -1119.92793494,  -506.99958691,\n",
       "        -548.05727285, -1098.538867  , -2832.7121351 , -1072.25666181,\n",
       "        -471.99045973,  -572.79479751, -1309.61406254, -3258.23327832,\n",
       "        -826.72124796, -1718.32585033,  -950.92494519, -1259.33452432,\n",
       "       -1585.62790756, -1311.10827807,  -688.452863  , -3348.91531919,\n",
       "        -935.53337915, -3327.20266397,  -688.34077167, -1121.20229811,\n",
       "        -684.10358733, -1005.7071481 , -3311.56585356, -2448.47282476,\n",
       "        -485.14281911,  -850.62195072, -1044.46062599, -1312.11872474,\n",
       "       -1750.07717056,  -572.8284368 ])"
      ]
     },
     "execution_count": 230,
     "metadata": {},
     "output_type": "execute_result"
    }
   ],
   "source": [
    "\n",
    "LR_RMSE\n"
   ]
  },
  {
   "cell_type": "code",
   "execution_count": 231,
   "metadata": {},
   "outputs": [
    {
     "data": {
      "text/plain": [
       "array([ 0.74902278, -0.01368901,  0.90489245,  0.71602033,  0.47899105,\n",
       "        0.11540241, -1.70340607,  0.50246367,  0.88222046, -0.59017225,\n",
       "        0.35841017,  0.86663784,  0.80673893, -0.30821706,  0.29021553,\n",
       "        0.7015985 ,  0.56161922,  0.3336821 ,  0.80565734,  0.6170617 ,\n",
       "        0.66075227,  0.87725624, -1.22534324,  0.64764381,  0.34999982,\n",
       "        0.23183444,  0.04529193,  0.4939872 ,  0.88798815,  0.81518985,\n",
       "       -0.17984159,  0.83221952,  0.84805497, -1.63327731,  0.73841273,\n",
       "        0.45514146,  0.86530538, -2.51274   ,  0.69181291,  0.44600242,\n",
       "        0.35082594, -0.05757859,  0.49207695, -0.8283161 ,  0.75486502,\n",
       "        0.66703591,  0.82467272,  0.87706229,  0.74084465,  0.78398059])"
      ]
     },
     "execution_count": 231,
     "metadata": {},
     "output_type": "execute_result"
    }
   ],
   "source": [
    "LR_r2"
   ]
  },
  {
   "cell_type": "code",
   "execution_count": 233,
   "metadata": {},
   "outputs": [
    {
     "data": {
      "text/plain": [
       "0.6552953720092773"
      ]
     },
     "execution_count": 233,
     "metadata": {},
     "output_type": "execute_result"
    }
   ],
   "source": [
    "LR_running_time"
   ]
  },
  {
   "cell_type": "code",
   "execution_count": null,
   "metadata": {},
   "outputs": [],
   "source": []
  },
  {
   "cell_type": "markdown",
   "metadata": {},
   "source": [
    "# Random Forest Resgression- 2loop C.V- to study the effect of No. of repeats"
   ]
  },
  {
   "cell_type": "code",
   "execution_count": 142,
   "metadata": {},
   "outputs": [
    {
     "name": "stdout",
     "output_type": "stream",
     "text": [
      ">1 mean=0.6484 se=0.079\n",
      ">2 mean=0.6572 se=0.053\n",
      ">3 mean=0.6473 se=0.046\n",
      ">4 mean=0.6492 se=0.041\n",
      ">5 mean=0.6494 se=0.037\n",
      ">6 mean=0.6540 se=0.034\n",
      ">7 mean=0.6786 se=0.027\n",
      ">8 mean=0.6615 se=0.029\n",
      ">9 mean=0.6600 se=0.030\n"
     ]
    }
   ],
   "source": [
    "from scipy.stats import sem\n",
    "from numpy import mean\n",
    "from numpy import std\n",
    "\n",
    "from sklearn.model_selection import RepeatedKFold\n",
    "from sklearn.model_selection import cross_val_score\n",
    "from sklearn.linear_model import LinearRegression\n",
    "from sklearn.datasets import make_regression\n",
    "from sklearn.ensemble import RandomForestRegressor\n",
    " \n",
    "# evaluate a model with a given number of repeats\n",
    "def evaluate_model(X, y, repeats):\n",
    "\t# prepare the cross-validation procedure\n",
    "\tcv = RepeatedKFold(n_splits=10, n_repeats=repeats, random_state=1)\n",
    "\t# create model\n",
    "\tmodel = RandomForestRegressor()\n",
    "\t# evaluate model\n",
    "\tscores = cross_val_score(model, X, y, scoring='r2', cv=cv, n_jobs=-1)\n",
    "\treturn scores\n",
    " \n",
    "# create dataset\n",
    "\n",
    "target_var = 'CLV_'+clv_freq\n",
    "all_features = [x for x in sample_set_df.columns if x not in ['CustomerID','amountspent_sum_M_4', 'amountspent_sum_M_7', 'amountspent_sum_M_8', target_var]]\n",
    "\n",
    "\n",
    "X,y = sample_set_df[all_features], sample_set_df[target_var]\n",
    "\n",
    "\n",
    "# configurations to test\n",
    "repeats = range(1,10)\n",
    "results = list()\n",
    "for r in repeats:\n",
    "\t# evaluate using a given number of repeats\n",
    "\tscores = evaluate_model(X, y, r)\n",
    "\t# summarize\n",
    "\tprint('>%d mean=%.4f se=%.3f' % (r, mean(scores), sem(scores)))\n",
    "\t# store\n",
    "\tresults.append(scores)\n",
    "    \n",
    "    \n",
    "    \n",
    "    \n",
    "#rf3 = randomForest(X,y,maxnodes=24,ntree=5000)"
   ]
  },
  {
   "cell_type": "code",
   "execution_count": 158,
   "metadata": {},
   "outputs": [
    {
     "data": {
      "text/plain": [
       "Text(0, 0.5, 'mean_r2t')"
      ]
     },
     "execution_count": 158,
     "metadata": {},
     "output_type": "execute_result"
    },
    {
     "data": {
      "image/png": "[encoded data removed]",
      "text/plain": [
       "<Figure size 432x288 with 1 Axes>"
      ]
     },
     "metadata": {},
     "output_type": "display_data"
    }
   ],
   "source": [
    "repeat= [2,3,4,5,6,7,8,9,10]\n",
    "mean_r2 = [0.6484, 0.6484, 0.6492, 0.6494, 0.6540, 0.6540, 0.6786, 0.6615, 0.6600]\n",
    "\n",
    "plt.plot(repeat, mean_r2)\n",
    "plt.ylim(0.4, 1)\n",
    "plt.xlabel('repeat')\n",
    "plt.ylabel('mean_r2t')"
   ]
  },
  {
   "cell_type": "code",
   "execution_count": null,
   "metadata": {},
   "outputs": [],
   "source": []
  },
  {
   "cell_type": "markdown",
   "metadata": {},
   "source": [
    "# Random Forest - to study the effect of No of Folds"
   ]
  },
  {
   "cell_type": "code",
   "execution_count": null,
   "metadata": {},
   "outputs": [],
   "source": []
  },
  {
   "cell_type": "code",
   "execution_count": 145,
   "metadata": {},
   "outputs": [
    {
     "data": {
      "text/plain": [
       "[0.8869756490502718,\n",
       " 0.9131791919384322,\n",
       " 0.9276111144552442,\n",
       " 0.9321341405069208,\n",
       " 0.9463159959329365,\n",
       " 0.948941732945049,\n",
       " 0.9493492388630158,\n",
       " 0.9622500275801548,\n",
       " 0.950681496325971,\n",
       " 0.9686759735443389,\n",
       " 0.9486106745938685,\n",
       " 0.9615687729666677,\n",
       " 0.9652570059623318,\n",
       " 0.9622782320485379,\n",
       " 0.9741496103041647]"
      ]
     },
     "execution_count": 145,
     "metadata": {},
     "output_type": "execute_result"
    }
   ],
   "source": [
    "# 8-Kfold random forest regression for different values of K\n",
    "\n",
    "from statistics import *\n",
    "from numpy import mean\n",
    "from numpy import std\n",
    "from sklearn.ensemble import RandomForestRegressor\n",
    "from sklearn.model_selection import cross_val_score\n",
    "from sklearn.model_selection import RepeatedKFold\n",
    "\n",
    "\n",
    "\n",
    "\n",
    "import time\n",
    "t0 = time.time()\n",
    "\n",
    "\n",
    "scores=list()\n",
    "\n",
    "\n",
    "\n",
    "target_var = 'CLV_'+clv_freq\n",
    "all_features = [x for x in sample_set_df.columns if x not in ['CustomerID','amountspent_sum_M_4', 'amountspent_sum_M_7', 'amountspent_sum_M_8', target_var]]\n",
    "X,y = sample_set_df[all_features], sample_set_df[target_var]\n",
    "\n",
    "\n",
    "for k in range(3,18):\n",
    "\n",
    "\n",
    "    # define the evaluation procedure\n",
    "    cv = RepeatedKFold(n_splits=k, n_repeats=8, random_state=1)\n",
    "    # define the model\n",
    "    model = RandomForestRegressor()\n",
    "    # evaluate the model and collect results\n",
    "    scores_r2 = cross_val_score(model, X, y, scoring='r2', cv=cv, n_jobs=-1)\n",
    "\n",
    "    scores.append(mode(scores_r2))\n",
    "\n",
    "t1 = time.time()\n",
    "running_time = t1-t0\n",
    "\n",
    "\n",
    "scores\n",
    "\n",
    "\n"
   ]
  },
  {
   "cell_type": "code",
   "execution_count": 146,
   "metadata": {},
   "outputs": [
    {
     "data": {
      "text/plain": [
       "1378.2005248069763"
      ]
     },
     "execution_count": 146,
     "metadata": {},
     "output_type": "execute_result"
    }
   ],
   "source": [
    "running_time"
   ]
  },
  {
   "cell_type": "code",
   "execution_count": 149,
   "metadata": {},
   "outputs": [
    {
     "data": {
      "text/plain": [
       "Text(0, 0.5, 'r2')"
      ]
     },
     "execution_count": 149,
     "metadata": {},
     "output_type": "execute_result"
    },
    {
     "data": {
      "image/png": "[encoded data removed]",
      "text/plain": [
       "<Figure size 432x288 with 1 Axes>"
      ]
     },
     "metadata": {},
     "output_type": "display_data"
    }
   ],
   "source": [
    "k = [3,4,5,6,7,8,9,10,11,12,13,14,15,16,17]\n",
    "#position = [0, 100, 200, 300]\n",
    "\n",
    "plt.plot(k, scores)\n",
    "plt.ylim(0.5, 1)\n",
    "plt.xlabel('k')\n",
    "plt.ylabel('r2')"
   ]
  },
  {
   "cell_type": "code",
   "execution_count": 147,
   "metadata": {
    "scrolled": true
   },
   "outputs": [
    {
     "name": "stdout",
     "output_type": "stream",
     "text": [
      "Parameters currently in use:\n",
      "\n",
      "{'bootstrap': True,\n",
      " 'ccp_alpha': 0.0,\n",
      " 'criterion': 'mse',\n",
      " 'max_depth': None,\n",
      " 'max_features': 'auto',\n",
      " 'max_leaf_nodes': None,\n",
      " 'max_samples': None,\n",
      " 'min_impurity_decrease': 0.0,\n",
      " 'min_impurity_split': None,\n",
      " 'min_samples_leaf': 1,\n",
      " 'min_samples_split': 2,\n",
      " 'min_weight_fraction_leaf': 0.0,\n",
      " 'n_estimators': 100,\n",
      " 'n_jobs': None,\n",
      " 'oob_score': False,\n",
      " 'random_state': 1,\n",
      " 'verbose': 0,\n",
      " 'warm_start': False}\n"
     ]
    }
   ],
   "source": [
    "from sklearn.ensemble import RandomForestRegressor\n",
    "rf = RandomForestRegressor(random_state = 1)\n",
    "from pprint import pprint\n",
    "# Look at parameters used by our current forest\n",
    "print('Parameters currently in use:\\n')\n",
    "pprint(rf.get_params())"
   ]
  },
  {
   "cell_type": "code",
   "execution_count": null,
   "metadata": {},
   "outputs": [],
   "source": []
  },
  {
   "cell_type": "code",
   "execution_count": null,
   "metadata": {},
   "outputs": [],
   "source": []
  },
  {
   "cell_type": "code",
   "execution_count": 179,
   "metadata": {},
   "outputs": [
    {
     "data": {
      "text/plain": [
       "array([0.4368954 , 0.43706293, 0.93197571, 0.97238778, 0.83728934,\n",
       "       0.22618855, 0.80370385, 0.16375503, 0.7302704 , 0.96403097])"
      ]
     },
     "execution_count": 179,
     "metadata": {},
     "output_type": "execute_result"
    }
   ],
   "source": [
    "from sklearn.model_selection import cross_val_score, GridSearchCV\n",
    "from sklearn.ensemble import RandomForestRegressor\n",
    "from sklearn.preprocessing import MinMaxScaler\n",
    "\n",
    "\n",
    "def rfr_model(X, y):\n",
    "# Perform Grid-Search\n",
    "    gsc = GridSearchCV(\n",
    "        estimator=RandomForestRegressor(),\n",
    "        param_grid={\n",
    "            'max_depth': range(3,7),\n",
    "            'n_estimators': (10, 50, 100, 1000),\n",
    "        },\n",
    "        cv=5, scoring='neg_mean_squared_error', verbose=0, n_jobs=-1)\n",
    "    \n",
    "    grid_result = gsc.fit(X, y)\n",
    "    best_params = grid_result.best_params_\n",
    "    \n",
    "    rfr = RandomForestRegressor(max_depth=best_params[\"max_depth\"], n_estimators=best_params[\"n_estimators\"],                               random_state=False, verbose=False)\n",
    "# Perform K-Fold CV\n",
    "    scores = cross_val_score(rfr, X, y, cv=10, scoring='r2')\n",
    "\n",
    "    return scores\n",
    "\n",
    "\n",
    "scores=rfr_model(X,y)\n",
    "scores"
   ]
  },
  {
   "cell_type": "code",
   "execution_count": null,
   "metadata": {},
   "outputs": [],
   "source": []
  },
  {
   "cell_type": "markdown",
   "metadata": {},
   "source": [
    "# Simple RF To study the effectiveness"
   ]
  },
  {
   "cell_type": "code",
   "execution_count": 234,
   "metadata": {},
   "outputs": [],
   "source": [
    "import time\n",
    "from sklearn.model_selection import KFold\n",
    "t0 = time.time()\n",
    "\n",
    "\n",
    "cv = RepeatedKFold(n_splits=10, n_repeats=5, random_state=1)\n",
    "\n",
    "model = RandomForestRegressor()\n",
    "\n",
    "RF_MAE = cross_val_score(model, X, y, scoring='neg_mean_absolute_error', cv=cv, n_jobs=-1)\n",
    "RF_RMSE = cross_val_score(model, X, y, scoring='neg_root_mean_squared_error', cv=cv, n_jobs=-1)      \n",
    "RF_r2 = cross_val_score(model, X, y, scoring='r2', cv=cv, n_jobs=-1)       \n",
    "\n",
    "t1 = time.time()\n",
    "LR_running_time = t1-t0\n"
   ]
  },
  {
   "cell_type": "code",
   "execution_count": 235,
   "metadata": {},
   "outputs": [
    {
     "data": {
      "text/plain": [
       "array([-272.76142158, -284.24467929, -303.28758598, -271.51654332,\n",
       "       -357.44309449, -271.71219789, -313.24944287, -243.86513237,\n",
       "       -293.26237296, -316.13373279, -225.187916  , -265.56933919,\n",
       "       -323.98556707, -307.28831506, -285.28276243, -288.30482099,\n",
       "       -398.1169964 , -302.30198186, -263.42665769, -256.53775804,\n",
       "       -256.66149677, -302.38901374, -304.23708923, -392.49659275,\n",
       "       -222.61150565, -248.23278739, -346.77408587, -348.05307146,\n",
       "       -258.58748626, -303.50684338, -275.77395119, -295.88470358,\n",
       "       -274.99248796, -269.95750715, -268.77012613, -334.08988719,\n",
       "       -288.91993733, -336.83357553, -287.94206842, -291.7120569 ,\n",
       "       -276.96849503, -256.82708842, -419.28391683, -338.7109698 ,\n",
       "       -243.8142984 , -319.09026842, -283.7040301 , -272.93429415,\n",
       "       -229.78540168, -284.09102652])"
      ]
     },
     "execution_count": 235,
     "metadata": {},
     "output_type": "execute_result"
    }
   ],
   "source": [
    "RF_MAE"
   ]
  },
  {
   "cell_type": "code",
   "execution_count": 236,
   "metadata": {},
   "outputs": [
    {
     "data": {
      "text/plain": [
       "array([ -728.11668229,  -620.37841442,  -944.10975562,  -641.05982788,\n",
       "       -2335.82418151, -1232.12793086,  -920.80759751,  -522.44057985,\n",
       "        -740.65575293,  -956.99177348,  -519.18257688,  -603.51269119,\n",
       "        -811.02456977,  -852.54822552,  -746.1187388 ,  -738.82257734,\n",
       "       -3013.54258302, -1266.45982987,  -595.97327699,  -735.20681553,\n",
       "        -501.81315002,  -710.47807228, -1398.26778633, -1123.60525978,\n",
       "        -515.66322452,  -538.63355816, -1055.26335877, -2354.31558069,\n",
       "        -607.42960519,  -646.98000307,  -556.60199311,  -732.56929229,\n",
       "        -823.96146883,  -864.66999126,  -789.19766408, -2568.66193823,\n",
       "        -866.56858766, -1276.30653453,  -687.17531959,  -839.68705337,\n",
       "        -681.83001699,  -505.2679573 , -2561.40536347, -1617.999801  ,\n",
       "        -480.71428276,  -802.07941681,  -806.63814146,  -887.48904024,\n",
       "        -572.25204951,  -759.81430222])"
      ]
     },
     "execution_count": 236,
     "metadata": {},
     "output_type": "execute_result"
    }
   ],
   "source": [
    "RF_RMSE"
   ]
  },
  {
   "cell_type": "code",
   "execution_count": 237,
   "metadata": {},
   "outputs": [
    {
     "data": {
      "text/plain": [
       "array([ 0.96024105,  0.26855963,  0.95036887,  0.50047714,  0.69168914,\n",
       "        0.36091294,  0.72178411,  0.69319384,  0.89872221,  0.36597282,\n",
       "        0.54611941,  0.95965217,  0.7247943 ,  0.35461502,  0.96111025,\n",
       "        0.76559559,  0.68538775,  0.39074838,  0.94845383,  0.374685  ,\n",
       "        0.7082874 ,  0.9516097 ,  0.41525653,  0.6565068 ,  0.12172252,\n",
       "        0.49267622,  0.38795793,  0.70631296,  0.94001329,  0.96478348,\n",
       "        0.58105546,  0.92715322,  0.96635321, -0.04632815,  0.62067316,\n",
       "        0.68128392,  0.88518055,  0.50399214,  0.67383747,  0.73497418,\n",
       "        0.37382693,  0.72474592,  0.70022552,  0.27625159,  0.76196766,\n",
       "        0.70815259,  0.88480733,  0.97066509,  0.97593018,  0.66483278])"
      ]
     },
     "execution_count": 237,
     "metadata": {},
     "output_type": "execute_result"
    }
   ],
   "source": [
    "RF_r2"
   ]
  },
  {
   "cell_type": "code",
   "execution_count": 238,
   "metadata": {},
   "outputs": [
    {
     "data": {
      "text/plain": [
       "166.03603291511536"
      ]
     },
     "execution_count": 238,
     "metadata": {},
     "output_type": "execute_result"
    }
   ],
   "source": [
    "RF_time=LR_running_time\n",
    "RF_time"
   ]
  },
  {
   "cell_type": "code",
   "execution_count": null,
   "metadata": {},
   "outputs": [],
   "source": []
  },
  {
   "cell_type": "markdown",
   "metadata": {},
   "source": [
    "# Multivariate Adaptive Regression Splines- Repeated C.V - to study the effect of the No. of Folds"
   ]
  },
  {
   "cell_type": "code",
   "execution_count": null,
   "metadata": {},
   "outputs": [],
   "source": [
    "\n",
    "# check pyearth version\n",
    "import pyearth\n",
    "# display version\n",
    "print(pyearth.__version__)"
   ]
  },
  {
   "cell_type": "code",
   "execution_count": 135,
   "metadata": {},
   "outputs": [
    {
     "data": {
      "text/plain": [
       "[-0.3132881146248361,\n",
       " 0.8180722223190717,\n",
       " 0.8571619253495335,\n",
       " 0.8551900760544329,\n",
       " 0.8864140552037438,\n",
       " 0.91636392221566,\n",
       " 0.9025190053137766,\n",
       " 0.9150970464491741,\n",
       " 0.9142861157868561,\n",
       " 0.9159853287712212,\n",
       " 0.9169886838958743,\n",
       " 0.9118679548865583,\n",
       " 0.8907167733922431,\n",
       " 0.8776922557355898,\n",
       " 0.8694727482839569]"
      ]
     },
     "execution_count": 135,
     "metadata": {},
     "output_type": "execute_result"
    }
   ],
   "source": [
    "\n",
    "# Multivariate Adaptive Regression Splines\n",
    "\n",
    "\n",
    "from statistics import *\n",
    "from numpy import mean\n",
    "from numpy import std\n",
    "from sklearn.datasets import make_regression\n",
    "from sklearn.model_selection import cross_val_score\n",
    "from sklearn.model_selection import RepeatedKFold\n",
    "from pyearth import Earth\n",
    "\n",
    "\n",
    "\n",
    "import time\n",
    "t0 = time.time()\n",
    "\n",
    "\n",
    "scores=list()\n",
    "\n",
    "\n",
    "\n",
    "target_var = 'CLV_'+clv_freq\n",
    "all_features = [x for x in sample_set_df.columns if x not in ['CustomerID','amountspent_sum_M_4', 'amountspent_sum_M_7', 'amountspent_sum_M_8', target_var]]\n",
    "X,y = sample_set_df[all_features], sample_set_df[target_var]\n",
    "\n",
    "\n",
    "for k in range(3,18):\n",
    "\n",
    "\n",
    "    # define the evaluation procedure\n",
    "    cv = RepeatedKFold(n_splits=k, n_repeats=8, random_state=1)\n",
    "    # define the model\n",
    "    model = Earth()\n",
    "    # evaluate the model and collect results\n",
    "    scores_r2 = cross_val_score(model, X, y, scoring='r2', cv=cv, n_jobs=-1)\n",
    "\n",
    "    scores.append(mode(scores_r2))\n",
    "\n",
    "t1 = time.time()\n",
    "running_time = t1-t0\n",
    "\n",
    "\n",
    "scores\n",
    "\n",
    "\n",
    "\n",
    "\n",
    "\n",
    "\n",
    "\n",
    "\n",
    "# report performance\n",
    "#print('MAE: %.3f (%.3f)' % (median(n_scores), std(n_scores)))\n",
    "\n"
   ]
  },
  {
   "cell_type": "code",
   "execution_count": 140,
   "metadata": {},
   "outputs": [
    {
     "data": {
      "text/plain": [
       "2000.8637537956238"
      ]
     },
     "execution_count": 140,
     "metadata": {},
     "output_type": "execute_result"
    }
   ],
   "source": [
    "running_time"
   ]
  },
  {
   "cell_type": "code",
   "execution_count": 141,
   "metadata": {},
   "outputs": [
    {
     "data": {
      "text/plain": [
       "Text(0, 0.5, 'r2')"
      ]
     },
     "execution_count": 141,
     "metadata": {},
     "output_type": "execute_result"
    },
    {
     "data": {
      "image/png": "[encoded data removed]",
      "text/plain": [
       "<Figure size 432x288 with 1 Axes>"
      ]
     },
     "metadata": {},
     "output_type": "display_data"
    }
   ],
   "source": [
    "k = [3,4,5,6,7,8,9,10,11,12,13,14,15,16,17]\n",
    "#position = [0, 100, 200, 300]\n",
    "\n",
    "plt.plot(k, scores)\n",
    "plt.ylim(0.2, 1)\n",
    "plt.xlabel('k')\n",
    "plt.ylabel('r2')"
   ]
  },
  {
   "cell_type": "code",
   "execution_count": null,
   "metadata": {},
   "outputs": [],
   "source": []
  },
  {
   "cell_type": "markdown",
   "metadata": {},
   "source": [
    "# Simple MARS To study the effectiveness"
   ]
  },
  {
   "cell_type": "code",
   "execution_count": 239,
   "metadata": {},
   "outputs": [],
   "source": [
    "import time\n",
    "from sklearn.model_selection import KFold\n",
    "t0 = time.time()\n",
    "\n",
    "\n",
    "cv = RepeatedKFold(n_splits=10, n_repeats=5, random_state=1)\n",
    "\n",
    "model = Earth()\n",
    "\n",
    "MARS_MAE = cross_val_score(model, X, y, scoring='neg_mean_absolute_error', cv=cv, n_jobs=-1)\n",
    "MARS_RMSE = cross_val_score(model, X, y, scoring='neg_root_mean_squared_error', cv=cv, n_jobs=-1)      \n",
    "MARS_r2 = cross_val_score(model, X, y, scoring='r2', cv=cv, n_jobs=-1)       \n",
    "\n",
    "t1 = time.time()\n",
    "MARS_running_time = t1-t0\n"
   ]
  },
  {
   "cell_type": "code",
   "execution_count": 240,
   "metadata": {},
   "outputs": [
    {
     "data": {
      "text/plain": [
       "array([ -295.69319075,  -294.94231245,  -353.41892174,  -278.72230786,\n",
       "        -353.90139108,  -349.07432148,  -576.30536397,  -268.67940898,\n",
       "        -328.66098255,  -334.85542372,  -221.01352347,  -325.62134307,\n",
       "        -337.15684202,  -311.40407412,  -548.07917134,  -306.04117382,\n",
       "        -412.82858651,  -326.00015364,  -376.63877966,  -309.44481568,\n",
       "        -291.76698184,  -401.06762261,  -506.47541209,  -448.39129352,\n",
       "        -260.19118509,  -217.04195186,  -318.47515833,  -389.95095294,\n",
       "        -308.71272709,  -331.74175849,  -339.78932673,  -328.1280935 ,\n",
       "        -376.02825435,  -273.37788731,  -326.17448187,  -371.04055685,\n",
       "        -292.22633857,  -577.30790162,  -300.81351736,  -303.85592983,\n",
       "        -313.97892476,  -325.7874533 ,  -431.22504228, -1229.69882482,\n",
       "        -293.84019536,  -315.54057337,  -347.04817692,  -356.82558837,\n",
       "        -250.52901779,  -296.29785156])"
      ]
     },
     "execution_count": 240,
     "metadata": {},
     "output_type": "execute_result"
    }
   ],
   "source": [
    "MARS_MAE"
   ]
  },
  {
   "cell_type": "code",
   "execution_count": 241,
   "metadata": {},
   "outputs": [
    {
     "data": {
      "text/plain": [
       "array([  -993.33237488,   -791.23633435,  -1638.60488107,   -683.64614204,\n",
       "        -2822.91274257,  -1647.591006  ,  -5425.29837047,   -723.35077333,\n",
       "        -1169.92927068,  -1337.5473676 ,   -488.4845952 ,  -1441.30559645,\n",
       "        -1050.92009035,   -970.63307956,  -5608.40450969,   -880.78309929,\n",
       "        -2937.61988287,  -1376.12180256,  -1418.32641825,  -1214.54032882,\n",
       "         -962.2566041 ,  -2423.31485673,  -4830.07357108,  -1501.84973588,\n",
       "         -855.02048442,   -429.94574845,   -853.65088484,  -2930.16993245,\n",
       "        -1202.30913713,  -1127.7883083 ,  -1272.78102412,  -1445.09634581,\n",
       "        -1736.96563203,   -842.3397434 ,  -1093.20137309,  -2986.68634742,\n",
       "        -1314.6778011 ,  -5326.52807623,   -962.41078654,   -768.11233491,\n",
       "         -773.53688514,  -1191.5492629 ,  -2881.98697911, -18105.77301962,\n",
       "         -903.99682376,   -896.75146484,  -1444.11179511,  -1646.2270037 ,\n",
       "         -792.83077607,  -1411.27390949])"
      ]
     },
     "execution_count": 241,
     "metadata": {},
     "output_type": "execute_result"
    }
   ],
   "source": [
    "MARS_RMSE"
   ]
  },
  {
   "cell_type": "code",
   "execution_count": 242,
   "metadata": {},
   "outputs": [
    {
     "data": {
      "text/plain": [
       "array([ 9.15097046e-01, -1.21552029e-01,  8.27188071e-01,  6.04106244e-01,\n",
       "        6.11014966e-01, -1.34319313e-01, -8.57809193e+00,  3.46822093e-01,\n",
       "        7.74966988e-01, -1.84942252e-01,  5.60342870e-01,  7.75737703e-01,\n",
       "        5.83586695e-01,  2.15750471e-01, -1.66609836e+00,  6.95615225e-01,\n",
       "        6.60927127e-01,  2.86511026e-01,  6.88297437e-01, -1.19754344e+00,\n",
       "       -4.57957249e-02,  4.02705853e-01, -5.46993046e+00,  3.08746461e-01,\n",
       "       -1.13304528e+00,  5.67203220e-01,  5.94356496e-01,  5.90755580e-01,\n",
       "        7.63092899e-01,  9.20389574e-01, -1.11367692e+00,  7.79070951e-01,\n",
       "        8.17666529e-01, -8.69111948e-02,  3.40418414e-01,  5.66634173e-01,\n",
       "        7.34006922e-01, -8.00276548e+00,  3.97539719e-01,  7.39990396e-01,\n",
       "        1.69997357e-01, -4.84545728e-01,  6.15306224e-01, -9.89757911e+01,\n",
       "        1.48862184e-01,  6.29943180e-01,  6.64828572e-01,  8.06483375e-01,\n",
       "        9.46812843e-01, -3.11191931e-01])"
      ]
     },
     "execution_count": 242,
     "metadata": {},
     "output_type": "execute_result"
    }
   ],
   "source": [
    "MARS_r2"
   ]
  },
  {
   "cell_type": "code",
   "execution_count": 243,
   "metadata": {},
   "outputs": [
    {
     "data": {
      "text/plain": [
       "220.2191140651703"
      ]
     },
     "execution_count": 243,
     "metadata": {},
     "output_type": "execute_result"
    }
   ],
   "source": [
    "MARS_running_time "
   ]
  },
  {
   "cell_type": "code",
   "execution_count": null,
   "metadata": {},
   "outputs": [],
   "source": []
  },
  {
   "cell_type": "markdown",
   "metadata": {},
   "source": [
    "# Investigation on the statistical difference of 3 Methods"
   ]
  },
  {
   "cell_type": "code",
   "execution_count": 244,
   "metadata": {},
   "outputs": [
    {
     "name": "stdout",
     "output_type": "stream",
     "text": [
      "Statistics=75.960, p=0.000\n",
      "Different distributions (reject H0)\n"
     ]
    }
   ],
   "source": [
    "\n",
    "# Friedman test for MAE\n",
    "from numpy.random import seed\n",
    "from numpy.random import randn\n",
    "from scipy.stats import friedmanchisquare\n",
    "\n",
    "# compare samples\n",
    "stat, p = friedmanchisquare(LR_MAE, RF_MAE, MARS_MAE)\n",
    "print('Statistics=%.3f, p=%.3f' % (stat, p))\n",
    "# interpret\n",
    "alpha = 0.05\n",
    "if p > alpha:\n",
    "\tprint('Same distributions (fail to reject H0)')\n",
    "else:\n",
    "\tprint('Different distributions (reject H0)')"
   ]
  },
  {
   "cell_type": "code",
   "execution_count": 245,
   "metadata": {},
   "outputs": [
    {
     "name": "stdout",
     "output_type": "stream",
     "text": [
      "Statistics=45.480, p=0.000\n",
      "Different distributions (reject H0)\n"
     ]
    }
   ],
   "source": [
    "# Friedman test for RMSE\n",
    "from numpy.random import seed\n",
    "from numpy.random import randn\n",
    "from scipy.stats import friedmanchisquare\n",
    "\n",
    "# compare samples\n",
    "stat, p = friedmanchisquare(LR_RMSE, RF_RMSE, MARS_RMSE)\n",
    "print('Statistics=%.3f, p=%.3f' % (stat, p))\n",
    "# interpret\n",
    "alpha = 0.05\n",
    "if p > alpha:\n",
    "\tprint('Same distributions (fail to reject H0)')\n",
    "else:\n",
    "\tprint('Different distributions (reject H0)')"
   ]
  },
  {
   "cell_type": "code",
   "execution_count": 246,
   "metadata": {},
   "outputs": [
    {
     "name": "stdout",
     "output_type": "stream",
     "text": [
      "Statistics=48.160, p=0.000\n",
      "Different distributions (reject H0)\n"
     ]
    }
   ],
   "source": [
    "# Friedman test for r2\n",
    "from numpy.random import seed\n",
    "from numpy.random import randn\n",
    "from scipy.stats import friedmanchisquare\n",
    "\n",
    "# compare samples\n",
    "stat, p = friedmanchisquare(LR_r2, RF_r2, MARS_r2)\n",
    "print('Statistics=%.3f, p=%.3f' % (stat, p))\n",
    "# interpret\n",
    "alpha = 0.05\n",
    "if p > alpha:\n",
    "\tprint('Same distributions (fail to reject H0)')\n",
    "else:\n",
    "\tprint('Different distributions (reject H0)')"
   ]
  },
  {
   "cell_type": "code",
   "execution_count": null,
   "metadata": {},
   "outputs": [],
   "source": []
  },
  {
   "cell_type": "markdown",
   "metadata": {},
   "source": [
    "# Investigation of pairwaise difference between methods"
   ]
  },
  {
   "cell_type": "code",
   "execution_count": 247,
   "metadata": {},
   "outputs": [
    {
     "name": "stdout",
     "output_type": "stream",
     "text": [
      "Statistics=158.000, p=0.000\n",
      "Different distribution (reject H0)\n"
     ]
    }
   ],
   "source": [
    "\n",
    "# Wilcoxon signed-rank test\n",
    "from numpy.random import seed\n",
    "from numpy.random import randn\n",
    "from scipy.stats import wilcoxon\n",
    "\n",
    "# compare samples\n",
    "stat, p = wilcoxon(LR_r2, RF_r2)\n",
    "print('Statistics=%.3f, p=%.3f' % (stat, p))\n",
    "# interpret\n",
    "alpha = 0.05\n",
    "if p > alpha:\n",
    "\tprint('Same distribution (fail to reject H0)')\n",
    "else:\n",
    "\tprint('Different distribution (reject H0)')\n"
   ]
  },
  {
   "cell_type": "code",
   "execution_count": 248,
   "metadata": {},
   "outputs": [
    {
     "name": "stdout",
     "output_type": "stream",
     "text": [
      "Statistics=53.000, p=0.000\n",
      "Different distribution (reject H0)\n"
     ]
    }
   ],
   "source": [
    "# Wilcoxon signed-rank test\n",
    "from numpy.random import seed\n",
    "from numpy.random import randn\n",
    "from scipy.stats import wilcoxon\n",
    "\n",
    "# compare samples\n",
    "stat, p = wilcoxon(RF_r2, MARS_r2)\n",
    "print('Statistics=%.3f, p=%.3f' % (stat, p))\n",
    "# interpret\n",
    "alpha = 0.05\n",
    "if p > alpha:\n",
    "\tprint('Same distribution (fail to reject H0)')\n",
    "else:\n",
    "\tprint('Different distribution (reject H0)')"
   ]
  },
  {
   "cell_type": "code",
   "execution_count": null,
   "metadata": {},
   "outputs": [],
   "source": []
  },
  {
   "cell_type": "code",
   "execution_count": 262,
   "metadata": {},
   "outputs": [
    {
     "data": {
      "image/png": "[encoded data removed]",
      "text/plain": [
       "<Figure size 432x288 with 1 Axes>"
      ]
     },
     "metadata": {},
     "output_type": "display_data"
    }
   ],
   "source": [
    "import matplotlib.pyplot as plt\n",
    "fig = plt.figure()\n",
    "ax = fig.add_axes([0,0,1,1])\n",
    "Method = ['Linear Reg', 'Random Forest Reg', 'MARS']\n",
    "MAE = [-mean(LR_MAE_Scores),-mean(RF_MAE),-mean(MARS_MAE)]\n",
    "ax.bar(Method,MAE)\n",
    "plt.show()"
   ]
  },
  {
   "cell_type": "code",
   "execution_count": null,
   "metadata": {},
   "outputs": [],
   "source": []
  },
  {
   "cell_type": "code",
   "execution_count": 263,
   "metadata": {},
   "outputs": [
    {
     "data": {
      "image/png": "[encoded data removed]",
      "text/plain": [
       "<Figure size 432x288 with 1 Axes>"
      ]
     },
     "metadata": {},
     "output_type": "display_data"
    }
   ],
   "source": [
    "import matplotlib.pyplot as plt\n",
    "fig = plt.figure()\n",
    "ax = fig.add_axes([0,0,1,1])\n",
    "Method = ['Linear Reg', 'Random Forest Reg', 'MARS']\n",
    "RMSE = [-mean(LR_RMSE_Scores),-mean(RF_RMSE),-mean(MARS_RMSE)]\n",
    "ax.bar(Method,RMSE)\n",
    "plt.show()"
   ]
  },
  {
   "cell_type": "code",
   "execution_count": null,
   "metadata": {},
   "outputs": [],
   "source": []
  },
  {
   "cell_type": "code",
   "execution_count": 254,
   "metadata": {},
   "outputs": [
    {
     "data": {
      "image/png": "[encoded data removed]",
      "text/plain": [
       "<Figure size 432x288 with 1 Axes>"
      ]
     },
     "metadata": {},
     "output_type": "display_data"
    }
   ],
   "source": [
    "import matplotlib.pyplot as plt\n",
    "fig = plt.figure()\n",
    "ax = fig.add_axes([0,0,1,1])\n",
    "Method = ['Linear Reg', 'Random Forest Reg', 'MARS']\n",
    "r2 = [0.75,0.96,0.88]\n",
    "ax.bar(Method,r2)\n",
    "plt.show()"
   ]
  },
  {
   "cell_type": "code",
   "execution_count": 255,
   "metadata": {},
   "outputs": [
    {
     "data": {
      "image/png": "[encoded data removed]",
      "text/plain": [
       "<Figure size 432x288 with 1 Axes>"
      ]
     },
     "metadata": {},
     "output_type": "display_data"
    }
   ],
   "source": [
    "import matplotlib.pyplot as plt\n",
    "fig = plt.figure()\n",
    "ax = fig.add_axes([0,0,1,1])\n",
    "Method = ['Linear Reg', 'Random Forest Reg', 'MARS']\n",
    "RunTime = [0.65,166,220]\n",
    "ax.bar(Method,RunTime)\n",
    "plt.show()"
   ]
  },
  {
   "cell_type": "code",
   "execution_count": null,
   "metadata": {},
   "outputs": [],
   "source": []
  },
  {
   "cell_type": "code",
   "execution_count": null,
   "metadata": {},
   "outputs": [],
   "source": []
  },
  {
   "cell_type": "code",
   "execution_count": null,
   "metadata": {},
   "outputs": [],
   "source": []
  },
  {
   "cell_type": "code",
   "execution_count": null,
   "metadata": {},
   "outputs": [],
   "source": []
  },
  {
   "cell_type": "code",
   "execution_count": null,
   "metadata": {},
   "outputs": [],
   "source": []
  },
  {
   "cell_type": "code",
   "execution_count": null,
   "metadata": {},
   "outputs": [],
   "source": []
  },
  {
   "cell_type": "code",
   "execution_count": null,
   "metadata": {},
   "outputs": [],
   "source": []
  },
  {
   "cell_type": "code",
   "execution_count": null,
   "metadata": {},
   "outputs": [],
   "source": []
  },
  {
   "cell_type": "code",
   "execution_count": null,
   "metadata": {},
   "outputs": [],
   "source": []
  },
  {
   "cell_type": "code",
   "execution_count": null,
   "metadata": {},
   "outputs": [],
   "source": []
  },
  {
   "cell_type": "markdown",
   "metadata": {},
   "source": [
    "# End of Coding"
   ]
  },
  {
   "cell_type": "markdown",
   "metadata": {},
   "source": [
    "# End of Coding"
   ]
  },
  {
   "cell_type": "markdown",
   "metadata": {},
   "source": [
    "# End of Coding"
   ]
  },
  {
   "cell_type": "markdown",
   "metadata": {},
   "source": [
    "# End of Coding"
   ]
  },
  {
   "cell_type": "markdown",
   "metadata": {},
   "source": [
    "# End of Coding"
   ]
  },
  {
   "cell_type": "markdown",
   "metadata": {},
   "source": [
    "# End of Coding"
   ]
  },
  {
   "cell_type": "code",
   "execution_count": null,
   "metadata": {},
   "outputs": [],
   "source": []
  },
  {
   "cell_type": "code",
   "execution_count": null,
   "metadata": {},
   "outputs": [],
   "source": []
  },
  {
   "cell_type": "code",
   "execution_count": null,
   "metadata": {},
   "outputs": [],
   "source": []
  },
  {
   "cell_type": "code",
   "execution_count": null,
   "metadata": {},
   "outputs": [],
   "source": []
  },
  {
   "cell_type": "code",
   "execution_count": null,
   "metadata": {},
   "outputs": [],
   "source": []
  },
  {
   "cell_type": "code",
   "execution_count": null,
   "metadata": {},
   "outputs": [],
   "source": []
  },
  {
   "cell_type": "code",
   "execution_count": null,
   "metadata": {},
   "outputs": [],
   "source": []
  },
  {
   "cell_type": "code",
   "execution_count": null,
   "metadata": {},
   "outputs": [],
   "source": []
  },
  {
   "cell_type": "code",
   "execution_count": null,
   "metadata": {},
   "outputs": [],
   "source": []
  },
  {
   "cell_type": "code",
   "execution_count": null,
   "metadata": {},
   "outputs": [],
   "source": []
  },
  {
   "cell_type": "code",
   "execution_count": null,
   "metadata": {},
   "outputs": [],
   "source": []
  },
  {
   "cell_type": "code",
   "execution_count": null,
   "metadata": {},
   "outputs": [],
   "source": []
  },
  {
   "cell_type": "code",
   "execution_count": null,
   "metadata": {},
   "outputs": [],
   "source": []
  },
  {
   "cell_type": "code",
   "execution_count": null,
   "metadata": {},
   "outputs": [],
   "source": []
  },
  {
   "cell_type": "code",
   "execution_count": null,
   "metadata": {},
   "outputs": [],
   "source": []
  },
  {
   "cell_type": "code",
   "execution_count": null,
   "metadata": {},
   "outputs": [],
   "source": []
  },
  {
   "cell_type": "code",
   "execution_count": null,
   "metadata": {},
   "outputs": [],
   "source": []
  },
  {
   "cell_type": "code",
   "execution_count": null,
   "metadata": {},
   "outputs": [],
   "source": []
  },
  {
   "cell_type": "code",
   "execution_count": null,
   "metadata": {},
   "outputs": [],
   "source": []
  },
  {
   "cell_type": "code",
   "execution_count": null,
   "metadata": {},
   "outputs": [],
   "source": []
  },
  {
   "cell_type": "code",
   "execution_count": null,
   "metadata": {},
   "outputs": [],
   "source": []
  },
  {
   "cell_type": "code",
   "execution_count": null,
   "metadata": {},
   "outputs": [],
   "source": []
  },
  {
   "cell_type": "code",
   "execution_count": null,
   "metadata": {},
   "outputs": [],
   "source": []
  },
  {
   "cell_type": "code",
   "execution_count": null,
   "metadata": {},
   "outputs": [],
   "source": []
  },
  {
   "cell_type": "code",
   "execution_count": null,
   "metadata": {},
   "outputs": [],
   "source": []
  },
  {
   "cell_type": "code",
   "execution_count": null,
   "metadata": {},
   "outputs": [],
   "source": []
  },
  {
   "cell_type": "code",
   "execution_count": null,
   "metadata": {},
   "outputs": [],
   "source": []
  },
  {
   "cell_type": "code",
   "execution_count": null,
   "metadata": {},
   "outputs": [],
   "source": []
  },
  {
   "cell_type": "code",
   "execution_count": null,
   "metadata": {},
   "outputs": [],
   "source": []
  },
  {
   "cell_type": "code",
   "execution_count": null,
   "metadata": {},
   "outputs": [],
   "source": []
  },
  {
   "cell_type": "code",
   "execution_count": null,
   "metadata": {},
   "outputs": [],
   "source": []
  },
  {
   "cell_type": "code",
   "execution_count": null,
   "metadata": {},
   "outputs": [],
   "source": []
  },
  {
   "cell_type": "code",
   "execution_count": null,
   "metadata": {},
   "outputs": [],
   "source": []
  },
  {
   "cell_type": "code",
   "execution_count": null,
   "metadata": {},
   "outputs": [],
   "source": []
  },
  {
   "cell_type": "code",
   "execution_count": null,
   "metadata": {},
   "outputs": [],
   "source": [
    "###3 shayad bayad avval ba split train o test ra tashkil bedaham va ba\"d rooye train CV konim! ta betavanim ba'dan ba test eman moghayeseh konim."
   ]
  },
  {
   "cell_type": "markdown",
   "metadata": {},
   "source": [
    "# Simple KFold"
   ]
  },
  {
   "cell_type": "code",
   "execution_count": 54,
   "metadata": {},
   "outputs": [
    {
     "data": {
      "text/plain": [
       "LinearRegression()"
      ]
     },
     "execution_count": 54,
     "metadata": {},
     "output_type": "execute_result"
    }
   ],
   "source": [
    "# Import libraries for Linear regression\n",
    "from sklearn.linear_model import LinearRegression\n",
    "from sklearn.model_selection import train_test_split\n",
    "\n",
    "# I define a target Variable and a list of my features to be used in train_test_split:\n",
    "\n",
    "target_var = 'CLV_'+clv_freq\n",
    "features = selected_feat.drop(['amountspent_sum_M_8', 'amountspent_sum_M_9'])\n",
    "\n",
    "\n",
    "\n",
    "# Spliting data in Train and Test\n",
    "x_train, x_test, y_train, y_test = train_test_split(sample_set_df[features], sample_set_df[target_var], random_state=0, test_size=0.3)\n",
    "\n",
    "\n",
    "# Model Fitting\n",
    "LR = LinearRegression()\n",
    "LR.fit(x_train, y_train)\n",
    "\n",
    "\n",
    "\n",
    "YPredictions_Traindata = LR.predict(x_train)\n",
    "YPredictions_Testdata = LR.predict(x_test)"
   ]
  },
  {
   "cell_type": "code",
   "execution_count": 451,
   "metadata": {},
   "outputs": [
    {
     "data": {
      "text/plain": [
       "88.4300238954416"
      ]
     },
     "execution_count": 451,
     "metadata": {},
     "output_type": "execute_result"
    }
   ],
   "source": [
    "# What is my Y intercept?\n",
    "\n",
    "LR.intercept_"
   ]
  },
  {
   "cell_type": "code",
   "execution_count": 452,
   "metadata": {},
   "outputs": [
    {
     "data": {
      "text/plain": [
       "array([-7.98258185e-01, -8.31797380e-02,  1.69773843e-01, -2.82265355e-01,\n",
       "        4.52294791e-01, -1.58758871e-01,  3.00958272e-01,  2.78601026e-01,\n",
       "       -1.43443706e+02,  6.07595769e+01, -4.04961741e+01, -1.96686152e+01,\n",
       "        2.56845713e+01,  2.02662579e+00, -3.56198332e+01,  3.68916811e+01,\n",
       "        1.22291490e+00,  4.83276854e-02,  1.25247605e-01,  3.96027935e-01,\n",
       "       -4.57141240e-01, -6.17473369e-02, -1.13396669e-01,  7.86041597e-02])"
      ]
     },
     "execution_count": 452,
     "metadata": {},
     "output_type": "execute_result"
    }
   ],
   "source": [
    "# What is my coefficents?\n",
    "\n",
    "LR.coef_"
   ]
  },
  {
   "cell_type": "code",
   "execution_count": 55,
   "metadata": {},
   "outputs": [
    {
     "data": {
      "text/html": [
       "<div>\n",
       "<style scoped>\n",
       "    .dataframe tbody tr th:only-of-type {\n",
       "        vertical-align: middle;\n",
       "    }\n",
       "\n",
       "    .dataframe tbody tr th {\n",
       "        vertical-align: top;\n",
       "    }\n",
       "\n",
       "    .dataframe thead th {\n",
       "        text-align: right;\n",
       "    }\n",
       "</style>\n",
       "<table border=\"1\" class=\"dataframe\">\n",
       "  <thead>\n",
       "    <tr style=\"text-align: right;\">\n",
       "      <th></th>\n",
       "      <th>feature</th>\n",
       "      <th>coef</th>\n",
       "    </tr>\n",
       "  </thead>\n",
       "  <tbody>\n",
       "    <tr>\n",
       "      <th>0</th>\n",
       "      <td>amountspent_avg_M_2</td>\n",
       "      <td>0.252252</td>\n",
       "    </tr>\n",
       "    <tr>\n",
       "      <th>1</th>\n",
       "      <td>amountspent_avg_M_3</td>\n",
       "      <td>-0.197252</td>\n",
       "    </tr>\n",
       "    <tr>\n",
       "      <th>2</th>\n",
       "      <td>amountspent_avg_M_4</td>\n",
       "      <td>-0.377477</td>\n",
       "    </tr>\n",
       "    <tr>\n",
       "      <th>3</th>\n",
       "      <td>amountspent_avg_M_5</td>\n",
       "      <td>-0.471333</td>\n",
       "    </tr>\n",
       "    <tr>\n",
       "      <th>4</th>\n",
       "      <td>amountspent_avg_M_6</td>\n",
       "      <td>-0.188528</td>\n",
       "    </tr>\n",
       "    <tr>\n",
       "      <th>5</th>\n",
       "      <td>amountspent_avg_M_7</td>\n",
       "      <td>-0.084038</td>\n",
       "    </tr>\n",
       "    <tr>\n",
       "      <th>6</th>\n",
       "      <td>amountspent_avg_M_8</td>\n",
       "      <td>0.060730</td>\n",
       "    </tr>\n",
       "    <tr>\n",
       "      <th>7</th>\n",
       "      <td>amountspent_avg_M_9</td>\n",
       "      <td>0.003872</td>\n",
       "    </tr>\n",
       "    <tr>\n",
       "      <th>8</th>\n",
       "      <td>amountspent_count_M_2</td>\n",
       "      <td>82.487711</td>\n",
       "    </tr>\n",
       "    <tr>\n",
       "      <th>9</th>\n",
       "      <td>amountspent_count_M_3</td>\n",
       "      <td>120.916067</td>\n",
       "    </tr>\n",
       "    <tr>\n",
       "      <th>10</th>\n",
       "      <td>amountspent_count_M_4</td>\n",
       "      <td>-105.468129</td>\n",
       "    </tr>\n",
       "    <tr>\n",
       "      <th>11</th>\n",
       "      <td>amountspent_count_M_5</td>\n",
       "      <td>-54.580386</td>\n",
       "    </tr>\n",
       "    <tr>\n",
       "      <th>12</th>\n",
       "      <td>amountspent_count_M_6</td>\n",
       "      <td>-65.299712</td>\n",
       "    </tr>\n",
       "    <tr>\n",
       "      <th>13</th>\n",
       "      <td>amountspent_count_M_7</td>\n",
       "      <td>-35.462233</td>\n",
       "    </tr>\n",
       "    <tr>\n",
       "      <th>14</th>\n",
       "      <td>amountspent_count_M_8</td>\n",
       "      <td>-17.926029</td>\n",
       "    </tr>\n",
       "    <tr>\n",
       "      <th>15</th>\n",
       "      <td>amountspent_count_M_9</td>\n",
       "      <td>11.639812</td>\n",
       "    </tr>\n",
       "    <tr>\n",
       "      <th>16</th>\n",
       "      <td>amountspent_sum_M_2</td>\n",
       "      <td>0.150925</td>\n",
       "    </tr>\n",
       "    <tr>\n",
       "      <th>17</th>\n",
       "      <td>amountspent_sum_M_3</td>\n",
       "      <td>0.093192</td>\n",
       "    </tr>\n",
       "    <tr>\n",
       "      <th>18</th>\n",
       "      <td>amountspent_sum_M_4</td>\n",
       "      <td>0.398373</td>\n",
       "    </tr>\n",
       "    <tr>\n",
       "      <th>19</th>\n",
       "      <td>amountspent_sum_M_5</td>\n",
       "      <td>0.551039</td>\n",
       "    </tr>\n",
       "    <tr>\n",
       "      <th>20</th>\n",
       "      <td>amountspent_sum_M_6</td>\n",
       "      <td>0.067141</td>\n",
       "    </tr>\n",
       "    <tr>\n",
       "      <th>21</th>\n",
       "      <td>amountspent_sum_M_7</td>\n",
       "      <td>-0.040408</td>\n",
       "    </tr>\n",
       "    <tr>\n",
       "      <th>22</th>\n",
       "      <td>amountspent_sum_M_8</td>\n",
       "      <td>-0.007380</td>\n",
       "    </tr>\n",
       "    <tr>\n",
       "      <th>23</th>\n",
       "      <td>amountspent_sum_M_9</td>\n",
       "      <td>-0.002893</td>\n",
       "    </tr>\n",
       "  </tbody>\n",
       "</table>\n",
       "</div>"
      ],
      "text/plain": [
       "                  feature        coef\n",
       "0     amountspent_avg_M_2    0.252252\n",
       "1     amountspent_avg_M_3   -0.197252\n",
       "2     amountspent_avg_M_4   -0.377477\n",
       "3     amountspent_avg_M_5   -0.471333\n",
       "4     amountspent_avg_M_6   -0.188528\n",
       "5     amountspent_avg_M_7   -0.084038\n",
       "6     amountspent_avg_M_8    0.060730\n",
       "7     amountspent_avg_M_9    0.003872\n",
       "8   amountspent_count_M_2   82.487711\n",
       "9   amountspent_count_M_3  120.916067\n",
       "10  amountspent_count_M_4 -105.468129\n",
       "11  amountspent_count_M_5  -54.580386\n",
       "12  amountspent_count_M_6  -65.299712\n",
       "13  amountspent_count_M_7  -35.462233\n",
       "14  amountspent_count_M_8  -17.926029\n",
       "15  amountspent_count_M_9   11.639812\n",
       "16    amountspent_sum_M_2    0.150925\n",
       "17    amountspent_sum_M_3    0.093192\n",
       "18    amountspent_sum_M_4    0.398373\n",
       "19    amountspent_sum_M_5    0.551039\n",
       "20    amountspent_sum_M_6    0.067141\n",
       "21    amountspent_sum_M_7   -0.040408\n",
       "22    amountspent_sum_M_8   -0.007380\n",
       "23    amountspent_sum_M_9   -0.002893"
      ]
     },
     "execution_count": 55,
     "metadata": {},
     "output_type": "execute_result"
    }
   ],
   "source": [
    "# Showing my Coefficients per feature in a DataFrame\n",
    "\n",
    "\n",
    "\n",
    "coef = pd.DataFrame(list(zip(all_features, LR.coef_)))\n",
    "coef.columns = ['feature', 'coef']\n",
    "\n",
    "coef"
   ]
  },
  {
   "cell_type": "code",
   "execution_count": 56,
   "metadata": {},
   "outputs": [],
   "source": [
    "# lets see how our model works on input data\n",
    "\n",
    "\n",
    "YPredictions_Traindata = LR.predict(x_train)\n",
    "YPredictions_Testdata = LR.predict(x_test)"
   ]
  },
  {
   "cell_type": "code",
   "execution_count": 500,
   "metadata": {},
   "outputs": [],
   "source": [
    "# Import libraries for performance acessment\n",
    "\n",
    "from sklearn.metrics import r2_score, median_absolute_error, mean_absolute_error, mean_squared_error"
   ]
  },
  {
   "cell_type": "code",
   "execution_count": 497,
   "metadata": {},
   "outputs": [
    {
     "name": "stdout",
     "output_type": "stream",
     "text": [
      "Train data R-Squared: 0.3941\n",
      "Test data R-Squared: 0.2226\n"
     ]
    }
   ],
   "source": [
    "# Now lets compare R-Squared Performance on Training and Test Datasets\n",
    "\n",
    "\n",
    "# The R-squared value, denoted by R 2, is the square of the correlation. It measures the proportion of variation in the \n",
    "# dependent variable that can be attributed to the independent variable. The R-squared value R 2 is always between 0 and 1 \n",
    "# inclusive. ... Correlation r = 0.9; R=squared = 0.81.\n",
    "\n",
    "\n",
    "\n",
    "print('Train data R-Squared: %0.4f' % r2_score(y_true = y_train, y_pred = YPredictions_Traindata))\n",
    "print('Test data R-Squared: %0.4f' % r2_score(y_true = y_test, y_pred = YPredictions_Testdata))"
   ]
  },
  {
   "cell_type": "code",
   "execution_count": 498,
   "metadata": {},
   "outputs": [
    {
     "name": "stdout",
     "output_type": "stream",
     "text": [
      "Train data MSE: 170.7449\n",
      "Test data MSE: 175.3203\n"
     ]
    }
   ],
   "source": [
    "# Now lets compare MSE on Training and Test Datasets\n",
    "\n",
    "print('Train data MSE: %0.4f' % median_absolute_error(y_true = y_train, y_pred = YPredictions_Traindata))\n",
    "print('Test data MSE: %0.4f' % median_absolute_error(y_true = y_test, y_pred = YPredictions_Testdata))"
   ]
  },
  {
   "cell_type": "code",
   "execution_count": 501,
   "metadata": {},
   "outputs": [
    {
     "name": "stdout",
     "output_type": "stream",
     "text": [
      "Train data MAE: 380.43184239267475\n",
      "Test data MAE: 398.05270316985644\n"
     ]
    }
   ],
   "source": [
    "print(\"Train data MAE:\", mean_absolute_error(y_true = y_train, y_pred = YPredictions_Traindata))\n",
    "print(\"Test data MAE:\", mean_absolute_error(y_true = y_test, y_pred = YPredictions_Testdata))"
   ]
  },
  {
   "cell_type": "code",
   "execution_count": 505,
   "metadata": {},
   "outputs": [
    {
     "name": "stdout",
     "output_type": "stream",
     "text": [
      "Train data RMSE: 2820.478832356188\n",
      "Test data RMSE: 1698.4270796150554\n"
     ]
    }
   ],
   "source": [
    "print(\"Train data RMSE:\", np.sqrt(mean_squared_error(y_true = y_train, y_pred = YPredictions_Traindata)))\n",
    "print(\"Test data RMSE:\", np.sqrt(mean_squared_error(y_true = y_test, y_pred = YPredictions_Testdata))) \n"
   ]
  },
  {
   "cell_type": "markdown",
   "metadata": {},
   "source": [
    "**** Train/test split have its dangers. What if the split we make isn’t random? \n",
    "\n",
    "What if one subset of our data has only people from a certain Country but not others or only people purchased at a certain time?\n",
    "\n",
    "This will result in overfitting, even though we’re trying to avoid it! This is where cross validation comes in."
   ]
  },
  {
   "cell_type": "markdown",
   "metadata": {},
   "source": [
    "we can perform something called cross validation. It’s very similar to train/test split, but it’s applied to more subsets. Meaning, we split our data into k subsets, and train on k-1 one of those subset. What we do is to hold the last subset for test. We’re able to do it for each of the subsets."
   ]
  },
  {
   "cell_type": "markdown",
   "metadata": {},
   "source": [
    "************************************************\n",
    "How many folds? Well, the more folds we have, we will be reducing the error due the bias but increasing the error due to variance; the computational price would go up too, obviously — the more folds you have, the longer it would take to compute it and you would need more memory. With a lower number of folds, we’re reducing the error due to variance, but the error due to bias would be bigger. It’s would also computationally cheaper. Therefore, in big datasets, k=3 is usually advised."
   ]
  },
  {
   "cell_type": "code",
   "execution_count": null,
   "metadata": {},
   "outputs": [],
   "source": []
  },
  {
   "cell_type": "code",
   "execution_count": null,
   "metadata": {},
   "outputs": [],
   "source": []
  },
  {
   "cell_type": "code",
   "execution_count": null,
   "metadata": {},
   "outputs": [],
   "source": []
  },
  {
   "cell_type": "code",
   "execution_count": 71,
   "metadata": {},
   "outputs": [
    {
     "ename": "NameError",
     "evalue": "name 'data' is not defined",
     "output_type": "error",
     "traceback": [
      "\u001b[1;31m---------------------------------------------------------------------------\u001b[0m",
      "\u001b[1;31mNameError\u001b[0m                                 Traceback (most recent call last)",
      "\u001b[1;32m<ipython-input-71-77b7d10ca12b>\u001b[0m in \u001b[0;36m<module>\u001b[1;34m\u001b[0m\n\u001b[0;32m     19\u001b[0m \u001b[0mkfold\u001b[0m \u001b[1;33m=\u001b[0m \u001b[0mKFold\u001b[0m\u001b[1;33m(\u001b[0m\u001b[1;36m5\u001b[0m\u001b[1;33m,\u001b[0m \u001b[1;32mTrue\u001b[0m\u001b[1;33m,\u001b[0m \u001b[1;36m1\u001b[0m\u001b[1;33m)\u001b[0m\u001b[1;33m\u001b[0m\u001b[1;33m\u001b[0m\u001b[0m\n\u001b[0;32m     20\u001b[0m \u001b[1;31m# enumerate splits\u001b[0m\u001b[1;33m\u001b[0m\u001b[1;33m\u001b[0m\u001b[1;33m\u001b[0m\u001b[0m\n\u001b[1;32m---> 21\u001b[1;33m \u001b[1;32mfor\u001b[0m \u001b[0mtrain\u001b[0m\u001b[1;33m,\u001b[0m \u001b[0mtest\u001b[0m \u001b[1;32min\u001b[0m \u001b[0mkfold\u001b[0m\u001b[1;33m.\u001b[0m\u001b[0msplit\u001b[0m\u001b[1;33m(\u001b[0m\u001b[0mdata\u001b[0m\u001b[1;33m)\u001b[0m\u001b[1;33m:\u001b[0m\u001b[1;33m\u001b[0m\u001b[1;33m\u001b[0m\u001b[0m\n\u001b[0m\u001b[0;32m     22\u001b[0m \u001b[1;33m\u001b[0m\u001b[0m\n\u001b[0;32m     23\u001b[0m \u001b[1;33m\u001b[0m\u001b[0m\n",
      "\u001b[1;31mNameError\u001b[0m: name 'data' is not defined"
     ]
    }
   ],
   "source": [
    "\n",
    "# cross validation method?\n",
    "\n",
    "\n",
    "from sklearn.datasets import load_boston\n",
    "from sklearn.model_selection import train_test_split\n",
    "from sklearn.model_selection import KFold\n",
    "\n",
    "target_var = 'CLV_'+clv_freq\n",
    "\n",
    "all_features = [x for x in sample_set_df.columns if x not in ['CustomerID', 'amountspent_sum_M_7', 'amountspent_sum_M_9', target_var]]\n",
    "\n",
    "\n",
    "\n",
    "# Spliting data in Train and Test\n",
    "x_train, x_test, y_train, y_test = train_test_split(sample_set_df[all_features], sample_set_df[target_var], test_size=0.3)\n",
    "\n",
    "\n",
    "# prepare cross validation\n",
    "kfold = KFold(5, True, 1)\n",
    "# enumerate splits\n",
    "for train, test in kfold.split(data):\n",
    "\n",
    "\n",
    "\n",
    "# Model Fitting\n",
    " LR2 = LinearRegression()\n",
    " LR2.fit(x_train, y_train)\n",
    "\n",
    "\n",
    "\n",
    "\n",
    " Y2Predictions_Traindata = LR2.predict(x_train)\n",
    " Y2Predictions_Testdata = LR2.predict(x_test)\n",
    "\n",
    "\n",
    "\n",
    "from sklearn.metrics import r2_score, median_absolute_error\n",
    "\n",
    "\n",
    "\n",
    "\n",
    "print('Train data R-Squared: %0.4f' % r2_score(y_true = y_train, y_pred = Y2Predictions_Traindata))\n",
    "print('Test data R-Squared: %0.4f' % r2_score(y_true = y_test, y_pred = Y2Predictions_Testdata))\n",
    "\n",
    "\n",
    "\n",
    "print('Train data MSE: %0.4f' % median_absolute_error(y_true = y_train, y_pred = Y2Predictions_Traindata))\n",
    "print('Test data MSE: %0.4f' % median_absolute_error(y_true = y_test, y_pred = Y2Predictions_Testdata))\n"
   ]
  },
  {
   "cell_type": "code",
   "execution_count": null,
   "metadata": {},
   "outputs": [],
   "source": []
  },
  {
   "cell_type": "code",
   "execution_count": null,
   "metadata": {},
   "outputs": [],
   "source": [
    "# CV pure code with Inner and Outer loop:\n",
    "    \n",
    "    \n",
    "#Load libraries\n",
    "\n",
    "from sklearn.model_selection import StratifiedKFold\n",
    "from sklearn.ensemble import RandomForestClassifier\n",
    "from sklearn.model_selection import cross_val_score, KFold\n",
    "from sklearn.model_selection import KFold\n",
    "from sklearn.linear_model import LinearRegression\n",
    "from sklearn.metrics import r2_score\n",
    "\n",
    "import matplotlib.pyplot as plt\n",
    "import warnings\n",
    "%matplotlib inline\n",
    "warnings.filterwarnings(\"ignore\")\n",
    "\n",
    "#Load data\n",
    "target_var = 'CLV_'+clv_freq\n",
    "\n",
    "all_features = [x for x in sample_set_df.columns if x not in ['CustomerID','amountspent_sum_M_4', 'amountspent_sum_M_7', 'amountspent_sum_M_8', target_var]]\n",
    "X,y = sample_set_df[all_features], sample_set_df[target_var]\n",
    "\n",
    "#X.shape, y.shape\n",
    "\n",
    "\n",
    "\n",
    "\n",
    "rounds=10\n",
    "N_split=7\n",
    "\n",
    "\n",
    "outer_training_scores = np.zeros(rounds)\n",
    "outer_validation_score = np.zeros(rounds)\n",
    "nested_validation_scores = np.zeros(N_split)\n",
    "nested_training_score = np.zeros(N_split)\n",
    "\n",
    "x_train_base=[]\n",
    "x_test_base=[]\n",
    "y_train_base=[]\n",
    "y_test_base=[]\n",
    "\n",
    "\n",
    "\n",
    "\n",
    "for sead in range(rounds):\n",
    "    XTrain, XTest, YTrain, YTest = train_test_split(sample_set_df[all_features], sample_set_df[target_var], random_state=sead, test_size=0.3)\n",
    "\n",
    "############################################################333\n",
    "# for not getting \" Got'continuous target' instead of Multiclass\" in kf7 loop I need to do this encoding\n",
    "    \n",
    "    from sklearn.preprocessing import LabelEncoder\n",
    "    label_encoder = LabelEncoder()\n",
    "    YTrain = label_encoder.fit_transform(YTrain)   \n",
    "##################################################################\n",
    "\n",
    " \n",
    "   \n",
    "    kf7= StratifiedKFold(n_splits=N_split, shuffle=True, random_state=sead)\n",
    "    \n",
    "    i=1\n",
    "    for train_index, test_index in kf7.split(XTrain, YTrain):\n",
    "        \n",
    "        \n",
    "        x_train, x_test = XTrain[train_index,:], XTrain[test_index,:]\n",
    "        y_train, y_test = YTrain[train_index,:], YTrain[test_index,:]\n",
    "        \n",
    "        \n",
    "        x_train_base.append(x_train)\n",
    "        x_test_base.append(x_test)\n",
    "        y_train_base.append(y_train)\n",
    "        y_test_base.append(y_test)\n",
    "    \n",
    "        LR=model.fit(x_train, y_train) \n",
    "        YPredictions_Traindata = LR.predict(x_train)\n",
    "        YPredictions_Testdata = LR.predict(x_test)\n",
    "        \n",
    "        \n",
    "\n",
    "    \n",
    "        nested_training_scores.append(r2_score(y_true = y_train, y_pred = YPredictions_Traindata))\n",
    "        nested_validation_scores.append(r2_score(y_true = y_test, y_pred = YPredictions_Testdata))\n",
    "  \n",
    "    i=+1\n",
    "    \n",
    "    \n",
    "# Here I nees to take the strongest of every repeat and test with the XTest and YTest   \n",
    "    ii=np.argmax(nested_validation_scores)\n",
    "    j=ii-1\n",
    "    \n",
    "  \n",
    "    \n",
    "#I stored all the train and test data and here recoverd the strongest one. \n",
    "# however, it was possible to store just the indecis generated in each fold and rebuild the test and train data here.\n",
    "# the latter may get lower capacity becaus we store 2 series of indecis instead of 4 searies of values\n",
    "\n",
    "\n",
    "# now again I train the same model but test it in the outer loop:\n",
    "    LR=model.fit(x_train_base[j], y_train_base[j]) \n",
    "    YPredictions_Traindata = LR.predict(XTrain)\n",
    "    YPredictions_Testdata = LR.predict(XTest)\n",
    "    \n",
    "    outer_training_scores.append(r2_score(y_true = y_train, y_pred = YPredictions_Traindata))\n",
    "    outer_validation_scores.append(r2_score(y_true = YTest, y_pred = YPredictions_Testdata))\n",
    "\n",
    "print('Train data R-Squared: %0.4f' % np.mean(outer_training_scores))\n",
    "print('Test data R-Squared: %0.4f' % np.mean(outer_validation_scores))\n",
    "    \n",
    "    \n",
    "    \n",
    "    "
   ]
  },
  {
   "cell_type": "code",
   "execution_count": null,
   "metadata": {},
   "outputs": [],
   "source": [
    "#trainindex=pd.DataFrame() \n",
    "#testindex=pd.DataFrame() \n",
    "#itrain=np.zeros(N_split)\n",
    "#itest=np.zeros(N_split)\n",
    "\n",
    "\n",
    "# for train_index, test_index in kf3.split(sample_set_df):  print(train_index, test_index)\n",
    "\n",
    "# for train_index, test_index in kf3.split(sample_set_df):  print(np.take(sample_set_df,train_index), np.take(sample_set_df,test_index))\n",
    "\n",
    "\n",
    "#X.to_numpy()   \n",
    "    \n",
    "        #z = np.array([x, y])\n",
    "        # print(np.take(rn,train_index), np.take(rn,test_index))\n",
    "        # trainindex[i]=train_index\n",
    "        #itrain.append(train_index) , itest.append(test_index)\n",
    "        #dfObj.iloc[ 0:2 , : ]\n",
    "        \n",
    "#test_data = splitted_dataframe.iloc[test_index]\n",
    "\n",
    "\n",
    "\n",
    "# print(f\" R-sq for the fold no. {i} on the test set: {r2_score(y_true = y_test, y_pred = YPredictions_Testdata)}\") \n",
    "# also we could use cross_validate to specify metrics\n",
    "#for i, score in enumerate(cross_validate(model, X,y, cv=3)[\"test_score\"]):\n",
    "    #print(f\"accuracy for the fold no. {i} on the test set: {score}\")  \n",
    "    \n",
    "#or nested_score[i]=.....    \n",
    "# np.mean(nested_test)\n",
    "    \n",
    "# print(f\" ave R-sq of KFold for iteration no. {sead} on the test set: {np.mean(,...ed_scores)}\")  \n",
    "    \n",
    "# other structure:  outer_test[i]= np.max(nested_test) or=nested_test.mean() or clf.best_score_\n",
    "\n",
    "    \n",
    "    \n",
    "\n",
    "# nested_score = cross_val_score(clf, X=X, y=y, cv=stratifiesKFold)\n",
    "# Stratified\n",
    "        \n",
    "    "
   ]
  },
  {
   "cell_type": "code",
   "execution_count": null,
   "metadata": {},
   "outputs": [],
   "source": []
  },
  {
   "cell_type": "code",
   "execution_count": null,
   "metadata": {},
   "outputs": [],
   "source": [
    "# a wrong grid search for RFM\n",
    "\n",
    "\n",
    "#Load libraries\n",
    "import numpy as np\n",
    "import pandas as pd\n",
    "from sklearn.datasets import load_wine\n",
    "from sklearn.model_selection import StratifiedKFold\n",
    "from sklearn.ensemble import RandomForestRegressor\n",
    "from sklearn.model_selection import cross_val_score, GridSearchCV, KFold\n",
    "\n",
    "\n",
    "\n",
    "import matplotlib.pyplot as plt\n",
    "import warnings\n",
    "%matplotlib inline\n",
    "warnings.filterwarnings(\"ignore\")\n",
    "\n",
    "\n",
    "#Load data\n",
    "target_var = 'CLV_'+clv_freq\n",
    "\n",
    "all_features = [x for x in sample_set_df.columns if x not in ['CustomerID','amountspent_sum_M_4', 'amountspent_sum_M_7', 'amountspent_sum_M_8', target_var]]\n",
    "X,y = sample_set_df[all_features], sample_set_df[target_var]\n",
    "\n",
    "\n",
    "\n",
    "\n",
    "\n",
    "#Set a seed to ensure reproducibility\n",
    "seed = 42\n",
    "\n",
    "#Instantiate the Random Forest classifier\n",
    "rf = RandomForestRegressor(random_state=seed)\n",
    "\n",
    "#Number of rounds\n",
    "rounds = 12\n",
    "\n",
    "\n",
    "\n",
    "#Define the hyperparameter grid\n",
    "rf_param_grid = {'max_depth': [10, 50],\n",
    "                'n_estimators': [100, 200, 400]}\n",
    "\n",
    "#Create arrays to store the scores\n",
    "outer_scores = np.zeros(rounds)\n",
    "nested_scores = np.zeros(rounds)\n",
    "\n",
    "\n",
    "# Loop for each round\n",
    "for i in range(rounds):\n",
    "\n",
    "   #Define both cross-validation objects (inner & outer)\n",
    "   inner_cv = StratifiedKFold(n_splits=7, shuffle=True, random_state=i)\n",
    "   outer_cv = StratifiedKFold(n_splits=7, shuffle=True, random_state=i)\n",
    "\n",
    "   # Non-nested parameter search and scoring\n",
    "   clf = GridSearchCV(estimator=rf, param_grid=rf_param_grid, cv=inner_cv)\n",
    "   clf.fit(X, y)\n",
    "   outer_scores[i] = clf.best_score_\n",
    "\n",
    "   # Nested CV with parameter optimization\n",
    "   nested_score = cross_val_score(clf, X=X, y=y, cv=outer_cv)\n",
    "   nested_scores[i] = nested_score.mean()\n",
    "    \n",
    "    \n",
    "    \n",
    "\n",
    "#Take the difference from the non-nested and nested scores\n",
    "score_difference = outer_scores - nested_scores\n",
    "\n",
    "print(\"Avg. difference of {:6f} with std. dev. of {:6f}.\"\n",
    "      .format(score_difference.mean(), score_difference.std()))    "
   ]
  },
  {
   "cell_type": "code",
   "execution_count": null,
   "metadata": {},
   "outputs": [],
   "source": []
  },
  {
   "cell_type": "code",
   "execution_count": null,
   "metadata": {},
   "outputs": [],
   "source": [
    "from sklearn.model_selection import KFold # import KFold\n",
    "\n",
    "target_var = 'CLV_'+clv_freq\n",
    "all_features = [x for x in sample_set_df.columns if x not in ['CustomerID', 'amountspent_sum_M_7', 'amountspent_sum_M_9', target_var]]\n",
    "X,y = sample_set_df[all_features], sample_set_df[target_var]\n",
    "\n",
    "kf = KFold(n_splits=10) # Define the split - into 2 folds \n",
    "\n",
    "kf.get_n_splits(X) # returns the number of splitting iterations in the cross-validator\n",
    "\n",
    "for train_index, test_index in kf.split(X):\n",
    "    X_train, X_test = X[train_index], X[test_index]\n",
    "    y_train, y_test = y[train_index], y[test_index]\n",
    "    \n",
    "# Model Fitting\n",
    "LR = LinearRegression()\n",
    "LR.fit(x_train, y_train)   \n",
    "\n",
    "####Na! inke dareh faghat x ro taghsim mikoneh o dar mohasebeh lahaz mikoneh ke!\n",
    "##### koja nesbat e train o test ro goftim?\n",
    "\n",
    "\n",
    "print('Train data R-Squared: %0.4f' % r2_score(y_true = y_train, y_pred = YPredictions_Traindata))\n",
    "print('Test data R-Squared: %0.4f' % r2_score(y_true = y_test, y_pred = YPredictions_Testdata))"
   ]
  },
  {
   "cell_type": "code",
   "execution_count": null,
   "metadata": {},
   "outputs": [],
   "source": []
  }
 ],
 "metadata": {
  "kernelspec": {
   "display_name": "Python 3",
   "language": "python",
   "name": "python3"
  },
  "language_info": {
   "codemirror_mode": {
    "name": "ipython",
    "version": 3
   },
   "file_extension": ".py",
   "mimetype": "text/x-python",
   "name": "python",
   "nbconvert_exporter": "python",
   "pygments_lexer": "ipython3",
   "version": "3.8.3"
  }
 },
 "nbformat": 4,
 "nbformat_minor": 4
}
